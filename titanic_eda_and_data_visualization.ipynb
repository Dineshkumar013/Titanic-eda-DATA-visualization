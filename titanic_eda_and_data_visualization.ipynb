{
  "nbformat": 4,
  "nbformat_minor": 0,
  "metadata": {
    "kernelspec": {
      "language": "python",
      "display_name": "Python 3",
      "name": "python3"
    },
    "language_info": {
      "name": "python",
      "version": "3.7.6",
      "mimetype": "text/x-python",
      "codemirror_mode": {
        "name": "ipython",
        "version": 3
      },
      "pygments_lexer": "ipython3",
      "nbconvert_exporter": "python",
      "file_extension": ".py"
    },
    "colab": {
      "name": "titanic-eda-and-data-visualization.ipynb",
      "provenance": [],
      "include_colab_link": true
    }
  },
  "cells": [
    {
      "cell_type": "markdown",
      "metadata": {
        "id": "view-in-github",
        "colab_type": "text"
      },
      "source": [
        "<a href=\"https://colab.research.google.com/github/Dineshkumar013/Titanic-eda-DATA-visualization/blob/main/titanic_eda_and_data_visualization.ipynb\" target=\"_parent\"><img src=\"https://colab.research.google.com/assets/colab-badge.svg\" alt=\"Open In Colab\"/></a>"
      ]
    },
    {
      "cell_type": "markdown",
      "metadata": {
        "id": "S6jbtC1JLy_3"
      },
      "source": [
        "<h2 style='background:#FFFFFF; border:0; color:black'><center>Titanic: <span style=\"color:red\">EDA</span> and <span style=\"color:blue\">Data Visualization</span><center><h2>"
      ]
    },
    {
      "cell_type": "markdown",
      "metadata": {
        "id": "WU8zQQcQLzAA"
      },
      "source": [
        "![](https://upload.wikimedia.org/wikipedia/commons/f/fd/RMS_Titanic_3.jpg)\n",
        "* [Image Source](https://en.wikipedia.org/wiki/Titanic)"
      ]
    },
    {
      "cell_type": "markdown",
      "metadata": {
        "_uuid": "d629ff2d2480ee46fbb7e2d37f6b5fab8052498a",
        "_cell_guid": "79c7e3d0-c299-4dcb-8224-4455121ee9b0",
        "id": "oxdBwMAHLzAC"
      },
      "source": [
        "* In this notebook, we visualize and analyze titanic data by using Plotly.\n",
        "* If you like this notebook, please **give an upvote!**.\n",
        "* Reference:  [Plotly Official Website](https://plotly.com/)"
      ]
    },
    {
      "cell_type": "markdown",
      "metadata": {
        "id": "qpY536QLLzAK"
      },
      "source": [
        "<h2 style='background:#FFFFFF; border:0; color:black'><center>What is \"Plotly\"?<center><h2>"
      ]
    },
    {
      "cell_type": "markdown",
      "metadata": {
        "id": "7iVQPHVDLzAT"
      },
      "source": [
        "* **Plotly** is one of the most popular data visualization library.\n",
        "* Among kagglers, matplotlib or seaborn are more popular, but I recommend Plotly.\n",
        "* This is because that you can draw beautiful graphs easily by using Plotly."
      ]
    },
    {
      "cell_type": "code",
      "metadata": {
        "_uuid": "8f2839f25d086af736a60e9eeb907d3b93b6e0e5",
        "_cell_guid": "b1076dfc-b9ad-4769-8c92-a6c4dae69d19",
        "_kg_hide-input": true,
        "execution": {
          "iopub.status.busy": "2021-10-27T19:15:13.516192Z",
          "iopub.execute_input": "2021-10-27T19:15:13.516897Z",
          "iopub.status.idle": "2021-10-27T19:15:13.525300Z",
          "shell.execute_reply.started": "2021-10-27T19:15:13.516845Z",
          "shell.execute_reply": "2021-10-27T19:15:13.524552Z"
        },
        "trusted": true,
        "id": "WZfzRI-MLzAU"
      },
      "source": [
        ""
      ],
      "execution_count": null,
      "outputs": []
    },
    {
      "cell_type": "markdown",
      "metadata": {
        "id": "383tVmg-LzAZ"
      },
      "source": [
        "# import libraries"
      ]
    },
    {
      "cell_type": "code",
      "metadata": {
        "execution": {
          "iopub.status.busy": "2021-10-27T19:15:13.530623Z",
          "iopub.execute_input": "2021-10-27T19:15:13.530937Z",
          "iopub.status.idle": "2021-10-27T19:15:14.570109Z",
          "shell.execute_reply.started": "2021-10-27T19:15:13.530907Z",
          "shell.execute_reply": "2021-10-27T19:15:14.569186Z"
        },
        "trusted": true,
        "id": "9riCU2KSLzAb"
      },
      "source": [
        "import numpy as np\n",
        "import pandas as pd\n",
        "import plotly.express as px\n",
        "import matplotlib.pyplot as plt\n",
        "import seaborn as sns\n",
        "import plotly.graph_objects as go"
      ],
      "execution_count": null,
      "outputs": []
    },
    {
      "cell_type": "markdown",
      "metadata": {
        "id": "BUNMLaIkLzAd"
      },
      "source": [
        "# Reading csv files"
      ]
    },
    {
      "cell_type": "code",
      "metadata": {
        "execution": {
          "iopub.status.busy": "2021-10-27T19:15:49.475779Z",
          "iopub.execute_input": "2021-10-27T19:15:49.476113Z",
          "iopub.status.idle": "2021-10-27T19:15:49.488323Z",
          "shell.execute_reply.started": "2021-10-27T19:15:49.476085Z",
          "shell.execute_reply": "2021-10-27T19:15:49.487085Z"
        },
        "trusted": true,
        "id": "f7zN1xQlLzAg"
      },
      "source": [
        "train = pd.read_csv('/content/train.csv')\n"
      ],
      "execution_count": null,
      "outputs": []
    },
    {
      "cell_type": "code",
      "metadata": {
        "_kg_hide-input": true,
        "execution": {
          "iopub.status.busy": "2021-10-27T19:15:14.607202Z",
          "iopub.execute_input": "2021-10-27T19:15:14.607649Z",
          "iopub.status.idle": "2021-10-27T19:15:14.636514Z",
          "shell.execute_reply.started": "2021-10-27T19:15:14.607603Z",
          "shell.execute_reply": "2021-10-27T19:15:14.635668Z"
        },
        "trusted": true,
        "colab": {
          "base_uri": "https://localhost:8080/",
          "height": 272
        },
        "id": "tORf9IXWLzAh",
        "outputId": "3ae346e4-870b-4059-a82c-d892c7bea822"
      },
      "source": [
        "train.head()"
      ],
      "execution_count": null,
      "outputs": [
        {
          "output_type": "execute_result",
          "data": {
            "text/html": [
              "<div>\n",
              "<style scoped>\n",
              "    .dataframe tbody tr th:only-of-type {\n",
              "        vertical-align: middle;\n",
              "    }\n",
              "\n",
              "    .dataframe tbody tr th {\n",
              "        vertical-align: top;\n",
              "    }\n",
              "\n",
              "    .dataframe thead th {\n",
              "        text-align: right;\n",
              "    }\n",
              "</style>\n",
              "<table border=\"1\" class=\"dataframe\">\n",
              "  <thead>\n",
              "    <tr style=\"text-align: right;\">\n",
              "      <th></th>\n",
              "      <th>PassengerId</th>\n",
              "      <th>Survived</th>\n",
              "      <th>Pclass</th>\n",
              "      <th>Name</th>\n",
              "      <th>Sex</th>\n",
              "      <th>Age</th>\n",
              "      <th>SibSp</th>\n",
              "      <th>Parch</th>\n",
              "      <th>Ticket</th>\n",
              "      <th>Fare</th>\n",
              "      <th>Cabin</th>\n",
              "      <th>Embarked</th>\n",
              "    </tr>\n",
              "  </thead>\n",
              "  <tbody>\n",
              "    <tr>\n",
              "      <th>0</th>\n",
              "      <td>1</td>\n",
              "      <td>0</td>\n",
              "      <td>3</td>\n",
              "      <td>Braund, Mr. Owen Harris</td>\n",
              "      <td>male</td>\n",
              "      <td>22.0</td>\n",
              "      <td>1</td>\n",
              "      <td>0</td>\n",
              "      <td>A/5 21171</td>\n",
              "      <td>7.2500</td>\n",
              "      <td>NaN</td>\n",
              "      <td>S</td>\n",
              "    </tr>\n",
              "    <tr>\n",
              "      <th>1</th>\n",
              "      <td>2</td>\n",
              "      <td>1</td>\n",
              "      <td>1</td>\n",
              "      <td>Cumings, Mrs. John Bradley (Florence Briggs Th...</td>\n",
              "      <td>female</td>\n",
              "      <td>38.0</td>\n",
              "      <td>1</td>\n",
              "      <td>0</td>\n",
              "      <td>PC 17599</td>\n",
              "      <td>71.2833</td>\n",
              "      <td>C85</td>\n",
              "      <td>C</td>\n",
              "    </tr>\n",
              "    <tr>\n",
              "      <th>2</th>\n",
              "      <td>3</td>\n",
              "      <td>1</td>\n",
              "      <td>3</td>\n",
              "      <td>Heikkinen, Miss. Laina</td>\n",
              "      <td>female</td>\n",
              "      <td>26.0</td>\n",
              "      <td>0</td>\n",
              "      <td>0</td>\n",
              "      <td>STON/O2. 3101282</td>\n",
              "      <td>7.9250</td>\n",
              "      <td>NaN</td>\n",
              "      <td>S</td>\n",
              "    </tr>\n",
              "    <tr>\n",
              "      <th>3</th>\n",
              "      <td>4</td>\n",
              "      <td>1</td>\n",
              "      <td>1</td>\n",
              "      <td>Futrelle, Mrs. Jacques Heath (Lily May Peel)</td>\n",
              "      <td>female</td>\n",
              "      <td>35.0</td>\n",
              "      <td>1</td>\n",
              "      <td>0</td>\n",
              "      <td>113803</td>\n",
              "      <td>53.1000</td>\n",
              "      <td>C123</td>\n",
              "      <td>S</td>\n",
              "    </tr>\n",
              "    <tr>\n",
              "      <th>4</th>\n",
              "      <td>5</td>\n",
              "      <td>0</td>\n",
              "      <td>3</td>\n",
              "      <td>Allen, Mr. William Henry</td>\n",
              "      <td>male</td>\n",
              "      <td>35.0</td>\n",
              "      <td>0</td>\n",
              "      <td>0</td>\n",
              "      <td>373450</td>\n",
              "      <td>8.0500</td>\n",
              "      <td>NaN</td>\n",
              "      <td>S</td>\n",
              "    </tr>\n",
              "  </tbody>\n",
              "</table>\n",
              "</div>"
            ],
            "text/plain": [
              "   PassengerId  Survived  Pclass  ...     Fare Cabin  Embarked\n",
              "0            1         0       3  ...   7.2500   NaN         S\n",
              "1            2         1       1  ...  71.2833   C85         C\n",
              "2            3         1       3  ...   7.9250   NaN         S\n",
              "3            4         1       1  ...  53.1000  C123         S\n",
              "4            5         0       3  ...   8.0500   NaN         S\n",
              "\n",
              "[5 rows x 12 columns]"
            ]
          },
          "metadata": {},
          "execution_count": 5
        }
      ]
    },
    {
      "cell_type": "code",
      "metadata": {
        "_kg_hide-input": true,
        "execution": {
          "iopub.status.busy": "2021-10-27T19:15:14.637827Z",
          "iopub.execute_input": "2021-10-27T19:15:14.638077Z",
          "iopub.status.idle": "2021-10-27T19:15:14.652778Z",
          "shell.execute_reply.started": "2021-10-27T19:15:14.638053Z",
          "shell.execute_reply": "2021-10-27T19:15:14.651874Z"
        },
        "trusted": true,
        "id": "6EkgP556LzAi"
      },
      "source": [
        ""
      ],
      "execution_count": null,
      "outputs": []
    },
    {
      "cell_type": "markdown",
      "metadata": {
        "id": "IgomgMPgLzAi"
      },
      "source": [
        "<h2 style='background:#FFFFFF; border:0; color:black'><center>Data Visualization using Plotly<center><h2>"
      ]
    },
    {
      "cell_type": "markdown",
      "metadata": {
        "id": "FpvsRq5cLzAj"
      },
      "source": [
        "# Survived or Not (train only)"
      ]
    },
    {
      "cell_type": "markdown",
      "metadata": {
        "id": "0Q8Je06lLzAj"
      },
      "source": [
        "* The column \"Survived\" is the target.\n",
        "* In titanic competition, we have to predict it.\n",
        "* If a passenger's  <span style=\"color:red\">\"Survived\" is 1</span>, it means that he/she could survive, but if <span style=\"color:blue\">it is 0</span>, it means that he/she could not survive."
      ]
    },
    {
      "cell_type": "code",
      "metadata": {
        "_kg_hide-input": true,
        "execution": {
          "iopub.status.busy": "2021-10-27T19:15:14.655743Z",
          "iopub.execute_input": "2021-10-27T19:15:14.656032Z",
          "iopub.status.idle": "2021-10-27T19:15:14.661721Z",
          "shell.execute_reply.started": "2021-10-27T19:15:14.656002Z",
          "shell.execute_reply": "2021-10-27T19:15:14.660797Z"
        },
        "trusted": true,
        "id": "wFYlOJ1gLzAj"
      },
      "source": [
        "train[\"Survived\"] = [\"Survived\" if i == 1 else \"Not Survived\" for i in train[\"Survived\"]]"
      ],
      "execution_count": null,
      "outputs": []
    },
    {
      "cell_type": "code",
      "metadata": {
        "_kg_hide-input": true,
        "execution": {
          "iopub.status.busy": "2021-10-27T19:15:14.663970Z",
          "iopub.execute_input": "2021-10-27T19:15:14.664659Z",
          "iopub.status.idle": "2021-10-27T19:15:15.740231Z",
          "shell.execute_reply.started": "2021-10-27T19:15:14.664601Z",
          "shell.execute_reply": "2021-10-27T19:15:15.739223Z"
        },
        "trusted": true,
        "colab": {
          "base_uri": "https://localhost:8080/",
          "height": 542
        },
        "id": "bAsSFNkLLzAk",
        "outputId": "5e20ba7f-ce1d-4208-ba2a-26b859297cfc"
      },
      "source": [
        "fig = px.histogram(train, x=\"Survived\",title=\"How many passengers survived?\")\n",
        "fig.show()"
      ],
      "execution_count": null,
      "outputs": [
        {
          "output_type": "display_data",
          "data": {
            "text/html": [
              "<html>\n",
              "<head><meta charset=\"utf-8\" /></head>\n",
              "<body>\n",
              "    <div>\n",
              "            <script src=\"https://cdnjs.cloudflare.com/ajax/libs/mathjax/2.7.5/MathJax.js?config=TeX-AMS-MML_SVG\"></script><script type=\"text/javascript\">if (window.MathJax) {MathJax.Hub.Config({SVG: {font: \"STIX-Web\"}});}</script>\n",
              "                <script type=\"text/javascript\">window.PlotlyConfig = {MathJaxConfig: 'local'};</script>\n",
              "        <script src=\"https://cdn.plot.ly/plotly-latest.min.js\"></script>    \n",
              "            <div id=\"f5de2fdf-bd3f-4f2d-a09c-91f08e0f2d09\" class=\"plotly-graph-div\" style=\"height:525px; width:100%;\"></div>\n",
              "            <script type=\"text/javascript\">\n",
              "                \n",
              "                    window.PLOTLYENV=window.PLOTLYENV || {};\n",
              "                    \n",
              "                if (document.getElementById(\"f5de2fdf-bd3f-4f2d-a09c-91f08e0f2d09\")) {\n",
              "                    Plotly.newPlot(\n",
              "                        'f5de2fdf-bd3f-4f2d-a09c-91f08e0f2d09',\n",
              "                        [{\"alignmentgroup\": \"True\", \"bingroup\": \"x\", \"hoverlabel\": {\"namelength\": 0}, \"hovertemplate\": \"Survived=%{x}<br>count=%{y}\", \"legendgroup\": \"\", \"marker\": {\"color\": \"#636efa\"}, \"name\": \"\", \"offsetgroup\": \"\", \"orientation\": \"v\", \"showlegend\": false, \"type\": \"histogram\", \"x\": [\"Not Survived\", \"Survived\", \"Survived\", \"Survived\", \"Not Survived\", \"Not Survived\", \"Not Survived\", \"Not Survived\", \"Survived\", \"Survived\", \"Survived\", \"Survived\", \"Not Survived\", \"Not Survived\", \"Not Survived\", \"Survived\", \"Not Survived\", \"Survived\", \"Not Survived\", \"Survived\", \"Not Survived\", \"Survived\", \"Survived\", \"Survived\", \"Not Survived\", \"Survived\", \"Not Survived\", \"Not Survived\", \"Survived\", \"Not Survived\", \"Not Survived\", \"Survived\", \"Survived\", \"Not Survived\", \"Not Survived\", \"Not Survived\", \"Survived\", \"Not Survived\", \"Not Survived\", \"Survived\", \"Not Survived\", \"Not Survived\", \"Not Survived\", \"Survived\", \"Survived\", \"Not Survived\", \"Not Survived\", \"Survived\", \"Not Survived\", \"Not Survived\", \"Not Survived\", \"Not Survived\", \"Survived\", \"Survived\", \"Not Survived\", \"Survived\", \"Survived\", \"Not Survived\", \"Survived\", \"Not Survived\", \"Not Survived\", \"Survived\", \"Not Survived\", \"Not Survived\", \"Not Survived\", \"Survived\", \"Survived\", \"Not Survived\", \"Survived\", \"Not Survived\", \"Not Survived\", \"Not Survived\", \"Not Survived\", \"Not Survived\", \"Survived\", \"Not Survived\", \"Not Survived\", \"Not Survived\", \"Survived\", \"Survived\", \"Not Survived\", \"Survived\", \"Survived\", \"Not Survived\", \"Survived\", \"Survived\", \"Not Survived\", \"Not Survived\", \"Survived\", \"Not Survived\", \"Not Survived\", \"Not Survived\", \"Not Survived\", \"Not Survived\", \"Not Survived\", \"Not Survived\", \"Not Survived\", \"Survived\", \"Survived\", \"Not Survived\", \"Not Survived\", \"Not Survived\", \"Not Survived\", \"Not Survived\", \"Not Survived\", \"Not Survived\", \"Survived\", \"Survived\", \"Not Survived\", \"Survived\", \"Not Survived\", \"Not Survived\", \"Not Survived\", \"Not Survived\", \"Not Survived\", \"Not Survived\", \"Not Survived\", \"Not Survived\", \"Not Survived\", \"Not Survived\", \"Not Survived\", \"Not Survived\", \"Not Survived\", \"Survived\", \"Not Survived\", \"Survived\", \"Not Survived\", \"Survived\", \"Survived\", \"Not Survived\", \"Not Survived\", \"Not Survived\", \"Not Survived\", \"Survived\", \"Not Survived\", \"Not Survived\", \"Survived\", \"Not Survived\", \"Not Survived\", \"Not Survived\", \"Not Survived\", \"Survived\", \"Survived\", \"Not Survived\", \"Not Survived\", \"Not Survived\", \"Survived\", \"Not Survived\", \"Not Survived\", \"Not Survived\", \"Not Survived\", \"Survived\", \"Not Survived\", \"Not Survived\", \"Not Survived\", \"Not Survived\", \"Survived\", \"Not Survived\", \"Not Survived\", \"Not Survived\", \"Not Survived\", \"Survived\", \"Not Survived\", \"Not Survived\", \"Not Survived\", \"Survived\", \"Survived\", \"Not Survived\", \"Not Survived\", \"Not Survived\", \"Not Survived\", \"Not Survived\", \"Survived\", \"Not Survived\", \"Not Survived\", \"Not Survived\", \"Not Survived\", \"Not Survived\", \"Not Survived\", \"Not Survived\", \"Not Survived\", \"Not Survived\", \"Not Survived\", \"Survived\", \"Survived\", \"Not Survived\", \"Survived\", \"Survived\", \"Not Survived\", \"Not Survived\", \"Survived\", \"Not Survived\", \"Survived\", \"Survived\", \"Survived\", \"Survived\", \"Not Survived\", \"Not Survived\", \"Survived\", \"Not Survived\", \"Not Survived\", \"Not Survived\", \"Not Survived\", \"Not Survived\", \"Survived\", \"Not Survived\", \"Not Survived\", \"Survived\", \"Survived\", \"Survived\", \"Not Survived\", \"Survived\", \"Not Survived\", \"Not Survived\", \"Not Survived\", \"Survived\", \"Survived\", \"Not Survived\", \"Survived\", \"Not Survived\", \"Survived\", \"Not Survived\", \"Not Survived\", \"Not Survived\", \"Survived\", \"Not Survived\", \"Survived\", \"Not Survived\", \"Not Survived\", \"Not Survived\", \"Survived\", \"Not Survived\", \"Not Survived\", \"Survived\", \"Not Survived\", \"Not Survived\", \"Not Survived\", \"Survived\", \"Not Survived\", \"Not Survived\", \"Not Survived\", \"Survived\", \"Not Survived\", \"Not Survived\", \"Not Survived\", \"Not Survived\", \"Not Survived\", \"Survived\", \"Survived\", \"Not Survived\", \"Not Survived\", \"Not Survived\", \"Not Survived\", \"Not Survived\", \"Not Survived\", \"Survived\", \"Survived\", \"Survived\", \"Survived\", \"Survived\", \"Not Survived\", \"Survived\", \"Not Survived\", \"Not Survived\", \"Not Survived\", \"Not Survived\", \"Not Survived\", \"Survived\", \"Survived\", \"Survived\", \"Not Survived\", \"Survived\", \"Survived\", \"Not Survived\", \"Survived\", \"Survived\", \"Not Survived\", \"Not Survived\", \"Not Survived\", \"Survived\", \"Not Survived\", \"Not Survived\", \"Not Survived\", \"Survived\", \"Not Survived\", \"Not Survived\", \"Survived\", \"Not Survived\", \"Survived\", \"Survived\", \"Survived\", \"Survived\", \"Not Survived\", \"Not Survived\", \"Not Survived\", \"Not Survived\", \"Not Survived\", \"Not Survived\", \"Survived\", \"Survived\", \"Survived\", \"Survived\", \"Not Survived\", \"Survived\", \"Not Survived\", \"Survived\", \"Survived\", \"Survived\", \"Not Survived\", \"Survived\", \"Survived\", \"Survived\", \"Not Survived\", \"Not Survived\", \"Not Survived\", \"Survived\", \"Survived\", \"Not Survived\", \"Survived\", \"Survived\", \"Not Survived\", \"Not Survived\", \"Survived\", \"Survived\", \"Not Survived\", \"Survived\", \"Not Survived\", \"Survived\", \"Survived\", \"Survived\", \"Survived\", \"Not Survived\", \"Not Survived\", \"Not Survived\", \"Survived\", \"Not Survived\", \"Not Survived\", \"Survived\", \"Survived\", \"Not Survived\", \"Survived\", \"Survived\", \"Not Survived\", \"Not Survived\", \"Not Survived\", \"Survived\", \"Survived\", \"Survived\", \"Survived\", \"Not Survived\", \"Not Survived\", \"Not Survived\", \"Not Survived\", \"Not Survived\", \"Not Survived\", \"Not Survived\", \"Survived\", \"Not Survived\", \"Survived\", \"Survived\", \"Not Survived\", \"Not Survived\", \"Not Survived\", \"Not Survived\", \"Not Survived\", \"Not Survived\", \"Survived\", \"Survived\", \"Survived\", \"Survived\", \"Survived\", \"Not Survived\", \"Not Survived\", \"Not Survived\", \"Not Survived\", \"Survived\", \"Survived\", \"Not Survived\", \"Not Survived\", \"Not Survived\", \"Survived\", \"Survived\", \"Not Survived\", \"Survived\", \"Not Survived\", \"Not Survived\", \"Not Survived\", \"Survived\", \"Not Survived\", \"Survived\", \"Survived\", \"Survived\", \"Not Survived\", \"Survived\", \"Survived\", \"Not Survived\", \"Not Survived\", \"Not Survived\", \"Not Survived\", \"Survived\", \"Survived\", \"Not Survived\", \"Not Survived\", \"Not Survived\", \"Not Survived\", \"Not Survived\", \"Not Survived\", \"Survived\", \"Not Survived\", \"Not Survived\", \"Not Survived\", \"Not Survived\", \"Survived\", \"Not Survived\", \"Survived\", \"Not Survived\", \"Survived\", \"Survived\", \"Not Survived\", \"Not Survived\", \"Not Survived\", \"Not Survived\", \"Not Survived\", \"Not Survived\", \"Not Survived\", \"Not Survived\", \"Survived\", \"Survived\", \"Not Survived\", \"Survived\", \"Survived\", \"Survived\", \"Survived\", \"Not Survived\", \"Not Survived\", \"Survived\", \"Not Survived\", \"Survived\", \"Not Survived\", \"Not Survived\", \"Survived\", \"Not Survived\", \"Not Survived\", \"Survived\", \"Survived\", \"Survived\", \"Survived\", \"Survived\", \"Survived\", \"Survived\", \"Not Survived\", \"Not Survived\", \"Not Survived\", \"Survived\", \"Not Survived\", \"Survived\", \"Not Survived\", \"Survived\", \"Survived\", \"Not Survived\", \"Survived\", \"Not Survived\", \"Not Survived\", \"Not Survived\", \"Not Survived\", \"Not Survived\", \"Not Survived\", \"Not Survived\", \"Not Survived\", \"Survived\", \"Not Survived\", \"Not Survived\", \"Survived\", \"Survived\", \"Not Survived\", \"Not Survived\", \"Not Survived\", \"Not Survived\", \"Not Survived\", \"Survived\", \"Not Survived\", \"Not Survived\", \"Not Survived\", \"Survived\", \"Survived\", \"Not Survived\", \"Survived\", \"Not Survived\", \"Not Survived\", \"Survived\", \"Not Survived\", \"Not Survived\", \"Not Survived\", \"Not Survived\", \"Not Survived\", \"Not Survived\", \"Survived\", \"Not Survived\", \"Not Survived\", \"Not Survived\", \"Not Survived\", \"Not Survived\", \"Not Survived\", \"Not Survived\", \"Survived\", \"Not Survived\", \"Survived\", \"Survived\", \"Not Survived\", \"Survived\", \"Survived\", \"Not Survived\", \"Survived\", \"Survived\", \"Not Survived\", \"Not Survived\", \"Survived\", \"Not Survived\", \"Survived\", \"Not Survived\", \"Survived\", \"Not Survived\", \"Not Survived\", \"Survived\", \"Not Survived\", \"Not Survived\", \"Survived\", \"Not Survived\", \"Not Survived\", \"Not Survived\", \"Survived\", \"Not Survived\", \"Not Survived\", \"Survived\", \"Not Survived\", \"Survived\", \"Not Survived\", \"Survived\", \"Not Survived\", \"Survived\", \"Survived\", \"Not Survived\", \"Not Survived\", \"Survived\", \"Not Survived\", \"Not Survived\", \"Survived\", \"Survived\", \"Not Survived\", \"Survived\", \"Survived\", \"Not Survived\", \"Not Survived\", \"Survived\", \"Survived\", \"Not Survived\", \"Survived\", \"Not Survived\", \"Survived\", \"Survived\", \"Not Survived\", \"Not Survived\", \"Not Survived\", \"Not Survived\", \"Not Survived\", \"Not Survived\", \"Not Survived\", \"Not Survived\", \"Not Survived\", \"Survived\", \"Survived\", \"Survived\", \"Survived\", \"Survived\", \"Not Survived\", \"Not Survived\", \"Survived\", \"Survived\", \"Not Survived\", \"Survived\", \"Survived\", \"Survived\", \"Not Survived\", \"Not Survived\", \"Not Survived\", \"Survived\", \"Not Survived\", \"Survived\", \"Not Survived\", \"Not Survived\", \"Not Survived\", \"Survived\", \"Not Survived\", \"Not Survived\", \"Not Survived\", \"Not Survived\", \"Survived\", \"Not Survived\", \"Not Survived\", \"Survived\", \"Survived\", \"Not Survived\", \"Not Survived\", \"Not Survived\", \"Survived\", \"Not Survived\", \"Not Survived\", \"Survived\", \"Survived\", \"Survived\", \"Not Survived\", \"Not Survived\", \"Survived\", \"Not Survived\", \"Not Survived\", \"Survived\", \"Not Survived\", \"Not Survived\", \"Survived\", \"Not Survived\", \"Not Survived\", \"Survived\", \"Survived\", \"Not Survived\", \"Not Survived\", \"Not Survived\", \"Not Survived\", \"Survived\", \"Not Survived\", \"Not Survived\", \"Survived\", \"Not Survived\", \"Survived\", \"Not Survived\", \"Not Survived\", \"Survived\", \"Not Survived\", \"Not Survived\", \"Not Survived\", \"Not Survived\", \"Not Survived\", \"Survived\", \"Not Survived\", \"Survived\", \"Survived\", \"Survived\", \"Not Survived\", \"Survived\", \"Not Survived\", \"Survived\", \"Not Survived\", \"Survived\", \"Not Survived\", \"Survived\", \"Not Survived\", \"Not Survived\", \"Not Survived\", \"Not Survived\", \"Not Survived\", \"Not Survived\", \"Survived\", \"Not Survived\", \"Not Survived\", \"Not Survived\", \"Survived\", \"Not Survived\", \"Not Survived\", \"Not Survived\", \"Not Survived\", \"Survived\", \"Survived\", \"Not Survived\", \"Not Survived\", \"Survived\", \"Not Survived\", \"Not Survived\", \"Not Survived\", \"Survived\", \"Not Survived\", \"Survived\", \"Not Survived\", \"Survived\", \"Not Survived\", \"Not Survived\", \"Not Survived\", \"Not Survived\", \"Not Survived\", \"Not Survived\", \"Not Survived\", \"Survived\", \"Survived\", \"Survived\", \"Survived\", \"Not Survived\", \"Not Survived\", \"Not Survived\", \"Not Survived\", \"Survived\", \"Not Survived\", \"Not Survived\", \"Survived\", \"Survived\", \"Not Survived\", \"Not Survived\", \"Not Survived\", \"Not Survived\", \"Survived\", \"Survived\", \"Survived\", \"Survived\", \"Survived\", \"Not Survived\", \"Survived\", \"Not Survived\", \"Not Survived\", \"Not Survived\", \"Survived\", \"Survived\", \"Not Survived\", \"Not Survived\", \"Survived\", \"Not Survived\", \"Not Survived\", \"Not Survived\", \"Survived\", \"Not Survived\", \"Survived\", \"Survived\", \"Not Survived\", \"Not Survived\", \"Survived\", \"Not Survived\", \"Not Survived\", \"Not Survived\", \"Not Survived\", \"Not Survived\", \"Not Survived\", \"Survived\", \"Not Survived\", \"Not Survived\", \"Survived\", \"Not Survived\", \"Survived\", \"Not Survived\", \"Survived\", \"Not Survived\", \"Not Survived\", \"Survived\", \"Not Survived\", \"Not Survived\", \"Survived\", \"Survived\", \"Not Survived\", \"Not Survived\", \"Survived\", \"Survived\", \"Not Survived\", \"Not Survived\", \"Not Survived\", \"Survived\", \"Not Survived\", \"Not Survived\", \"Survived\", \"Survived\", \"Not Survived\", \"Survived\", \"Not Survived\", \"Not Survived\", \"Not Survived\", \"Not Survived\", \"Not Survived\", \"Not Survived\", \"Not Survived\", \"Not Survived\", \"Survived\", \"Not Survived\", \"Not Survived\", \"Survived\", \"Not Survived\", \"Survived\", \"Survived\", \"Survived\", \"Not Survived\", \"Not Survived\", \"Not Survived\", \"Not Survived\", \"Survived\", \"Not Survived\", \"Survived\", \"Not Survived\", \"Not Survived\", \"Not Survived\", \"Not Survived\", \"Not Survived\", \"Not Survived\", \"Not Survived\", \"Survived\", \"Survived\", \"Not Survived\", \"Not Survived\", \"Not Survived\", \"Survived\", \"Survived\", \"Survived\", \"Survived\", \"Not Survived\", \"Not Survived\", \"Not Survived\", \"Not Survived\", \"Survived\", \"Not Survived\", \"Not Survived\", \"Not Survived\", \"Not Survived\", \"Not Survived\", \"Not Survived\", \"Not Survived\", \"Not Survived\", \"Not Survived\", \"Not Survived\", \"Survived\", \"Survived\", \"Not Survived\", \"Survived\", \"Not Survived\", \"Not Survived\", \"Not Survived\", \"Survived\", \"Survived\", \"Survived\", \"Survived\", \"Survived\", \"Not Survived\", \"Not Survived\", \"Not Survived\", \"Survived\", \"Not Survived\", \"Not Survived\", \"Survived\", \"Survived\", \"Not Survived\", \"Not Survived\", \"Survived\", \"Not Survived\", \"Not Survived\", \"Not Survived\", \"Not Survived\", \"Not Survived\", \"Not Survived\", \"Survived\", \"Not Survived\", \"Not Survived\", \"Not Survived\", \"Survived\", \"Not Survived\", \"Survived\", \"Survived\", \"Survived\", \"Survived\", \"Not Survived\", \"Not Survived\", \"Not Survived\", \"Survived\", \"Not Survived\", \"Not Survived\", \"Survived\", \"Survived\", \"Not Survived\", \"Not Survived\", \"Survived\", \"Not Survived\", \"Survived\", \"Not Survived\", \"Not Survived\", \"Survived\", \"Survived\", \"Not Survived\", \"Not Survived\", \"Not Survived\", \"Survived\", \"Survived\", \"Not Survived\", \"Not Survived\", \"Not Survived\", \"Not Survived\", \"Not Survived\", \"Not Survived\", \"Survived\", \"Not Survived\", \"Survived\", \"Not Survived\"], \"xaxis\": \"x\", \"yaxis\": \"y\"}],\n",
              "                        {\"barmode\": \"relative\", \"legend\": {\"tracegroupgap\": 0}, \"template\": {\"data\": {\"bar\": [{\"error_x\": {\"color\": \"#2a3f5f\"}, \"error_y\": {\"color\": \"#2a3f5f\"}, \"marker\": {\"line\": {\"color\": \"#E5ECF6\", \"width\": 0.5}}, \"type\": \"bar\"}], \"barpolar\": [{\"marker\": {\"line\": {\"color\": \"#E5ECF6\", \"width\": 0.5}}, \"type\": \"barpolar\"}], \"carpet\": [{\"aaxis\": {\"endlinecolor\": \"#2a3f5f\", \"gridcolor\": \"white\", \"linecolor\": \"white\", \"minorgridcolor\": \"white\", \"startlinecolor\": \"#2a3f5f\"}, \"baxis\": {\"endlinecolor\": \"#2a3f5f\", \"gridcolor\": \"white\", \"linecolor\": \"white\", \"minorgridcolor\": \"white\", \"startlinecolor\": \"#2a3f5f\"}, \"type\": \"carpet\"}], \"choropleth\": [{\"colorbar\": {\"outlinewidth\": 0, \"ticks\": \"\"}, \"type\": \"choropleth\"}], \"contour\": [{\"colorbar\": {\"outlinewidth\": 0, \"ticks\": \"\"}, \"colorscale\": [[0.0, \"#0d0887\"], [0.1111111111111111, \"#46039f\"], [0.2222222222222222, \"#7201a8\"], [0.3333333333333333, \"#9c179e\"], [0.4444444444444444, \"#bd3786\"], [0.5555555555555556, \"#d8576b\"], [0.6666666666666666, \"#ed7953\"], [0.7777777777777778, \"#fb9f3a\"], [0.8888888888888888, \"#fdca26\"], [1.0, \"#f0f921\"]], \"type\": \"contour\"}], \"contourcarpet\": [{\"colorbar\": {\"outlinewidth\": 0, \"ticks\": \"\"}, \"type\": \"contourcarpet\"}], \"heatmap\": [{\"colorbar\": {\"outlinewidth\": 0, \"ticks\": \"\"}, \"colorscale\": [[0.0, \"#0d0887\"], [0.1111111111111111, \"#46039f\"], [0.2222222222222222, \"#7201a8\"], [0.3333333333333333, \"#9c179e\"], [0.4444444444444444, \"#bd3786\"], [0.5555555555555556, \"#d8576b\"], [0.6666666666666666, \"#ed7953\"], [0.7777777777777778, \"#fb9f3a\"], [0.8888888888888888, \"#fdca26\"], [1.0, \"#f0f921\"]], \"type\": \"heatmap\"}], \"heatmapgl\": [{\"colorbar\": {\"outlinewidth\": 0, \"ticks\": \"\"}, \"colorscale\": [[0.0, \"#0d0887\"], [0.1111111111111111, \"#46039f\"], [0.2222222222222222, \"#7201a8\"], [0.3333333333333333, \"#9c179e\"], [0.4444444444444444, \"#bd3786\"], [0.5555555555555556, \"#d8576b\"], [0.6666666666666666, \"#ed7953\"], [0.7777777777777778, \"#fb9f3a\"], [0.8888888888888888, \"#fdca26\"], [1.0, \"#f0f921\"]], \"type\": \"heatmapgl\"}], \"histogram\": [{\"marker\": {\"colorbar\": {\"outlinewidth\": 0, \"ticks\": \"\"}}, \"type\": \"histogram\"}], \"histogram2d\": [{\"colorbar\": {\"outlinewidth\": 0, \"ticks\": \"\"}, \"colorscale\": [[0.0, \"#0d0887\"], [0.1111111111111111, \"#46039f\"], [0.2222222222222222, \"#7201a8\"], [0.3333333333333333, \"#9c179e\"], [0.4444444444444444, \"#bd3786\"], [0.5555555555555556, \"#d8576b\"], [0.6666666666666666, \"#ed7953\"], [0.7777777777777778, \"#fb9f3a\"], [0.8888888888888888, \"#fdca26\"], [1.0, \"#f0f921\"]], \"type\": \"histogram2d\"}], \"histogram2dcontour\": [{\"colorbar\": {\"outlinewidth\": 0, \"ticks\": \"\"}, \"colorscale\": [[0.0, \"#0d0887\"], [0.1111111111111111, \"#46039f\"], [0.2222222222222222, \"#7201a8\"], [0.3333333333333333, \"#9c179e\"], [0.4444444444444444, \"#bd3786\"], [0.5555555555555556, \"#d8576b\"], [0.6666666666666666, \"#ed7953\"], [0.7777777777777778, \"#fb9f3a\"], [0.8888888888888888, \"#fdca26\"], [1.0, \"#f0f921\"]], \"type\": \"histogram2dcontour\"}], \"mesh3d\": [{\"colorbar\": {\"outlinewidth\": 0, \"ticks\": \"\"}, \"type\": \"mesh3d\"}], \"parcoords\": [{\"line\": {\"colorbar\": {\"outlinewidth\": 0, \"ticks\": \"\"}}, \"type\": \"parcoords\"}], \"pie\": [{\"automargin\": true, \"type\": \"pie\"}], \"scatter\": [{\"marker\": {\"colorbar\": {\"outlinewidth\": 0, \"ticks\": \"\"}}, \"type\": \"scatter\"}], \"scatter3d\": [{\"line\": {\"colorbar\": {\"outlinewidth\": 0, \"ticks\": \"\"}}, \"marker\": {\"colorbar\": {\"outlinewidth\": 0, \"ticks\": \"\"}}, \"type\": \"scatter3d\"}], \"scattercarpet\": [{\"marker\": {\"colorbar\": {\"outlinewidth\": 0, \"ticks\": \"\"}}, \"type\": \"scattercarpet\"}], \"scattergeo\": [{\"marker\": {\"colorbar\": {\"outlinewidth\": 0, \"ticks\": \"\"}}, \"type\": \"scattergeo\"}], \"scattergl\": [{\"marker\": {\"colorbar\": {\"outlinewidth\": 0, \"ticks\": \"\"}}, \"type\": \"scattergl\"}], \"scattermapbox\": [{\"marker\": {\"colorbar\": {\"outlinewidth\": 0, \"ticks\": \"\"}}, \"type\": \"scattermapbox\"}], \"scatterpolar\": [{\"marker\": {\"colorbar\": {\"outlinewidth\": 0, \"ticks\": \"\"}}, \"type\": \"scatterpolar\"}], \"scatterpolargl\": [{\"marker\": {\"colorbar\": {\"outlinewidth\": 0, \"ticks\": \"\"}}, \"type\": \"scatterpolargl\"}], \"scatterternary\": [{\"marker\": {\"colorbar\": {\"outlinewidth\": 0, \"ticks\": \"\"}}, \"type\": \"scatterternary\"}], \"surface\": [{\"colorbar\": {\"outlinewidth\": 0, \"ticks\": \"\"}, \"colorscale\": [[0.0, \"#0d0887\"], [0.1111111111111111, \"#46039f\"], [0.2222222222222222, \"#7201a8\"], [0.3333333333333333, \"#9c179e\"], [0.4444444444444444, \"#bd3786\"], [0.5555555555555556, \"#d8576b\"], [0.6666666666666666, \"#ed7953\"], [0.7777777777777778, \"#fb9f3a\"], [0.8888888888888888, \"#fdca26\"], [1.0, \"#f0f921\"]], \"type\": \"surface\"}], \"table\": [{\"cells\": {\"fill\": {\"color\": \"#EBF0F8\"}, \"line\": {\"color\": \"white\"}}, \"header\": {\"fill\": {\"color\": \"#C8D4E3\"}, \"line\": {\"color\": \"white\"}}, \"type\": \"table\"}]}, \"layout\": {\"annotationdefaults\": {\"arrowcolor\": \"#2a3f5f\", \"arrowhead\": 0, \"arrowwidth\": 1}, \"coloraxis\": {\"colorbar\": {\"outlinewidth\": 0, \"ticks\": \"\"}}, \"colorscale\": {\"diverging\": [[0, \"#8e0152\"], [0.1, \"#c51b7d\"], [0.2, \"#de77ae\"], [0.3, \"#f1b6da\"], [0.4, \"#fde0ef\"], [0.5, \"#f7f7f7\"], [0.6, \"#e6f5d0\"], [0.7, \"#b8e186\"], [0.8, \"#7fbc41\"], [0.9, \"#4d9221\"], [1, \"#276419\"]], \"sequential\": [[0.0, \"#0d0887\"], [0.1111111111111111, \"#46039f\"], [0.2222222222222222, \"#7201a8\"], [0.3333333333333333, \"#9c179e\"], [0.4444444444444444, \"#bd3786\"], [0.5555555555555556, \"#d8576b\"], [0.6666666666666666, \"#ed7953\"], [0.7777777777777778, \"#fb9f3a\"], [0.8888888888888888, \"#fdca26\"], [1.0, \"#f0f921\"]], \"sequentialminus\": [[0.0, \"#0d0887\"], [0.1111111111111111, \"#46039f\"], [0.2222222222222222, \"#7201a8\"], [0.3333333333333333, \"#9c179e\"], [0.4444444444444444, \"#bd3786\"], [0.5555555555555556, \"#d8576b\"], [0.6666666666666666, \"#ed7953\"], [0.7777777777777778, \"#fb9f3a\"], [0.8888888888888888, \"#fdca26\"], [1.0, \"#f0f921\"]]}, \"colorway\": [\"#636efa\", \"#EF553B\", \"#00cc96\", \"#ab63fa\", \"#FFA15A\", \"#19d3f3\", \"#FF6692\", \"#B6E880\", \"#FF97FF\", \"#FECB52\"], \"font\": {\"color\": \"#2a3f5f\"}, \"geo\": {\"bgcolor\": \"white\", \"lakecolor\": \"white\", \"landcolor\": \"#E5ECF6\", \"showlakes\": true, \"showland\": true, \"subunitcolor\": \"white\"}, \"hoverlabel\": {\"align\": \"left\"}, \"hovermode\": \"closest\", \"mapbox\": {\"style\": \"light\"}, \"paper_bgcolor\": \"white\", \"plot_bgcolor\": \"#E5ECF6\", \"polar\": {\"angularaxis\": {\"gridcolor\": \"white\", \"linecolor\": \"white\", \"ticks\": \"\"}, \"bgcolor\": \"#E5ECF6\", \"radialaxis\": {\"gridcolor\": \"white\", \"linecolor\": \"white\", \"ticks\": \"\"}}, \"scene\": {\"xaxis\": {\"backgroundcolor\": \"#E5ECF6\", \"gridcolor\": \"white\", \"gridwidth\": 2, \"linecolor\": \"white\", \"showbackground\": true, \"ticks\": \"\", \"zerolinecolor\": \"white\"}, \"yaxis\": {\"backgroundcolor\": \"#E5ECF6\", \"gridcolor\": \"white\", \"gridwidth\": 2, \"linecolor\": \"white\", \"showbackground\": true, \"ticks\": \"\", \"zerolinecolor\": \"white\"}, \"zaxis\": {\"backgroundcolor\": \"#E5ECF6\", \"gridcolor\": \"white\", \"gridwidth\": 2, \"linecolor\": \"white\", \"showbackground\": true, \"ticks\": \"\", \"zerolinecolor\": \"white\"}}, \"shapedefaults\": {\"line\": {\"color\": \"#2a3f5f\"}}, \"ternary\": {\"aaxis\": {\"gridcolor\": \"white\", \"linecolor\": \"white\", \"ticks\": \"\"}, \"baxis\": {\"gridcolor\": \"white\", \"linecolor\": \"white\", \"ticks\": \"\"}, \"bgcolor\": \"#E5ECF6\", \"caxis\": {\"gridcolor\": \"white\", \"linecolor\": \"white\", \"ticks\": \"\"}}, \"title\": {\"x\": 0.05}, \"xaxis\": {\"automargin\": true, \"gridcolor\": \"white\", \"linecolor\": \"white\", \"ticks\": \"\", \"title\": {\"standoff\": 15}, \"zerolinecolor\": \"white\", \"zerolinewidth\": 2}, \"yaxis\": {\"automargin\": true, \"gridcolor\": \"white\", \"linecolor\": \"white\", \"ticks\": \"\", \"title\": {\"standoff\": 15}, \"zerolinecolor\": \"white\", \"zerolinewidth\": 2}}}, \"title\": {\"text\": \"How many passengers survived?\"}, \"xaxis\": {\"anchor\": \"y\", \"domain\": [0.0, 1.0], \"title\": {\"text\": \"Survived\"}}, \"yaxis\": {\"anchor\": \"x\", \"domain\": [0.0, 1.0], \"title\": {\"text\": \"count\"}}},\n",
              "                        {\"responsive\": true}\n",
              "                    ).then(function(){\n",
              "                            \n",
              "var gd = document.getElementById('f5de2fdf-bd3f-4f2d-a09c-91f08e0f2d09');\n",
              "var x = new MutationObserver(function (mutations, observer) {{\n",
              "        var display = window.getComputedStyle(gd).display;\n",
              "        if (!display || display === 'none') {{\n",
              "            console.log([gd, 'removed!']);\n",
              "            Plotly.purge(gd);\n",
              "            observer.disconnect();\n",
              "        }}\n",
              "}});\n",
              "\n",
              "// Listen for the removal of the full notebook cells\n",
              "var notebookContainer = gd.closest('#notebook-container');\n",
              "if (notebookContainer) {{\n",
              "    x.observe(notebookContainer, {childList: true});\n",
              "}}\n",
              "\n",
              "// Listen for the clearing of the current output cell\n",
              "var outputEl = gd.closest('.output');\n",
              "if (outputEl) {{\n",
              "    x.observe(outputEl, {childList: true});\n",
              "}}\n",
              "\n",
              "                        })\n",
              "                };\n",
              "                \n",
              "            </script>\n",
              "        </div>\n",
              "</body>\n",
              "</html>"
            ]
          },
          "metadata": {}
        }
      ]
    },
    {
      "cell_type": "markdown",
      "metadata": {
        "id": "Pc_gVuEXLzAk"
      },
      "source": [
        "# Pcalss (train and test)"
      ]
    },
    {
      "cell_type": "markdown",
      "metadata": {
        "id": "kSAokjCMLzAl"
      },
      "source": [
        "* The column \"Pclass\" shows the ticket class.\n",
        "\n",
        "| Pclass | Ticket Class |\n",
        "| --- | --- |\n",
        "| 1 |  1st class|\n",
        "| 2 | 2nd class|\n",
        "| 3 | 3rd class|"
      ]
    },
    {
      "cell_type": "code",
      "metadata": {
        "execution": {
          "iopub.status.busy": "2021-10-27T19:15:15.741725Z",
          "iopub.execute_input": "2021-10-27T19:15:15.741992Z",
          "iopub.status.idle": "2021-10-27T19:15:15.747172Z",
          "shell.execute_reply.started": "2021-10-27T19:15:15.741967Z",
          "shell.execute_reply": "2021-10-27T19:15:15.746514Z"
        },
        "trusted": true,
        "id": "HDLI77csLzAl"
      },
      "source": [
        "def pclass_changes(df):\n",
        "    df[\"Pclass\"] = [\"1st\" if i == 1 else i for i in df[\"Pclass\"]]\n",
        "    df[\"Pclass\"] = [\"2nd\" if i == 2 else i for i in df[\"Pclass\"]]\n",
        "    df[\"Pclass\"] = [\"3rd\" if i == 3 else i for i in df[\"Pclass\"]]\n",
        "    \n",
        "    return df"
      ],
      "execution_count": null,
      "outputs": []
    },
    {
      "cell_type": "code",
      "metadata": {
        "_kg_hide-input": true,
        "execution": {
          "iopub.status.busy": "2021-10-27T19:15:15.748400Z",
          "iopub.execute_input": "2021-10-27T19:15:15.748870Z",
          "iopub.status.idle": "2021-10-27T19:15:15.762652Z",
          "shell.execute_reply.started": "2021-10-27T19:15:15.748838Z",
          "shell.execute_reply": "2021-10-27T19:15:15.761881Z"
        },
        "trusted": true,
        "id": "4fi7VaTyLzAl"
      },
      "source": [
        "train = pclass_changes(train)\n"
      ],
      "execution_count": null,
      "outputs": []
    },
    {
      "cell_type": "code",
      "metadata": {
        "_kg_hide-input": true,
        "execution": {
          "iopub.status.busy": "2021-10-27T19:15:15.763838Z",
          "iopub.execute_input": "2021-10-27T19:15:15.764427Z",
          "iopub.status.idle": "2021-10-27T19:15:15.815981Z",
          "shell.execute_reply.started": "2021-10-27T19:15:15.764397Z",
          "shell.execute_reply": "2021-10-27T19:15:15.815319Z"
        },
        "trusted": true,
        "colab": {
          "base_uri": "https://localhost:8080/",
          "height": 542
        },
        "id": "sSbt8DoiLzAm",
        "outputId": "bc5bbb09-ea59-4033-d0f6-bbe0b9161147"
      },
      "source": [
        "fig = px.histogram(train, x=\"Pclass\",title=\"Pclass(train.csv)\",labels={\"Pclass\":\"Ticket Class\"})\n",
        "fig.show()"
      ],
      "execution_count": null,
      "outputs": [
        {
          "output_type": "display_data",
          "data": {
            "text/html": [
              "<html>\n",
              "<head><meta charset=\"utf-8\" /></head>\n",
              "<body>\n",
              "    <div>\n",
              "            <script src=\"https://cdnjs.cloudflare.com/ajax/libs/mathjax/2.7.5/MathJax.js?config=TeX-AMS-MML_SVG\"></script><script type=\"text/javascript\">if (window.MathJax) {MathJax.Hub.Config({SVG: {font: \"STIX-Web\"}});}</script>\n",
              "                <script type=\"text/javascript\">window.PlotlyConfig = {MathJaxConfig: 'local'};</script>\n",
              "        <script src=\"https://cdn.plot.ly/plotly-latest.min.js\"></script>    \n",
              "            <div id=\"2eba0075-d0de-450e-bb17-dd716882e78f\" class=\"plotly-graph-div\" style=\"height:525px; width:100%;\"></div>\n",
              "            <script type=\"text/javascript\">\n",
              "                \n",
              "                    window.PLOTLYENV=window.PLOTLYENV || {};\n",
              "                    \n",
              "                if (document.getElementById(\"2eba0075-d0de-450e-bb17-dd716882e78f\")) {\n",
              "                    Plotly.newPlot(\n",
              "                        '2eba0075-d0de-450e-bb17-dd716882e78f',\n",
              "                        [{\"alignmentgroup\": \"True\", \"bingroup\": \"x\", \"hoverlabel\": {\"namelength\": 0}, \"hovertemplate\": \"Ticket Class=%{x}<br>count=%{y}\", \"legendgroup\": \"\", \"marker\": {\"color\": \"#636efa\"}, \"name\": \"\", \"offsetgroup\": \"\", \"orientation\": \"v\", \"showlegend\": false, \"type\": \"histogram\", \"x\": [\"3rd\", \"1st\", \"3rd\", \"1st\", \"3rd\", \"3rd\", \"1st\", \"3rd\", \"3rd\", \"2nd\", \"3rd\", \"1st\", \"3rd\", \"3rd\", \"3rd\", \"2nd\", \"3rd\", \"2nd\", \"3rd\", \"3rd\", \"2nd\", \"2nd\", \"3rd\", \"1st\", \"3rd\", \"3rd\", \"3rd\", \"1st\", \"3rd\", \"3rd\", \"1st\", \"1st\", \"3rd\", \"2nd\", \"1st\", \"1st\", \"3rd\", \"3rd\", \"3rd\", \"3rd\", \"3rd\", \"2nd\", \"3rd\", \"2nd\", \"3rd\", \"3rd\", \"3rd\", \"3rd\", \"3rd\", \"3rd\", \"3rd\", \"3rd\", \"1st\", \"2nd\", \"1st\", \"1st\", \"2nd\", \"3rd\", \"2nd\", \"3rd\", \"3rd\", \"1st\", \"1st\", \"3rd\", \"1st\", \"3rd\", \"2nd\", \"3rd\", \"3rd\", \"3rd\", \"2nd\", \"3rd\", \"2nd\", \"3rd\", \"3rd\", \"3rd\", \"3rd\", \"3rd\", \"2nd\", \"3rd\", \"3rd\", \"3rd\", \"3rd\", \"1st\", \"2nd\", \"3rd\", \"3rd\", \"3rd\", \"1st\", \"3rd\", \"3rd\", \"3rd\", \"1st\", \"3rd\", \"3rd\", \"3rd\", \"1st\", \"1st\", \"2nd\", \"2nd\", \"3rd\", \"3rd\", \"1st\", \"3rd\", \"3rd\", \"3rd\", \"3rd\", \"3rd\", \"3rd\", \"3rd\", \"1st\", \"3rd\", \"3rd\", \"3rd\", \"3rd\", \"3rd\", \"3rd\", \"2nd\", \"1st\", \"3rd\", \"2nd\", \"3rd\", \"2nd\", \"2nd\", \"1st\", \"3rd\", \"3rd\", \"3rd\", \"3rd\", \"3rd\", \"3rd\", \"3rd\", \"3rd\", \"2nd\", \"2nd\", \"2nd\", \"1st\", \"1st\", \"3rd\", \"1st\", \"3rd\", \"3rd\", \"3rd\", \"3rd\", \"2nd\", \"2nd\", \"3rd\", \"3rd\", \"2nd\", \"2nd\", \"2nd\", \"1st\", \"3rd\", \"3rd\", \"3rd\", \"1st\", \"3rd\", \"3rd\", \"3rd\", \"3rd\", \"3rd\", \"2nd\", \"3rd\", \"3rd\", \"3rd\", \"3rd\", \"1st\", \"3rd\", \"1st\", \"3rd\", \"1st\", \"3rd\", \"3rd\", \"3rd\", \"1st\", \"3rd\", \"3rd\", \"1st\", \"2nd\", \"3rd\", \"3rd\", \"2nd\", \"3rd\", \"2nd\", \"3rd\", \"1st\", \"3rd\", \"1st\", \"3rd\", \"3rd\", \"2nd\", \"2nd\", \"3rd\", \"2nd\", \"1st\", \"1st\", \"3rd\", \"3rd\", \"3rd\", \"2nd\", \"3rd\", \"3rd\", \"3rd\", \"3rd\", \"3rd\", \"3rd\", \"3rd\", \"3rd\", \"3rd\", \"1st\", \"3rd\", \"2nd\", \"3rd\", \"2nd\", \"3rd\", \"1st\", \"3rd\", \"2nd\", \"1st\", \"2nd\", \"3rd\", \"2nd\", \"3rd\", \"3rd\", \"1st\", \"3rd\", \"2nd\", \"3rd\", \"2nd\", \"3rd\", \"1st\", \"3rd\", \"2nd\", \"3rd\", \"2nd\", \"3rd\", \"2nd\", \"2nd\", \"2nd\", \"2nd\", \"3rd\", \"3rd\", \"2nd\", \"3rd\", \"3rd\", \"1st\", \"3rd\", \"2nd\", \"1st\", \"2nd\", \"3rd\", \"3rd\", \"1st\", \"3rd\", \"3rd\", \"3rd\", \"1st\", \"1st\", \"1st\", \"2nd\", \"3rd\", \"3rd\", \"1st\", \"1st\", \"3rd\", \"2nd\", \"3rd\", \"3rd\", \"1st\", \"1st\", \"1st\", \"3rd\", \"2nd\", \"1st\", \"3rd\", \"1st\", \"3rd\", \"2nd\", \"3rd\", \"3rd\", \"3rd\", \"3rd\", \"3rd\", \"3rd\", \"1st\", \"3rd\", \"3rd\", \"3rd\", \"2nd\", \"3rd\", \"1st\", \"1st\", \"2nd\", \"3rd\", \"3rd\", \"1st\", \"3rd\", \"1st\", \"1st\", \"1st\", \"3rd\", \"3rd\", \"3rd\", \"2nd\", \"3rd\", \"1st\", \"1st\", \"1st\", \"2nd\", \"1st\", \"1st\", \"1st\", \"2nd\", \"3rd\", \"2nd\", \"3rd\", \"2nd\", \"2nd\", \"1st\", \"1st\", \"3rd\", \"3rd\", \"2nd\", \"2nd\", \"3rd\", \"1st\", \"3rd\", \"2nd\", \"3rd\", \"1st\", \"3rd\", \"1st\", \"1st\", \"3rd\", \"1st\", \"3rd\", \"1st\", \"1st\", \"3rd\", \"1st\", \"2nd\", \"1st\", \"2nd\", \"2nd\", \"2nd\", \"2nd\", \"2nd\", \"3rd\", \"3rd\", \"3rd\", \"3rd\", \"1st\", \"3rd\", \"3rd\", \"3rd\", \"3rd\", \"1st\", \"2nd\", \"3rd\", \"3rd\", \"3rd\", \"2nd\", \"3rd\", \"3rd\", \"3rd\", \"3rd\", \"1st\", \"3rd\", \"3rd\", \"1st\", \"1st\", \"3rd\", \"3rd\", \"1st\", \"3rd\", \"1st\", \"3rd\", \"1st\", \"3rd\", \"3rd\", \"1st\", \"3rd\", \"3rd\", \"1st\", \"3rd\", \"2nd\", \"3rd\", \"2nd\", \"3rd\", \"2nd\", \"1st\", \"3rd\", \"3rd\", \"1st\", \"3rd\", \"3rd\", \"3rd\", \"2nd\", \"2nd\", \"2nd\", \"3rd\", \"3rd\", \"3rd\", \"3rd\", \"3rd\", \"2nd\", \"3rd\", \"2nd\", \"3rd\", \"3rd\", \"3rd\", \"3rd\", \"1st\", \"2nd\", \"3rd\", \"3rd\", \"2nd\", \"2nd\", \"2nd\", \"3rd\", \"3rd\", \"3rd\", \"3rd\", \"3rd\", \"3rd\", \"3rd\", \"2nd\", \"2nd\", \"3rd\", \"3rd\", \"1st\", \"3rd\", \"2nd\", \"3rd\", \"1st\", \"1st\", \"3rd\", \"2nd\", \"1st\", \"2nd\", \"2nd\", \"3rd\", \"3rd\", \"2nd\", \"3rd\", \"1st\", \"2nd\", \"1st\", \"3rd\", \"1st\", \"2nd\", \"3rd\", \"1st\", \"1st\", \"3rd\", \"3rd\", \"1st\", \"1st\", \"2nd\", \"3rd\", \"1st\", \"3rd\", \"1st\", \"2nd\", \"3rd\", \"3rd\", \"2nd\", \"1st\", \"3rd\", \"3rd\", \"3rd\", \"3rd\", \"2nd\", \"2nd\", \"3rd\", \"1st\", \"2nd\", \"3rd\", \"3rd\", \"3rd\", \"3rd\", \"2nd\", \"3rd\", \"3rd\", \"1st\", \"3rd\", \"1st\", \"1st\", \"3rd\", \"3rd\", \"3rd\", \"3rd\", \"1st\", \"1st\", \"3rd\", \"3rd\", \"1st\", \"3rd\", \"1st\", \"3rd\", \"3rd\", \"3rd\", \"3rd\", \"3rd\", \"1st\", \"1st\", \"2nd\", \"1st\", \"3rd\", \"3rd\", \"3rd\", \"3rd\", \"1st\", \"1st\", \"3rd\", \"1st\", \"2nd\", \"3rd\", \"2nd\", \"3rd\", \"1st\", \"3rd\", \"3rd\", \"1st\", \"3rd\", \"3rd\", \"2nd\", \"1st\", \"3rd\", \"2nd\", \"2nd\", \"3rd\", \"3rd\", \"3rd\", \"3rd\", \"2nd\", \"1st\", \"1st\", \"3rd\", \"1st\", \"1st\", \"3rd\", \"3rd\", \"2nd\", \"1st\", \"1st\", \"2nd\", \"2nd\", \"3rd\", \"2nd\", \"1st\", \"2nd\", \"3rd\", \"3rd\", \"3rd\", \"1st\", \"1st\", \"1st\", \"1st\", \"3rd\", \"3rd\", \"3rd\", \"2nd\", \"3rd\", \"3rd\", \"3rd\", \"3rd\", \"3rd\", \"3rd\", \"3rd\", \"2nd\", \"1st\", \"1st\", \"3rd\", \"3rd\", \"3rd\", \"2nd\", \"1st\", \"3rd\", \"3rd\", \"2nd\", \"1st\", \"2nd\", \"1st\", \"3rd\", \"1st\", \"2nd\", \"1st\", \"3rd\", \"3rd\", \"3rd\", \"1st\", \"3rd\", \"3rd\", \"2nd\", \"3rd\", \"2nd\", \"3rd\", \"3rd\", \"1st\", \"2nd\", \"3rd\", \"1st\", \"3rd\", \"1st\", \"3rd\", \"3rd\", \"1st\", \"2nd\", \"1st\", \"3rd\", \"3rd\", \"3rd\", \"3rd\", \"3rd\", \"2nd\", \"3rd\", \"3rd\", \"2nd\", \"2nd\", \"3rd\", \"1st\", \"3rd\", \"3rd\", \"3rd\", \"1st\", \"2nd\", \"1st\", \"3rd\", \"3rd\", \"1st\", \"3rd\", \"1st\", \"1st\", \"3rd\", \"2nd\", \"3rd\", \"2nd\", \"3rd\", \"3rd\", \"3rd\", \"1st\", \"3rd\", \"3rd\", \"3rd\", \"1st\", \"3rd\", \"1st\", \"3rd\", \"3rd\", \"3rd\", \"2nd\", \"3rd\", \"3rd\", \"3rd\", \"2nd\", \"3rd\", \"3rd\", \"2nd\", \"1st\", \"1st\", \"3rd\", \"1st\", \"3rd\", \"3rd\", \"2nd\", \"2nd\", \"3rd\", \"3rd\", \"1st\", \"2nd\", \"1st\", \"2nd\", \"2nd\", \"2nd\", \"3rd\", \"3rd\", \"3rd\", \"3rd\", \"1st\", \"3rd\", \"1st\", \"3rd\", \"3rd\", \"2nd\", \"2nd\", \"3rd\", \"3rd\", \"3rd\", \"1st\", \"1st\", \"3rd\", \"3rd\", \"3rd\", \"1st\", \"2nd\", \"3rd\", \"3rd\", \"1st\", \"3rd\", \"1st\", \"1st\", \"3rd\", \"3rd\", \"3rd\", \"2nd\", \"2nd\", \"1st\", \"1st\", \"3rd\", \"1st\", \"1st\", \"1st\", \"3rd\", \"2nd\", \"3rd\", \"1st\", \"2nd\", \"3rd\", \"3rd\", \"2nd\", \"3rd\", \"2nd\", \"2nd\", \"1st\", \"3rd\", \"2nd\", \"3rd\", \"2nd\", \"3rd\", \"1st\", \"3rd\", \"2nd\", \"2nd\", \"2nd\", \"3rd\", \"3rd\", \"1st\", \"3rd\", \"3rd\", \"1st\", \"1st\", \"1st\", \"3rd\", \"3rd\", \"1st\", \"3rd\", \"2nd\", \"1st\", \"3rd\", \"2nd\", \"3rd\", \"3rd\", \"3rd\", \"2nd\", \"2nd\", \"3rd\", \"2nd\", \"3rd\", \"1st\", \"3rd\", \"3rd\", \"3rd\", \"1st\", \"3rd\", \"1st\", \"1st\", \"3rd\", \"3rd\", \"3rd\", \"3rd\", \"3rd\", \"2nd\", \"3rd\", \"2nd\", \"3rd\", \"3rd\", \"3rd\", \"3rd\", \"1st\", \"3rd\", \"1st\", \"1st\", \"3rd\", \"3rd\", \"3rd\", \"3rd\", \"3rd\", \"3rd\", \"1st\", \"3rd\", \"2nd\", \"3rd\", \"1st\", \"3rd\", \"2nd\", \"1st\", \"3rd\", \"3rd\", \"3rd\", \"2nd\", \"2nd\", \"1st\", \"3rd\", \"3rd\", \"3rd\", \"1st\", \"3rd\", \"2nd\", \"1st\", \"3rd\", \"3rd\", \"2nd\", \"3rd\", \"3rd\", \"1st\", \"3rd\", \"2nd\", \"3rd\", \"3rd\", \"1st\", \"3rd\", \"1st\", \"3rd\", \"3rd\", \"3rd\", \"3rd\", \"2nd\", \"3rd\", \"1st\", \"3rd\", \"2nd\", \"3rd\", \"3rd\", \"3rd\", \"1st\", \"3rd\", \"3rd\", \"3rd\", \"1st\", \"3rd\", \"2nd\", \"1st\", \"3rd\", \"3rd\", \"3rd\", \"3rd\", \"3rd\", \"2nd\", \"1st\", \"3rd\", \"3rd\", \"3rd\", \"1st\", \"2nd\", \"3rd\", \"1st\", \"1st\", \"3rd\", \"3rd\", \"3rd\", \"2nd\", \"1st\", \"3rd\", \"2nd\", \"2nd\", \"2nd\", \"1st\", \"3rd\", \"3rd\", \"3rd\", \"1st\", \"1st\", \"3rd\", \"2nd\", \"3rd\", \"3rd\", \"3rd\", \"3rd\", \"1st\", \"2nd\", \"3rd\", \"3rd\", \"2nd\", \"3rd\", \"3rd\", \"2nd\", \"1st\", \"3rd\", \"1st\", \"3rd\"], \"xaxis\": \"x\", \"yaxis\": \"y\"}],\n",
              "                        {\"barmode\": \"relative\", \"legend\": {\"tracegroupgap\": 0}, \"template\": {\"data\": {\"bar\": [{\"error_x\": {\"color\": \"#2a3f5f\"}, \"error_y\": {\"color\": \"#2a3f5f\"}, \"marker\": {\"line\": {\"color\": \"#E5ECF6\", \"width\": 0.5}}, \"type\": \"bar\"}], \"barpolar\": [{\"marker\": {\"line\": {\"color\": \"#E5ECF6\", \"width\": 0.5}}, \"type\": \"barpolar\"}], \"carpet\": [{\"aaxis\": {\"endlinecolor\": \"#2a3f5f\", \"gridcolor\": \"white\", \"linecolor\": \"white\", \"minorgridcolor\": \"white\", \"startlinecolor\": \"#2a3f5f\"}, \"baxis\": {\"endlinecolor\": \"#2a3f5f\", \"gridcolor\": \"white\", \"linecolor\": \"white\", \"minorgridcolor\": \"white\", \"startlinecolor\": \"#2a3f5f\"}, \"type\": \"carpet\"}], \"choropleth\": [{\"colorbar\": {\"outlinewidth\": 0, \"ticks\": \"\"}, \"type\": \"choropleth\"}], \"contour\": [{\"colorbar\": {\"outlinewidth\": 0, \"ticks\": \"\"}, \"colorscale\": [[0.0, \"#0d0887\"], [0.1111111111111111, \"#46039f\"], [0.2222222222222222, \"#7201a8\"], [0.3333333333333333, \"#9c179e\"], [0.4444444444444444, \"#bd3786\"], [0.5555555555555556, \"#d8576b\"], [0.6666666666666666, \"#ed7953\"], [0.7777777777777778, \"#fb9f3a\"], [0.8888888888888888, \"#fdca26\"], [1.0, \"#f0f921\"]], \"type\": \"contour\"}], \"contourcarpet\": [{\"colorbar\": {\"outlinewidth\": 0, \"ticks\": \"\"}, \"type\": \"contourcarpet\"}], \"heatmap\": [{\"colorbar\": {\"outlinewidth\": 0, \"ticks\": \"\"}, \"colorscale\": [[0.0, \"#0d0887\"], [0.1111111111111111, \"#46039f\"], [0.2222222222222222, \"#7201a8\"], [0.3333333333333333, \"#9c179e\"], [0.4444444444444444, \"#bd3786\"], [0.5555555555555556, \"#d8576b\"], [0.6666666666666666, \"#ed7953\"], [0.7777777777777778, \"#fb9f3a\"], [0.8888888888888888, \"#fdca26\"], [1.0, \"#f0f921\"]], \"type\": \"heatmap\"}], \"heatmapgl\": [{\"colorbar\": {\"outlinewidth\": 0, \"ticks\": \"\"}, \"colorscale\": [[0.0, \"#0d0887\"], [0.1111111111111111, \"#46039f\"], [0.2222222222222222, \"#7201a8\"], [0.3333333333333333, \"#9c179e\"], [0.4444444444444444, \"#bd3786\"], [0.5555555555555556, \"#d8576b\"], [0.6666666666666666, \"#ed7953\"], [0.7777777777777778, \"#fb9f3a\"], [0.8888888888888888, \"#fdca26\"], [1.0, \"#f0f921\"]], \"type\": \"heatmapgl\"}], \"histogram\": [{\"marker\": {\"colorbar\": {\"outlinewidth\": 0, \"ticks\": \"\"}}, \"type\": \"histogram\"}], \"histogram2d\": [{\"colorbar\": {\"outlinewidth\": 0, \"ticks\": \"\"}, \"colorscale\": [[0.0, \"#0d0887\"], [0.1111111111111111, \"#46039f\"], [0.2222222222222222, \"#7201a8\"], [0.3333333333333333, \"#9c179e\"], [0.4444444444444444, \"#bd3786\"], [0.5555555555555556, \"#d8576b\"], [0.6666666666666666, \"#ed7953\"], [0.7777777777777778, \"#fb9f3a\"], [0.8888888888888888, \"#fdca26\"], [1.0, \"#f0f921\"]], \"type\": \"histogram2d\"}], \"histogram2dcontour\": [{\"colorbar\": {\"outlinewidth\": 0, \"ticks\": \"\"}, \"colorscale\": [[0.0, \"#0d0887\"], [0.1111111111111111, \"#46039f\"], [0.2222222222222222, \"#7201a8\"], [0.3333333333333333, \"#9c179e\"], [0.4444444444444444, \"#bd3786\"], [0.5555555555555556, \"#d8576b\"], [0.6666666666666666, \"#ed7953\"], [0.7777777777777778, \"#fb9f3a\"], [0.8888888888888888, \"#fdca26\"], [1.0, \"#f0f921\"]], \"type\": \"histogram2dcontour\"}], \"mesh3d\": [{\"colorbar\": {\"outlinewidth\": 0, \"ticks\": \"\"}, \"type\": \"mesh3d\"}], \"parcoords\": [{\"line\": {\"colorbar\": {\"outlinewidth\": 0, \"ticks\": \"\"}}, \"type\": \"parcoords\"}], \"pie\": [{\"automargin\": true, \"type\": \"pie\"}], \"scatter\": [{\"marker\": {\"colorbar\": {\"outlinewidth\": 0, \"ticks\": \"\"}}, \"type\": \"scatter\"}], \"scatter3d\": [{\"line\": {\"colorbar\": {\"outlinewidth\": 0, \"ticks\": \"\"}}, \"marker\": {\"colorbar\": {\"outlinewidth\": 0, \"ticks\": \"\"}}, \"type\": \"scatter3d\"}], \"scattercarpet\": [{\"marker\": {\"colorbar\": {\"outlinewidth\": 0, \"ticks\": \"\"}}, \"type\": \"scattercarpet\"}], \"scattergeo\": [{\"marker\": {\"colorbar\": {\"outlinewidth\": 0, \"ticks\": \"\"}}, \"type\": \"scattergeo\"}], \"scattergl\": [{\"marker\": {\"colorbar\": {\"outlinewidth\": 0, \"ticks\": \"\"}}, \"type\": \"scattergl\"}], \"scattermapbox\": [{\"marker\": {\"colorbar\": {\"outlinewidth\": 0, \"ticks\": \"\"}}, \"type\": \"scattermapbox\"}], \"scatterpolar\": [{\"marker\": {\"colorbar\": {\"outlinewidth\": 0, \"ticks\": \"\"}}, \"type\": \"scatterpolar\"}], \"scatterpolargl\": [{\"marker\": {\"colorbar\": {\"outlinewidth\": 0, \"ticks\": \"\"}}, \"type\": \"scatterpolargl\"}], \"scatterternary\": [{\"marker\": {\"colorbar\": {\"outlinewidth\": 0, \"ticks\": \"\"}}, \"type\": \"scatterternary\"}], \"surface\": [{\"colorbar\": {\"outlinewidth\": 0, \"ticks\": \"\"}, \"colorscale\": [[0.0, \"#0d0887\"], [0.1111111111111111, \"#46039f\"], [0.2222222222222222, \"#7201a8\"], [0.3333333333333333, \"#9c179e\"], [0.4444444444444444, \"#bd3786\"], [0.5555555555555556, \"#d8576b\"], [0.6666666666666666, \"#ed7953\"], [0.7777777777777778, \"#fb9f3a\"], [0.8888888888888888, \"#fdca26\"], [1.0, \"#f0f921\"]], \"type\": \"surface\"}], \"table\": [{\"cells\": {\"fill\": {\"color\": \"#EBF0F8\"}, \"line\": {\"color\": \"white\"}}, \"header\": {\"fill\": {\"color\": \"#C8D4E3\"}, \"line\": {\"color\": \"white\"}}, \"type\": \"table\"}]}, \"layout\": {\"annotationdefaults\": {\"arrowcolor\": \"#2a3f5f\", \"arrowhead\": 0, \"arrowwidth\": 1}, \"coloraxis\": {\"colorbar\": {\"outlinewidth\": 0, \"ticks\": \"\"}}, \"colorscale\": {\"diverging\": [[0, \"#8e0152\"], [0.1, \"#c51b7d\"], [0.2, \"#de77ae\"], [0.3, \"#f1b6da\"], [0.4, \"#fde0ef\"], [0.5, \"#f7f7f7\"], [0.6, \"#e6f5d0\"], [0.7, \"#b8e186\"], [0.8, \"#7fbc41\"], [0.9, \"#4d9221\"], [1, \"#276419\"]], \"sequential\": [[0.0, \"#0d0887\"], [0.1111111111111111, \"#46039f\"], [0.2222222222222222, \"#7201a8\"], [0.3333333333333333, \"#9c179e\"], [0.4444444444444444, \"#bd3786\"], [0.5555555555555556, \"#d8576b\"], [0.6666666666666666, \"#ed7953\"], [0.7777777777777778, \"#fb9f3a\"], [0.8888888888888888, \"#fdca26\"], [1.0, \"#f0f921\"]], \"sequentialminus\": [[0.0, \"#0d0887\"], [0.1111111111111111, \"#46039f\"], [0.2222222222222222, \"#7201a8\"], [0.3333333333333333, \"#9c179e\"], [0.4444444444444444, \"#bd3786\"], [0.5555555555555556, \"#d8576b\"], [0.6666666666666666, \"#ed7953\"], [0.7777777777777778, \"#fb9f3a\"], [0.8888888888888888, \"#fdca26\"], [1.0, \"#f0f921\"]]}, \"colorway\": [\"#636efa\", \"#EF553B\", \"#00cc96\", \"#ab63fa\", \"#FFA15A\", \"#19d3f3\", \"#FF6692\", \"#B6E880\", \"#FF97FF\", \"#FECB52\"], \"font\": {\"color\": \"#2a3f5f\"}, \"geo\": {\"bgcolor\": \"white\", \"lakecolor\": \"white\", \"landcolor\": \"#E5ECF6\", \"showlakes\": true, \"showland\": true, \"subunitcolor\": \"white\"}, \"hoverlabel\": {\"align\": \"left\"}, \"hovermode\": \"closest\", \"mapbox\": {\"style\": \"light\"}, \"paper_bgcolor\": \"white\", \"plot_bgcolor\": \"#E5ECF6\", \"polar\": {\"angularaxis\": {\"gridcolor\": \"white\", \"linecolor\": \"white\", \"ticks\": \"\"}, \"bgcolor\": \"#E5ECF6\", \"radialaxis\": {\"gridcolor\": \"white\", \"linecolor\": \"white\", \"ticks\": \"\"}}, \"scene\": {\"xaxis\": {\"backgroundcolor\": \"#E5ECF6\", \"gridcolor\": \"white\", \"gridwidth\": 2, \"linecolor\": \"white\", \"showbackground\": true, \"ticks\": \"\", \"zerolinecolor\": \"white\"}, \"yaxis\": {\"backgroundcolor\": \"#E5ECF6\", \"gridcolor\": \"white\", \"gridwidth\": 2, \"linecolor\": \"white\", \"showbackground\": true, \"ticks\": \"\", \"zerolinecolor\": \"white\"}, \"zaxis\": {\"backgroundcolor\": \"#E5ECF6\", \"gridcolor\": \"white\", \"gridwidth\": 2, \"linecolor\": \"white\", \"showbackground\": true, \"ticks\": \"\", \"zerolinecolor\": \"white\"}}, \"shapedefaults\": {\"line\": {\"color\": \"#2a3f5f\"}}, \"ternary\": {\"aaxis\": {\"gridcolor\": \"white\", \"linecolor\": \"white\", \"ticks\": \"\"}, \"baxis\": {\"gridcolor\": \"white\", \"linecolor\": \"white\", \"ticks\": \"\"}, \"bgcolor\": \"#E5ECF6\", \"caxis\": {\"gridcolor\": \"white\", \"linecolor\": \"white\", \"ticks\": \"\"}}, \"title\": {\"x\": 0.05}, \"xaxis\": {\"automargin\": true, \"gridcolor\": \"white\", \"linecolor\": \"white\", \"ticks\": \"\", \"title\": {\"standoff\": 15}, \"zerolinecolor\": \"white\", \"zerolinewidth\": 2}, \"yaxis\": {\"automargin\": true, \"gridcolor\": \"white\", \"linecolor\": \"white\", \"ticks\": \"\", \"title\": {\"standoff\": 15}, \"zerolinecolor\": \"white\", \"zerolinewidth\": 2}}}, \"title\": {\"text\": \"Pclass(train.csv)\"}, \"xaxis\": {\"anchor\": \"y\", \"domain\": [0.0, 1.0], \"title\": {\"text\": \"Ticket Class\"}}, \"yaxis\": {\"anchor\": \"x\", \"domain\": [0.0, 1.0], \"title\": {\"text\": \"count\"}}},\n",
              "                        {\"responsive\": true}\n",
              "                    ).then(function(){\n",
              "                            \n",
              "var gd = document.getElementById('2eba0075-d0de-450e-bb17-dd716882e78f');\n",
              "var x = new MutationObserver(function (mutations, observer) {{\n",
              "        var display = window.getComputedStyle(gd).display;\n",
              "        if (!display || display === 'none') {{\n",
              "            console.log([gd, 'removed!']);\n",
              "            Plotly.purge(gd);\n",
              "            observer.disconnect();\n",
              "        }}\n",
              "}});\n",
              "\n",
              "// Listen for the removal of the full notebook cells\n",
              "var notebookContainer = gd.closest('#notebook-container');\n",
              "if (notebookContainer) {{\n",
              "    x.observe(notebookContainer, {childList: true});\n",
              "}}\n",
              "\n",
              "// Listen for the clearing of the current output cell\n",
              "var outputEl = gd.closest('.output');\n",
              "if (outputEl) {{\n",
              "    x.observe(outputEl, {childList: true});\n",
              "}}\n",
              "\n",
              "                        })\n",
              "                };\n",
              "                \n",
              "            </script>\n",
              "        </div>\n",
              "</body>\n",
              "</html>"
            ]
          },
          "metadata": {}
        }
      ]
    },
    {
      "cell_type": "code",
      "metadata": {
        "_kg_hide-input": true,
        "execution": {
          "iopub.status.busy": "2021-10-27T19:15:15.817117Z",
          "iopub.execute_input": "2021-10-27T19:15:15.817568Z",
          "iopub.status.idle": "2021-10-27T19:15:15.863020Z",
          "shell.execute_reply.started": "2021-10-27T19:15:15.817540Z",
          "shell.execute_reply": "2021-10-27T19:15:15.862141Z"
        },
        "trusted": true,
        "id": "N9hCq69ULzAm"
      },
      "source": [
        ""
      ],
      "execution_count": null,
      "outputs": []
    },
    {
      "cell_type": "markdown",
      "metadata": {
        "id": "P8n9o83jLzAn"
      },
      "source": [
        "# Sex (train and test)"
      ]
    },
    {
      "cell_type": "code",
      "metadata": {
        "_kg_hide-input": true,
        "execution": {
          "iopub.status.busy": "2021-10-27T19:15:15.864363Z",
          "iopub.execute_input": "2021-10-27T19:15:15.864636Z",
          "iopub.status.idle": "2021-10-27T19:15:15.914385Z",
          "shell.execute_reply.started": "2021-10-27T19:15:15.864610Z",
          "shell.execute_reply": "2021-10-27T19:15:15.913517Z"
        },
        "trusted": true,
        "colab": {
          "base_uri": "https://localhost:8080/",
          "height": 542
        },
        "id": "4OJrt8lwLzAn",
        "outputId": "cfd484dc-8c91-420b-8caf-c56a97a1b0c0"
      },
      "source": [
        "fig = px.histogram(train, x=\"Sex\",title=\"Male or Female(train.csv)\")\n",
        "fig.show()"
      ],
      "execution_count": null,
      "outputs": [
        {
          "output_type": "display_data",
          "data": {
            "text/html": [
              "<html>\n",
              "<head><meta charset=\"utf-8\" /></head>\n",
              "<body>\n",
              "    <div>\n",
              "            <script src=\"https://cdnjs.cloudflare.com/ajax/libs/mathjax/2.7.5/MathJax.js?config=TeX-AMS-MML_SVG\"></script><script type=\"text/javascript\">if (window.MathJax) {MathJax.Hub.Config({SVG: {font: \"STIX-Web\"}});}</script>\n",
              "                <script type=\"text/javascript\">window.PlotlyConfig = {MathJaxConfig: 'local'};</script>\n",
              "        <script src=\"https://cdn.plot.ly/plotly-latest.min.js\"></script>    \n",
              "            <div id=\"40e2d804-3ecf-4b27-a512-112166c0878b\" class=\"plotly-graph-div\" style=\"height:525px; width:100%;\"></div>\n",
              "            <script type=\"text/javascript\">\n",
              "                \n",
              "                    window.PLOTLYENV=window.PLOTLYENV || {};\n",
              "                    \n",
              "                if (document.getElementById(\"40e2d804-3ecf-4b27-a512-112166c0878b\")) {\n",
              "                    Plotly.newPlot(\n",
              "                        '40e2d804-3ecf-4b27-a512-112166c0878b',\n",
              "                        [{\"alignmentgroup\": \"True\", \"bingroup\": \"x\", \"hoverlabel\": {\"namelength\": 0}, \"hovertemplate\": \"Sex=%{x}<br>count=%{y}\", \"legendgroup\": \"\", \"marker\": {\"color\": \"#636efa\"}, \"name\": \"\", \"offsetgroup\": \"\", \"orientation\": \"v\", \"showlegend\": false, \"type\": \"histogram\", \"x\": [\"male\", \"female\", \"female\", \"female\", \"male\", \"male\", \"male\", \"male\", \"female\", \"female\", \"female\", \"female\", \"male\", \"male\", \"female\", \"female\", \"male\", \"male\", \"female\", \"female\", \"male\", \"male\", \"female\", \"male\", \"female\", \"female\", \"male\", \"male\", \"female\", \"male\", \"male\", \"female\", \"female\", \"male\", \"male\", \"male\", \"male\", \"male\", \"female\", \"female\", \"female\", \"female\", \"male\", \"female\", \"female\", \"male\", \"male\", \"female\", \"male\", \"female\", \"male\", \"male\", \"female\", \"female\", \"male\", \"male\", \"female\", \"male\", \"female\", \"male\", \"male\", \"female\", \"male\", \"male\", \"male\", \"male\", \"female\", \"male\", \"female\", \"male\", \"male\", \"female\", \"male\", \"male\", \"male\", \"male\", \"male\", \"male\", \"male\", \"female\", \"male\", \"male\", \"female\", \"male\", \"female\", \"female\", \"male\", \"male\", \"female\", \"male\", \"male\", \"male\", \"male\", \"male\", \"male\", \"male\", \"male\", \"male\", \"female\", \"male\", \"female\", \"male\", \"male\", \"male\", \"male\", \"male\", \"female\", \"male\", \"male\", \"female\", \"male\", \"female\", \"male\", \"female\", \"female\", \"male\", \"male\", \"male\", \"male\", \"female\", \"male\", \"male\", \"male\", \"female\", \"male\", \"male\", \"male\", \"male\", \"female\", \"male\", \"male\", \"male\", \"female\", \"female\", \"male\", \"male\", \"female\", \"male\", \"male\", \"male\", \"female\", \"female\", \"female\", \"male\", \"male\", \"male\", \"male\", \"female\", \"male\", \"male\", \"male\", \"female\", \"male\", \"male\", \"male\", \"male\", \"female\", \"male\", \"male\", \"male\", \"male\", \"female\", \"male\", \"male\", \"male\", \"male\", \"female\", \"female\", \"male\", \"male\", \"male\", \"male\", \"female\", \"male\", \"male\", \"male\", \"male\", \"female\", \"male\", \"male\", \"female\", \"male\", \"male\", \"male\", \"female\", \"male\", \"female\", \"male\", \"male\", \"male\", \"female\", \"male\", \"female\", \"male\", \"female\", \"female\", \"male\", \"male\", \"female\", \"female\", \"male\", \"male\", \"male\", \"male\", \"male\", \"female\", \"male\", \"male\", \"female\", \"male\", \"male\", \"female\", \"male\", \"male\", \"male\", \"female\", \"female\", \"male\", \"female\", \"male\", \"male\", \"male\", \"male\", \"male\", \"male\", \"male\", \"male\", \"male\", \"male\", \"female\", \"female\", \"male\", \"male\", \"female\", \"male\", \"female\", \"male\", \"female\", \"male\", \"male\", \"female\", \"female\", \"male\", \"male\", \"male\", \"male\", \"female\", \"female\", \"male\", \"male\", \"male\", \"female\", \"male\", \"male\", \"female\", \"female\", \"female\", \"female\", \"female\", \"female\", \"male\", \"male\", \"male\", \"male\", \"female\", \"male\", \"male\", \"male\", \"female\", \"female\", \"male\", \"male\", \"female\", \"male\", \"female\", \"female\", \"female\", \"male\", \"male\", \"female\", \"male\", \"male\", \"male\", \"male\", \"male\", \"male\", \"male\", \"male\", \"male\", \"female\", \"female\", \"female\", \"male\", \"female\", \"male\", \"male\", \"male\", \"female\", \"male\", \"female\", \"female\", \"male\", \"male\", \"female\", \"male\", \"male\", \"female\", \"female\", \"male\", \"female\", \"female\", \"female\", \"female\", \"male\", \"male\", \"female\", \"female\", \"male\", \"female\", \"female\", \"male\", \"male\", \"female\", \"female\", \"male\", \"female\", \"male\", \"female\", \"female\", \"female\", \"female\", \"male\", \"male\", \"male\", \"female\", \"male\", \"male\", \"female\", \"male\", \"male\", \"male\", \"female\", \"male\", \"male\", \"male\", \"female\", \"female\", \"female\", \"male\", \"male\", \"male\", \"male\", \"male\", \"male\", \"male\", \"male\", \"female\", \"female\", \"female\", \"female\", \"male\", \"male\", \"female\", \"male\", \"male\", \"male\", \"female\", \"female\", \"female\", \"female\", \"male\", \"male\", \"male\", \"male\", \"female\", \"female\", \"female\", \"male\", \"male\", \"male\", \"female\", \"female\", \"male\", \"female\", \"male\", \"male\", \"male\", \"female\", \"male\", \"female\", \"male\", \"male\", \"male\", \"female\", \"female\", \"male\", \"female\", \"male\", \"male\", \"female\", \"male\", \"male\", \"female\", \"male\", \"female\", \"male\", \"male\", \"male\", \"male\", \"female\", \"male\", \"male\", \"female\", \"male\", \"male\", \"female\", \"female\", \"female\", \"male\", \"female\", \"male\", \"male\", \"male\", \"female\", \"male\", \"male\", \"female\", \"female\", \"male\", \"male\", \"male\", \"female\", \"female\", \"male\", \"male\", \"female\", \"female\", \"female\", \"male\", \"male\", \"female\", \"male\", \"male\", \"female\", \"male\", \"male\", \"female\", \"male\", \"female\", \"male\", \"male\", \"male\", \"male\", \"male\", \"male\", \"male\", \"male\", \"female\", \"female\", \"male\", \"male\", \"male\", \"male\", \"male\", \"male\", \"male\", \"male\", \"male\", \"male\", \"female\", \"male\", \"male\", \"female\", \"female\", \"female\", \"male\", \"male\", \"male\", \"male\", \"female\", \"male\", \"male\", \"male\", \"female\", \"male\", \"female\", \"female\", \"male\", \"male\", \"male\", \"male\", \"male\", \"male\", \"male\", \"male\", \"male\", \"female\", \"male\", \"female\", \"male\", \"male\", \"female\", \"female\", \"female\", \"female\", \"male\", \"female\", \"male\", \"male\", \"male\", \"male\", \"male\", \"male\", \"female\", \"male\", \"male\", \"female\", \"male\", \"female\", \"male\", \"female\", \"male\", \"male\", \"female\", \"male\", \"male\", \"female\", \"male\", \"male\", \"male\", \"female\", \"male\", \"male\", \"female\", \"female\", \"female\", \"male\", \"female\", \"male\", \"female\", \"female\", \"female\", \"female\", \"male\", \"male\", \"male\", \"female\", \"male\", \"male\", \"male\", \"male\", \"male\", \"male\", \"male\", \"female\", \"male\", \"female\", \"male\", \"female\", \"female\", \"male\", \"male\", \"male\", \"male\", \"female\", \"male\", \"male\", \"female\", \"male\", \"male\", \"male\", \"female\", \"male\", \"female\", \"male\", \"male\", \"female\", \"female\", \"female\", \"male\", \"female\", \"female\", \"male\", \"male\", \"male\", \"female\", \"male\", \"male\", \"male\", \"male\", \"male\", \"female\", \"male\", \"female\", \"male\", \"male\", \"female\", \"male\", \"male\", \"male\", \"female\", \"male\", \"male\", \"male\", \"male\", \"male\", \"male\", \"male\", \"female\", \"female\", \"female\", \"male\", \"female\", \"male\", \"male\", \"female\", \"male\", \"female\", \"female\", \"male\", \"male\", \"male\", \"male\", \"male\", \"male\", \"male\", \"male\", \"female\", \"male\", \"male\", \"male\", \"male\", \"male\", \"male\", \"female\", \"female\", \"male\", \"male\", \"female\", \"male\", \"male\", \"female\", \"female\", \"male\", \"female\", \"male\", \"male\", \"male\", \"male\", \"female\", \"male\", \"female\", \"male\", \"female\", \"female\", \"male\", \"male\", \"female\", \"male\", \"male\", \"male\", \"male\", \"male\", \"male\", \"male\", \"male\", \"male\", \"male\", \"male\", \"female\", \"female\", \"male\", \"male\", \"male\", \"male\", \"male\", \"male\", \"female\", \"female\", \"male\", \"female\", \"male\", \"male\", \"male\", \"male\", \"male\", \"male\", \"male\", \"male\", \"female\", \"male\", \"female\", \"male\", \"male\", \"male\", \"male\", \"male\", \"female\", \"male\", \"male\", \"female\", \"male\", \"female\", \"male\", \"male\", \"male\", \"female\", \"male\", \"female\", \"male\", \"female\", \"male\", \"male\", \"male\", \"male\", \"male\", \"female\", \"female\", \"male\", \"male\", \"female\", \"male\", \"male\", \"male\", \"male\", \"male\", \"female\", \"female\", \"male\", \"female\", \"female\", \"male\", \"male\", \"male\", \"male\", \"male\", \"female\", \"male\", \"male\", \"male\", \"male\", \"male\", \"female\", \"male\", \"male\", \"male\", \"male\", \"female\", \"male\", \"male\", \"female\", \"male\", \"male\", \"male\", \"female\", \"male\", \"male\", \"male\", \"male\", \"female\", \"male\", \"male\", \"male\", \"female\", \"male\", \"female\", \"male\", \"female\", \"male\", \"male\", \"male\", \"male\", \"female\", \"male\", \"female\", \"male\", \"male\", \"female\", \"male\", \"female\", \"female\", \"female\", \"male\", \"male\", \"male\", \"male\", \"female\", \"male\", \"male\", \"male\", \"male\", \"male\", \"female\", \"male\", \"male\", \"male\", \"female\", \"female\", \"male\", \"female\", \"male\", \"female\", \"male\", \"male\", \"male\", \"male\", \"male\", \"female\", \"male\", \"female\", \"male\", \"male\", \"male\", \"female\", \"male\", \"male\", \"female\", \"male\", \"male\", \"male\", \"female\", \"male\", \"male\", \"female\", \"male\", \"male\", \"male\", \"male\", \"male\", \"female\", \"female\", \"male\", \"male\", \"male\", \"male\", \"female\", \"male\", \"male\", \"male\", \"male\", \"male\", \"male\", \"female\", \"male\", \"male\", \"male\", \"male\", \"male\", \"male\", \"female\", \"male\", \"male\", \"female\", \"female\", \"female\", \"female\", \"female\", \"male\", \"female\", \"male\", \"male\", \"male\", \"female\", \"female\", \"male\", \"female\", \"female\", \"male\", \"male\", \"male\", \"male\", \"female\", \"male\", \"male\", \"female\", \"female\", \"male\", \"male\", \"male\", \"female\", \"female\", \"male\", \"female\", \"male\", \"male\", \"female\", \"male\", \"female\", \"female\", \"male\", \"male\"], \"xaxis\": \"x\", \"yaxis\": \"y\"}],\n",
              "                        {\"barmode\": \"relative\", \"legend\": {\"tracegroupgap\": 0}, \"template\": {\"data\": {\"bar\": [{\"error_x\": {\"color\": \"#2a3f5f\"}, \"error_y\": {\"color\": \"#2a3f5f\"}, \"marker\": {\"line\": {\"color\": \"#E5ECF6\", \"width\": 0.5}}, \"type\": \"bar\"}], \"barpolar\": [{\"marker\": {\"line\": {\"color\": \"#E5ECF6\", \"width\": 0.5}}, \"type\": \"barpolar\"}], \"carpet\": [{\"aaxis\": {\"endlinecolor\": \"#2a3f5f\", \"gridcolor\": \"white\", \"linecolor\": \"white\", \"minorgridcolor\": \"white\", \"startlinecolor\": \"#2a3f5f\"}, \"baxis\": {\"endlinecolor\": \"#2a3f5f\", \"gridcolor\": \"white\", \"linecolor\": \"white\", \"minorgridcolor\": \"white\", \"startlinecolor\": \"#2a3f5f\"}, \"type\": \"carpet\"}], \"choropleth\": [{\"colorbar\": {\"outlinewidth\": 0, \"ticks\": \"\"}, \"type\": \"choropleth\"}], \"contour\": [{\"colorbar\": {\"outlinewidth\": 0, \"ticks\": \"\"}, \"colorscale\": [[0.0, \"#0d0887\"], [0.1111111111111111, \"#46039f\"], [0.2222222222222222, \"#7201a8\"], [0.3333333333333333, \"#9c179e\"], [0.4444444444444444, \"#bd3786\"], [0.5555555555555556, \"#d8576b\"], [0.6666666666666666, \"#ed7953\"], [0.7777777777777778, \"#fb9f3a\"], [0.8888888888888888, \"#fdca26\"], [1.0, \"#f0f921\"]], \"type\": \"contour\"}], \"contourcarpet\": [{\"colorbar\": {\"outlinewidth\": 0, \"ticks\": \"\"}, \"type\": \"contourcarpet\"}], \"heatmap\": [{\"colorbar\": {\"outlinewidth\": 0, \"ticks\": \"\"}, \"colorscale\": [[0.0, \"#0d0887\"], [0.1111111111111111, \"#46039f\"], [0.2222222222222222, \"#7201a8\"], [0.3333333333333333, \"#9c179e\"], [0.4444444444444444, \"#bd3786\"], [0.5555555555555556, \"#d8576b\"], [0.6666666666666666, \"#ed7953\"], [0.7777777777777778, \"#fb9f3a\"], [0.8888888888888888, \"#fdca26\"], [1.0, \"#f0f921\"]], \"type\": \"heatmap\"}], \"heatmapgl\": [{\"colorbar\": {\"outlinewidth\": 0, \"ticks\": \"\"}, \"colorscale\": [[0.0, \"#0d0887\"], [0.1111111111111111, \"#46039f\"], [0.2222222222222222, \"#7201a8\"], [0.3333333333333333, \"#9c179e\"], [0.4444444444444444, \"#bd3786\"], [0.5555555555555556, \"#d8576b\"], [0.6666666666666666, \"#ed7953\"], [0.7777777777777778, \"#fb9f3a\"], [0.8888888888888888, \"#fdca26\"], [1.0, \"#f0f921\"]], \"type\": \"heatmapgl\"}], \"histogram\": [{\"marker\": {\"colorbar\": {\"outlinewidth\": 0, \"ticks\": \"\"}}, \"type\": \"histogram\"}], \"histogram2d\": [{\"colorbar\": {\"outlinewidth\": 0, \"ticks\": \"\"}, \"colorscale\": [[0.0, \"#0d0887\"], [0.1111111111111111, \"#46039f\"], [0.2222222222222222, \"#7201a8\"], [0.3333333333333333, \"#9c179e\"], [0.4444444444444444, \"#bd3786\"], [0.5555555555555556, \"#d8576b\"], [0.6666666666666666, \"#ed7953\"], [0.7777777777777778, \"#fb9f3a\"], [0.8888888888888888, \"#fdca26\"], [1.0, \"#f0f921\"]], \"type\": \"histogram2d\"}], \"histogram2dcontour\": [{\"colorbar\": {\"outlinewidth\": 0, \"ticks\": \"\"}, \"colorscale\": [[0.0, \"#0d0887\"], [0.1111111111111111, \"#46039f\"], [0.2222222222222222, \"#7201a8\"], [0.3333333333333333, \"#9c179e\"], [0.4444444444444444, \"#bd3786\"], [0.5555555555555556, \"#d8576b\"], [0.6666666666666666, \"#ed7953\"], [0.7777777777777778, \"#fb9f3a\"], [0.8888888888888888, \"#fdca26\"], [1.0, \"#f0f921\"]], \"type\": \"histogram2dcontour\"}], \"mesh3d\": [{\"colorbar\": {\"outlinewidth\": 0, \"ticks\": \"\"}, \"type\": \"mesh3d\"}], \"parcoords\": [{\"line\": {\"colorbar\": {\"outlinewidth\": 0, \"ticks\": \"\"}}, \"type\": \"parcoords\"}], \"pie\": [{\"automargin\": true, \"type\": \"pie\"}], \"scatter\": [{\"marker\": {\"colorbar\": {\"outlinewidth\": 0, \"ticks\": \"\"}}, \"type\": \"scatter\"}], \"scatter3d\": [{\"line\": {\"colorbar\": {\"outlinewidth\": 0, \"ticks\": \"\"}}, \"marker\": {\"colorbar\": {\"outlinewidth\": 0, \"ticks\": \"\"}}, \"type\": \"scatter3d\"}], \"scattercarpet\": [{\"marker\": {\"colorbar\": {\"outlinewidth\": 0, \"ticks\": \"\"}}, \"type\": \"scattercarpet\"}], \"scattergeo\": [{\"marker\": {\"colorbar\": {\"outlinewidth\": 0, \"ticks\": \"\"}}, \"type\": \"scattergeo\"}], \"scattergl\": [{\"marker\": {\"colorbar\": {\"outlinewidth\": 0, \"ticks\": \"\"}}, \"type\": \"scattergl\"}], \"scattermapbox\": [{\"marker\": {\"colorbar\": {\"outlinewidth\": 0, \"ticks\": \"\"}}, \"type\": \"scattermapbox\"}], \"scatterpolar\": [{\"marker\": {\"colorbar\": {\"outlinewidth\": 0, \"ticks\": \"\"}}, \"type\": \"scatterpolar\"}], \"scatterpolargl\": [{\"marker\": {\"colorbar\": {\"outlinewidth\": 0, \"ticks\": \"\"}}, \"type\": \"scatterpolargl\"}], \"scatterternary\": [{\"marker\": {\"colorbar\": {\"outlinewidth\": 0, \"ticks\": \"\"}}, \"type\": \"scatterternary\"}], \"surface\": [{\"colorbar\": {\"outlinewidth\": 0, \"ticks\": \"\"}, \"colorscale\": [[0.0, \"#0d0887\"], [0.1111111111111111, \"#46039f\"], [0.2222222222222222, \"#7201a8\"], [0.3333333333333333, \"#9c179e\"], [0.4444444444444444, \"#bd3786\"], [0.5555555555555556, \"#d8576b\"], [0.6666666666666666, \"#ed7953\"], [0.7777777777777778, \"#fb9f3a\"], [0.8888888888888888, \"#fdca26\"], [1.0, \"#f0f921\"]], \"type\": \"surface\"}], \"table\": [{\"cells\": {\"fill\": {\"color\": \"#EBF0F8\"}, \"line\": {\"color\": \"white\"}}, \"header\": {\"fill\": {\"color\": \"#C8D4E3\"}, \"line\": {\"color\": \"white\"}}, \"type\": \"table\"}]}, \"layout\": {\"annotationdefaults\": {\"arrowcolor\": \"#2a3f5f\", \"arrowhead\": 0, \"arrowwidth\": 1}, \"coloraxis\": {\"colorbar\": {\"outlinewidth\": 0, \"ticks\": \"\"}}, \"colorscale\": {\"diverging\": [[0, \"#8e0152\"], [0.1, \"#c51b7d\"], [0.2, \"#de77ae\"], [0.3, \"#f1b6da\"], [0.4, \"#fde0ef\"], [0.5, \"#f7f7f7\"], [0.6, \"#e6f5d0\"], [0.7, \"#b8e186\"], [0.8, \"#7fbc41\"], [0.9, \"#4d9221\"], [1, \"#276419\"]], \"sequential\": [[0.0, \"#0d0887\"], [0.1111111111111111, \"#46039f\"], [0.2222222222222222, \"#7201a8\"], [0.3333333333333333, \"#9c179e\"], [0.4444444444444444, \"#bd3786\"], [0.5555555555555556, \"#d8576b\"], [0.6666666666666666, \"#ed7953\"], [0.7777777777777778, \"#fb9f3a\"], [0.8888888888888888, \"#fdca26\"], [1.0, \"#f0f921\"]], \"sequentialminus\": [[0.0, \"#0d0887\"], [0.1111111111111111, \"#46039f\"], [0.2222222222222222, \"#7201a8\"], [0.3333333333333333, \"#9c179e\"], [0.4444444444444444, \"#bd3786\"], [0.5555555555555556, \"#d8576b\"], [0.6666666666666666, \"#ed7953\"], [0.7777777777777778, \"#fb9f3a\"], [0.8888888888888888, \"#fdca26\"], [1.0, \"#f0f921\"]]}, \"colorway\": [\"#636efa\", \"#EF553B\", \"#00cc96\", \"#ab63fa\", \"#FFA15A\", \"#19d3f3\", \"#FF6692\", \"#B6E880\", \"#FF97FF\", \"#FECB52\"], \"font\": {\"color\": \"#2a3f5f\"}, \"geo\": {\"bgcolor\": \"white\", \"lakecolor\": \"white\", \"landcolor\": \"#E5ECF6\", \"showlakes\": true, \"showland\": true, \"subunitcolor\": \"white\"}, \"hoverlabel\": {\"align\": \"left\"}, \"hovermode\": \"closest\", \"mapbox\": {\"style\": \"light\"}, \"paper_bgcolor\": \"white\", \"plot_bgcolor\": \"#E5ECF6\", \"polar\": {\"angularaxis\": {\"gridcolor\": \"white\", \"linecolor\": \"white\", \"ticks\": \"\"}, \"bgcolor\": \"#E5ECF6\", \"radialaxis\": {\"gridcolor\": \"white\", \"linecolor\": \"white\", \"ticks\": \"\"}}, \"scene\": {\"xaxis\": {\"backgroundcolor\": \"#E5ECF6\", \"gridcolor\": \"white\", \"gridwidth\": 2, \"linecolor\": \"white\", \"showbackground\": true, \"ticks\": \"\", \"zerolinecolor\": \"white\"}, \"yaxis\": {\"backgroundcolor\": \"#E5ECF6\", \"gridcolor\": \"white\", \"gridwidth\": 2, \"linecolor\": \"white\", \"showbackground\": true, \"ticks\": \"\", \"zerolinecolor\": \"white\"}, \"zaxis\": {\"backgroundcolor\": \"#E5ECF6\", \"gridcolor\": \"white\", \"gridwidth\": 2, \"linecolor\": \"white\", \"showbackground\": true, \"ticks\": \"\", \"zerolinecolor\": \"white\"}}, \"shapedefaults\": {\"line\": {\"color\": \"#2a3f5f\"}}, \"ternary\": {\"aaxis\": {\"gridcolor\": \"white\", \"linecolor\": \"white\", \"ticks\": \"\"}, \"baxis\": {\"gridcolor\": \"white\", \"linecolor\": \"white\", \"ticks\": \"\"}, \"bgcolor\": \"#E5ECF6\", \"caxis\": {\"gridcolor\": \"white\", \"linecolor\": \"white\", \"ticks\": \"\"}}, \"title\": {\"x\": 0.05}, \"xaxis\": {\"automargin\": true, \"gridcolor\": \"white\", \"linecolor\": \"white\", \"ticks\": \"\", \"title\": {\"standoff\": 15}, \"zerolinecolor\": \"white\", \"zerolinewidth\": 2}, \"yaxis\": {\"automargin\": true, \"gridcolor\": \"white\", \"linecolor\": \"white\", \"ticks\": \"\", \"title\": {\"standoff\": 15}, \"zerolinecolor\": \"white\", \"zerolinewidth\": 2}}}, \"title\": {\"text\": \"Male or Female(train.csv)\"}, \"xaxis\": {\"anchor\": \"y\", \"domain\": [0.0, 1.0], \"title\": {\"text\": \"Sex\"}}, \"yaxis\": {\"anchor\": \"x\", \"domain\": [0.0, 1.0], \"title\": {\"text\": \"count\"}}},\n",
              "                        {\"responsive\": true}\n",
              "                    ).then(function(){\n",
              "                            \n",
              "var gd = document.getElementById('40e2d804-3ecf-4b27-a512-112166c0878b');\n",
              "var x = new MutationObserver(function (mutations, observer) {{\n",
              "        var display = window.getComputedStyle(gd).display;\n",
              "        if (!display || display === 'none') {{\n",
              "            console.log([gd, 'removed!']);\n",
              "            Plotly.purge(gd);\n",
              "            observer.disconnect();\n",
              "        }}\n",
              "}});\n",
              "\n",
              "// Listen for the removal of the full notebook cells\n",
              "var notebookContainer = gd.closest('#notebook-container');\n",
              "if (notebookContainer) {{\n",
              "    x.observe(notebookContainer, {childList: true});\n",
              "}}\n",
              "\n",
              "// Listen for the clearing of the current output cell\n",
              "var outputEl = gd.closest('.output');\n",
              "if (outputEl) {{\n",
              "    x.observe(outputEl, {childList: true});\n",
              "}}\n",
              "\n",
              "                        })\n",
              "                };\n",
              "                \n",
              "            </script>\n",
              "        </div>\n",
              "</body>\n",
              "</html>"
            ]
          },
          "metadata": {}
        }
      ]
    },
    {
      "cell_type": "markdown",
      "metadata": {
        "id": "YpEZFy2_LzAo"
      },
      "source": [
        "# Age (train and test)"
      ]
    },
    {
      "cell_type": "code",
      "metadata": {
        "_kg_hide-input": true,
        "execution": {
          "iopub.status.busy": "2021-10-27T19:15:15.962585Z",
          "iopub.execute_input": "2021-10-27T19:15:15.962871Z",
          "iopub.status.idle": "2021-10-27T19:15:16.009001Z",
          "shell.execute_reply.started": "2021-10-27T19:15:15.962843Z",
          "shell.execute_reply": "2021-10-27T19:15:16.008039Z"
        },
        "trusted": true,
        "colab": {
          "base_uri": "https://localhost:8080/",
          "height": 542
        },
        "id": "0vyhSYqkLzAo",
        "outputId": "d80cd1c5-e07c-4c80-c38f-bf34466f4fd4"
      },
      "source": [
        "fig = px.histogram(train, x=\"Age\",title=\"How old were the passengers? (train.csv)\")\n",
        "fig.show()"
      ],
      "execution_count": null,
      "outputs": [
        {
          "output_type": "display_data",
          "data": {
            "text/html": [
              "<html>\n",
              "<head><meta charset=\"utf-8\" /></head>\n",
              "<body>\n",
              "    <div>\n",
              "            <script src=\"https://cdnjs.cloudflare.com/ajax/libs/mathjax/2.7.5/MathJax.js?config=TeX-AMS-MML_SVG\"></script><script type=\"text/javascript\">if (window.MathJax) {MathJax.Hub.Config({SVG: {font: \"STIX-Web\"}});}</script>\n",
              "                <script type=\"text/javascript\">window.PlotlyConfig = {MathJaxConfig: 'local'};</script>\n",
              "        <script src=\"https://cdn.plot.ly/plotly-latest.min.js\"></script>    \n",
              "            <div id=\"65d10982-54a2-4bb5-81d3-fe64e997c452\" class=\"plotly-graph-div\" style=\"height:525px; width:100%;\"></div>\n",
              "            <script type=\"text/javascript\">\n",
              "                \n",
              "                    window.PLOTLYENV=window.PLOTLYENV || {};\n",
              "                    \n",
              "                if (document.getElementById(\"65d10982-54a2-4bb5-81d3-fe64e997c452\")) {\n",
              "                    Plotly.newPlot(\n",
              "                        '65d10982-54a2-4bb5-81d3-fe64e997c452',\n",
              "                        [{\"alignmentgroup\": \"True\", \"bingroup\": \"x\", \"hoverlabel\": {\"namelength\": 0}, \"hovertemplate\": \"Age=%{x}<br>count=%{y}\", \"legendgroup\": \"\", \"marker\": {\"color\": \"#636efa\"}, \"name\": \"\", \"offsetgroup\": \"\", \"orientation\": \"v\", \"showlegend\": false, \"type\": \"histogram\", \"x\": [22.0, 38.0, 26.0, 35.0, 35.0, null, 54.0, 2.0, 27.0, 14.0, 4.0, 58.0, 20.0, 39.0, 14.0, 55.0, 2.0, null, 31.0, null, 35.0, 34.0, 15.0, 28.0, 8.0, 38.0, null, 19.0, null, null, 40.0, null, null, 66.0, 28.0, 42.0, null, 21.0, 18.0, 14.0, 40.0, 27.0, null, 3.0, 19.0, null, null, null, null, 18.0, 7.0, 21.0, 49.0, 29.0, 65.0, null, 21.0, 28.5, 5.0, 11.0, 22.0, 38.0, 45.0, 4.0, null, null, 29.0, 19.0, 17.0, 26.0, 32.0, 16.0, 21.0, 26.0, 32.0, 25.0, null, null, 0.83, 30.0, 22.0, 29.0, null, 28.0, 17.0, 33.0, 16.0, null, 23.0, 24.0, 29.0, 20.0, 46.0, 26.0, 59.0, null, 71.0, 23.0, 34.0, 34.0, 28.0, null, 21.0, 33.0, 37.0, 28.0, 21.0, null, 38.0, null, 47.0, 14.5, 22.0, 20.0, 17.0, 21.0, 70.5, 29.0, 24.0, 2.0, 21.0, null, 32.5, 32.5, 54.0, 12.0, null, 24.0, null, 45.0, 33.0, 20.0, 47.0, 29.0, 25.0, 23.0, 19.0, 37.0, 16.0, 24.0, null, 22.0, 24.0, 19.0, 18.0, 19.0, 27.0, 9.0, 36.5, 42.0, 51.0, 22.0, 55.5, 40.5, null, 51.0, 16.0, 30.0, null, null, 44.0, 40.0, 26.0, 17.0, 1.0, 9.0, null, 45.0, null, 28.0, 61.0, 4.0, 1.0, 21.0, 56.0, 18.0, null, 50.0, 30.0, 36.0, null, null, 9.0, 1.0, 4.0, null, null, 45.0, 40.0, 36.0, 32.0, 19.0, 19.0, 3.0, 44.0, 58.0, null, 42.0, null, 24.0, 28.0, null, 34.0, 45.5, 18.0, 2.0, 32.0, 26.0, 16.0, 40.0, 24.0, 35.0, 22.0, 30.0, null, 31.0, 27.0, 42.0, 32.0, 30.0, 16.0, 27.0, 51.0, null, 38.0, 22.0, 19.0, 20.5, 18.0, null, 35.0, 29.0, 59.0, 5.0, 24.0, null, 44.0, 8.0, 19.0, 33.0, null, null, 29.0, 22.0, 30.0, 44.0, 25.0, 24.0, 37.0, 54.0, null, 29.0, 62.0, 30.0, 41.0, 29.0, null, 30.0, 35.0, 50.0, null, 3.0, 52.0, 40.0, null, 36.0, 16.0, 25.0, 58.0, 35.0, null, 25.0, 41.0, 37.0, null, 63.0, 45.0, null, 7.0, 35.0, 65.0, 28.0, 16.0, 19.0, null, 33.0, 30.0, 22.0, 42.0, 22.0, 26.0, 19.0, 36.0, 24.0, 24.0, null, 23.5, 2.0, null, 50.0, null, null, 19.0, null, null, 0.92, null, 17.0, 30.0, 30.0, 24.0, 18.0, 26.0, 28.0, 43.0, 26.0, 24.0, 54.0, 31.0, 40.0, 22.0, 27.0, 30.0, 22.0, null, 36.0, 61.0, 36.0, 31.0, 16.0, null, 45.5, 38.0, 16.0, null, null, 29.0, 41.0, 45.0, 45.0, 2.0, 24.0, 28.0, 25.0, 36.0, 24.0, 40.0, null, 3.0, 42.0, 23.0, null, 15.0, 25.0, null, 28.0, 22.0, 38.0, null, null, 40.0, 29.0, 45.0, 35.0, null, 30.0, 60.0, null, null, 24.0, 25.0, 18.0, 19.0, 22.0, 3.0, null, 22.0, 27.0, 20.0, 19.0, 42.0, 1.0, 32.0, 35.0, null, 18.0, 1.0, 36.0, null, 17.0, 36.0, 21.0, 28.0, 23.0, 24.0, 22.0, 31.0, 46.0, 23.0, 28.0, 39.0, 26.0, 21.0, 28.0, 20.0, 34.0, 51.0, 3.0, 21.0, null, null, null, 33.0, null, 44.0, null, 34.0, 18.0, 30.0, 10.0, null, 21.0, 29.0, 28.0, 18.0, null, 28.0, 19.0, null, 32.0, 28.0, null, 42.0, 17.0, 50.0, 14.0, 21.0, 24.0, 64.0, 31.0, 45.0, 20.0, 25.0, 28.0, null, 4.0, 13.0, 34.0, 5.0, 52.0, 36.0, null, 30.0, 49.0, null, 29.0, 65.0, null, 50.0, null, 48.0, 34.0, 47.0, 48.0, null, 38.0, null, 56.0, null, 0.75, null, 38.0, 33.0, 23.0, 22.0, null, 34.0, 29.0, 22.0, 2.0, 9.0, null, 50.0, 63.0, 25.0, null, 35.0, 58.0, 30.0, 9.0, null, 21.0, 55.0, 71.0, 21.0, null, 54.0, null, 25.0, 24.0, 17.0, 21.0, null, 37.0, 16.0, 18.0, 33.0, null, 28.0, 26.0, 29.0, null, 36.0, 54.0, 24.0, 47.0, 34.0, null, 36.0, 32.0, 30.0, 22.0, null, 44.0, null, 40.5, 50.0, null, 39.0, 23.0, 2.0, null, 17.0, null, 30.0, 7.0, 45.0, 30.0, null, 22.0, 36.0, 9.0, 11.0, 32.0, 50.0, 64.0, 19.0, null, 33.0, 8.0, 17.0, 27.0, null, 22.0, 22.0, 62.0, 48.0, null, 39.0, 36.0, null, 40.0, 28.0, null, null, 24.0, 19.0, 29.0, null, 32.0, 62.0, 53.0, 36.0, null, 16.0, 19.0, 34.0, 39.0, null, 32.0, 25.0, 39.0, 54.0, 36.0, null, 18.0, 47.0, 60.0, 22.0, null, 35.0, 52.0, 47.0, null, 37.0, 36.0, null, 49.0, null, 49.0, 24.0, null, null, 44.0, 35.0, 36.0, 30.0, 27.0, 22.0, 40.0, 39.0, null, null, null, 35.0, 24.0, 34.0, 26.0, 4.0, 26.0, 27.0, 42.0, 20.0, 21.0, 21.0, 61.0, 57.0, 21.0, 26.0, null, 80.0, 51.0, 32.0, null, 9.0, 28.0, 32.0, 31.0, 41.0, null, 20.0, 24.0, 2.0, null, 0.75, 48.0, 19.0, 56.0, null, 23.0, null, 18.0, 21.0, null, 18.0, 24.0, null, 32.0, 23.0, 58.0, 50.0, 40.0, 47.0, 36.0, 20.0, 32.0, 25.0, null, 43.0, null, 40.0, 31.0, 70.0, 31.0, null, 18.0, 24.5, 18.0, 43.0, 36.0, null, 27.0, 20.0, 14.0, 60.0, 25.0, 14.0, 19.0, 18.0, 15.0, 31.0, 4.0, null, 25.0, 60.0, 52.0, 44.0, null, 49.0, 42.0, 18.0, 35.0, 18.0, 25.0, 26.0, 39.0, 45.0, 42.0, 22.0, null, 24.0, null, 48.0, 29.0, 52.0, 19.0, 38.0, 27.0, null, 33.0, 6.0, 17.0, 34.0, 50.0, 27.0, 20.0, 30.0, null, 25.0, 25.0, 29.0, 11.0, null, 23.0, 23.0, 28.5, 48.0, 35.0, null, null, null, 36.0, 21.0, 24.0, 31.0, 70.0, 16.0, 30.0, 19.0, 31.0, 4.0, 6.0, 33.0, 23.0, 48.0, 0.67, 28.0, 18.0, 34.0, 33.0, null, 41.0, 20.0, 36.0, 16.0, 51.0, null, 30.5, null, 32.0, 24.0, 48.0, 57.0, null, 54.0, 18.0, null, 5.0, null, 43.0, 13.0, 17.0, 29.0, null, 25.0, 25.0, 18.0, 8.0, 1.0, 46.0, null, 16.0, null, null, 25.0, 39.0, 49.0, 31.0, 30.0, 30.0, 34.0, 31.0, 11.0, 0.42, 27.0, 31.0, 39.0, 18.0, 39.0, 33.0, 26.0, 39.0, 35.0, 6.0, 30.5, null, 23.0, 31.0, 43.0, 10.0, 52.0, 27.0, 38.0, 27.0, 2.0, null, null, 1.0, null, 62.0, 15.0, 0.83, null, 23.0, 18.0, 39.0, 21.0, null, 32.0, null, 20.0, 16.0, 30.0, 34.5, 17.0, 42.0, null, 35.0, 28.0, null, 4.0, 74.0, 9.0, 16.0, 44.0, 18.0, 45.0, 51.0, 24.0, null, 41.0, 21.0, 48.0, null, 24.0, 42.0, 27.0, 31.0, null, 4.0, 26.0, 47.0, 33.0, 47.0, 28.0, 15.0, 20.0, 19.0, null, 56.0, 25.0, 33.0, 22.0, 28.0, 25.0, 39.0, 27.0, 19.0, null, 26.0, 32.0], \"xaxis\": \"x\", \"yaxis\": \"y\"}],\n",
              "                        {\"barmode\": \"relative\", \"legend\": {\"tracegroupgap\": 0}, \"template\": {\"data\": {\"bar\": [{\"error_x\": {\"color\": \"#2a3f5f\"}, \"error_y\": {\"color\": \"#2a3f5f\"}, \"marker\": {\"line\": {\"color\": \"#E5ECF6\", \"width\": 0.5}}, \"type\": \"bar\"}], \"barpolar\": [{\"marker\": {\"line\": {\"color\": \"#E5ECF6\", \"width\": 0.5}}, \"type\": \"barpolar\"}], \"carpet\": [{\"aaxis\": {\"endlinecolor\": \"#2a3f5f\", \"gridcolor\": \"white\", \"linecolor\": \"white\", \"minorgridcolor\": \"white\", \"startlinecolor\": \"#2a3f5f\"}, \"baxis\": {\"endlinecolor\": \"#2a3f5f\", \"gridcolor\": \"white\", \"linecolor\": \"white\", \"minorgridcolor\": \"white\", \"startlinecolor\": \"#2a3f5f\"}, \"type\": \"carpet\"}], \"choropleth\": [{\"colorbar\": {\"outlinewidth\": 0, \"ticks\": \"\"}, \"type\": \"choropleth\"}], \"contour\": [{\"colorbar\": {\"outlinewidth\": 0, \"ticks\": \"\"}, \"colorscale\": [[0.0, \"#0d0887\"], [0.1111111111111111, \"#46039f\"], [0.2222222222222222, \"#7201a8\"], [0.3333333333333333, \"#9c179e\"], [0.4444444444444444, \"#bd3786\"], [0.5555555555555556, \"#d8576b\"], [0.6666666666666666, \"#ed7953\"], [0.7777777777777778, \"#fb9f3a\"], [0.8888888888888888, \"#fdca26\"], [1.0, \"#f0f921\"]], \"type\": \"contour\"}], \"contourcarpet\": [{\"colorbar\": {\"outlinewidth\": 0, \"ticks\": \"\"}, \"type\": \"contourcarpet\"}], \"heatmap\": [{\"colorbar\": {\"outlinewidth\": 0, \"ticks\": \"\"}, \"colorscale\": [[0.0, \"#0d0887\"], [0.1111111111111111, \"#46039f\"], [0.2222222222222222, \"#7201a8\"], [0.3333333333333333, \"#9c179e\"], [0.4444444444444444, \"#bd3786\"], [0.5555555555555556, \"#d8576b\"], [0.6666666666666666, \"#ed7953\"], [0.7777777777777778, \"#fb9f3a\"], [0.8888888888888888, \"#fdca26\"], [1.0, \"#f0f921\"]], \"type\": \"heatmap\"}], \"heatmapgl\": [{\"colorbar\": {\"outlinewidth\": 0, \"ticks\": \"\"}, \"colorscale\": [[0.0, \"#0d0887\"], [0.1111111111111111, \"#46039f\"], [0.2222222222222222, \"#7201a8\"], [0.3333333333333333, \"#9c179e\"], [0.4444444444444444, \"#bd3786\"], [0.5555555555555556, \"#d8576b\"], [0.6666666666666666, \"#ed7953\"], [0.7777777777777778, \"#fb9f3a\"], [0.8888888888888888, \"#fdca26\"], [1.0, \"#f0f921\"]], \"type\": \"heatmapgl\"}], \"histogram\": [{\"marker\": {\"colorbar\": {\"outlinewidth\": 0, \"ticks\": \"\"}}, \"type\": \"histogram\"}], \"histogram2d\": [{\"colorbar\": {\"outlinewidth\": 0, \"ticks\": \"\"}, \"colorscale\": [[0.0, \"#0d0887\"], [0.1111111111111111, \"#46039f\"], [0.2222222222222222, \"#7201a8\"], [0.3333333333333333, \"#9c179e\"], [0.4444444444444444, \"#bd3786\"], [0.5555555555555556, \"#d8576b\"], [0.6666666666666666, \"#ed7953\"], [0.7777777777777778, \"#fb9f3a\"], [0.8888888888888888, \"#fdca26\"], [1.0, \"#f0f921\"]], \"type\": \"histogram2d\"}], \"histogram2dcontour\": [{\"colorbar\": {\"outlinewidth\": 0, \"ticks\": \"\"}, \"colorscale\": [[0.0, \"#0d0887\"], [0.1111111111111111, \"#46039f\"], [0.2222222222222222, \"#7201a8\"], [0.3333333333333333, \"#9c179e\"], [0.4444444444444444, \"#bd3786\"], [0.5555555555555556, \"#d8576b\"], [0.6666666666666666, \"#ed7953\"], [0.7777777777777778, \"#fb9f3a\"], [0.8888888888888888, \"#fdca26\"], [1.0, \"#f0f921\"]], \"type\": \"histogram2dcontour\"}], \"mesh3d\": [{\"colorbar\": {\"outlinewidth\": 0, \"ticks\": \"\"}, \"type\": \"mesh3d\"}], \"parcoords\": [{\"line\": {\"colorbar\": {\"outlinewidth\": 0, \"ticks\": \"\"}}, \"type\": \"parcoords\"}], \"pie\": [{\"automargin\": true, \"type\": \"pie\"}], \"scatter\": [{\"marker\": {\"colorbar\": {\"outlinewidth\": 0, \"ticks\": \"\"}}, \"type\": \"scatter\"}], \"scatter3d\": [{\"line\": {\"colorbar\": {\"outlinewidth\": 0, \"ticks\": \"\"}}, \"marker\": {\"colorbar\": {\"outlinewidth\": 0, \"ticks\": \"\"}}, \"type\": \"scatter3d\"}], \"scattercarpet\": [{\"marker\": {\"colorbar\": {\"outlinewidth\": 0, \"ticks\": \"\"}}, \"type\": \"scattercarpet\"}], \"scattergeo\": [{\"marker\": {\"colorbar\": {\"outlinewidth\": 0, \"ticks\": \"\"}}, \"type\": \"scattergeo\"}], \"scattergl\": [{\"marker\": {\"colorbar\": {\"outlinewidth\": 0, \"ticks\": \"\"}}, \"type\": \"scattergl\"}], \"scattermapbox\": [{\"marker\": {\"colorbar\": {\"outlinewidth\": 0, \"ticks\": \"\"}}, \"type\": \"scattermapbox\"}], \"scatterpolar\": [{\"marker\": {\"colorbar\": {\"outlinewidth\": 0, \"ticks\": \"\"}}, \"type\": \"scatterpolar\"}], \"scatterpolargl\": [{\"marker\": {\"colorbar\": {\"outlinewidth\": 0, \"ticks\": \"\"}}, \"type\": \"scatterpolargl\"}], \"scatterternary\": [{\"marker\": {\"colorbar\": {\"outlinewidth\": 0, \"ticks\": \"\"}}, \"type\": \"scatterternary\"}], \"surface\": [{\"colorbar\": {\"outlinewidth\": 0, \"ticks\": \"\"}, \"colorscale\": [[0.0, \"#0d0887\"], [0.1111111111111111, \"#46039f\"], [0.2222222222222222, \"#7201a8\"], [0.3333333333333333, \"#9c179e\"], [0.4444444444444444, \"#bd3786\"], [0.5555555555555556, \"#d8576b\"], [0.6666666666666666, \"#ed7953\"], [0.7777777777777778, \"#fb9f3a\"], [0.8888888888888888, \"#fdca26\"], [1.0, \"#f0f921\"]], \"type\": \"surface\"}], \"table\": [{\"cells\": {\"fill\": {\"color\": \"#EBF0F8\"}, \"line\": {\"color\": \"white\"}}, \"header\": {\"fill\": {\"color\": \"#C8D4E3\"}, \"line\": {\"color\": \"white\"}}, \"type\": \"table\"}]}, \"layout\": {\"annotationdefaults\": {\"arrowcolor\": \"#2a3f5f\", \"arrowhead\": 0, \"arrowwidth\": 1}, \"coloraxis\": {\"colorbar\": {\"outlinewidth\": 0, \"ticks\": \"\"}}, \"colorscale\": {\"diverging\": [[0, \"#8e0152\"], [0.1, \"#c51b7d\"], [0.2, \"#de77ae\"], [0.3, \"#f1b6da\"], [0.4, \"#fde0ef\"], [0.5, \"#f7f7f7\"], [0.6, \"#e6f5d0\"], [0.7, \"#b8e186\"], [0.8, \"#7fbc41\"], [0.9, \"#4d9221\"], [1, \"#276419\"]], \"sequential\": [[0.0, \"#0d0887\"], [0.1111111111111111, \"#46039f\"], [0.2222222222222222, \"#7201a8\"], [0.3333333333333333, \"#9c179e\"], [0.4444444444444444, \"#bd3786\"], [0.5555555555555556, \"#d8576b\"], [0.6666666666666666, \"#ed7953\"], [0.7777777777777778, \"#fb9f3a\"], [0.8888888888888888, \"#fdca26\"], [1.0, \"#f0f921\"]], \"sequentialminus\": [[0.0, \"#0d0887\"], [0.1111111111111111, \"#46039f\"], [0.2222222222222222, \"#7201a8\"], [0.3333333333333333, \"#9c179e\"], [0.4444444444444444, \"#bd3786\"], [0.5555555555555556, \"#d8576b\"], [0.6666666666666666, \"#ed7953\"], [0.7777777777777778, \"#fb9f3a\"], [0.8888888888888888, \"#fdca26\"], [1.0, \"#f0f921\"]]}, \"colorway\": [\"#636efa\", \"#EF553B\", \"#00cc96\", \"#ab63fa\", \"#FFA15A\", \"#19d3f3\", \"#FF6692\", \"#B6E880\", \"#FF97FF\", \"#FECB52\"], \"font\": {\"color\": \"#2a3f5f\"}, \"geo\": {\"bgcolor\": \"white\", \"lakecolor\": \"white\", \"landcolor\": \"#E5ECF6\", \"showlakes\": true, \"showland\": true, \"subunitcolor\": \"white\"}, \"hoverlabel\": {\"align\": \"left\"}, \"hovermode\": \"closest\", \"mapbox\": {\"style\": \"light\"}, \"paper_bgcolor\": \"white\", \"plot_bgcolor\": \"#E5ECF6\", \"polar\": {\"angularaxis\": {\"gridcolor\": \"white\", \"linecolor\": \"white\", \"ticks\": \"\"}, \"bgcolor\": \"#E5ECF6\", \"radialaxis\": {\"gridcolor\": \"white\", \"linecolor\": \"white\", \"ticks\": \"\"}}, \"scene\": {\"xaxis\": {\"backgroundcolor\": \"#E5ECF6\", \"gridcolor\": \"white\", \"gridwidth\": 2, \"linecolor\": \"white\", \"showbackground\": true, \"ticks\": \"\", \"zerolinecolor\": \"white\"}, \"yaxis\": {\"backgroundcolor\": \"#E5ECF6\", \"gridcolor\": \"white\", \"gridwidth\": 2, \"linecolor\": \"white\", \"showbackground\": true, \"ticks\": \"\", \"zerolinecolor\": \"white\"}, \"zaxis\": {\"backgroundcolor\": \"#E5ECF6\", \"gridcolor\": \"white\", \"gridwidth\": 2, \"linecolor\": \"white\", \"showbackground\": true, \"ticks\": \"\", \"zerolinecolor\": \"white\"}}, \"shapedefaults\": {\"line\": {\"color\": \"#2a3f5f\"}}, \"ternary\": {\"aaxis\": {\"gridcolor\": \"white\", \"linecolor\": \"white\", \"ticks\": \"\"}, \"baxis\": {\"gridcolor\": \"white\", \"linecolor\": \"white\", \"ticks\": \"\"}, \"bgcolor\": \"#E5ECF6\", \"caxis\": {\"gridcolor\": \"white\", \"linecolor\": \"white\", \"ticks\": \"\"}}, \"title\": {\"x\": 0.05}, \"xaxis\": {\"automargin\": true, \"gridcolor\": \"white\", \"linecolor\": \"white\", \"ticks\": \"\", \"title\": {\"standoff\": 15}, \"zerolinecolor\": \"white\", \"zerolinewidth\": 2}, \"yaxis\": {\"automargin\": true, \"gridcolor\": \"white\", \"linecolor\": \"white\", \"ticks\": \"\", \"title\": {\"standoff\": 15}, \"zerolinecolor\": \"white\", \"zerolinewidth\": 2}}}, \"title\": {\"text\": \"How old were the passengers? (train.csv)\"}, \"xaxis\": {\"anchor\": \"y\", \"domain\": [0.0, 1.0], \"title\": {\"text\": \"Age\"}}, \"yaxis\": {\"anchor\": \"x\", \"domain\": [0.0, 1.0], \"title\": {\"text\": \"count\"}}},\n",
              "                        {\"responsive\": true}\n",
              "                    ).then(function(){\n",
              "                            \n",
              "var gd = document.getElementById('65d10982-54a2-4bb5-81d3-fe64e997c452');\n",
              "var x = new MutationObserver(function (mutations, observer) {{\n",
              "        var display = window.getComputedStyle(gd).display;\n",
              "        if (!display || display === 'none') {{\n",
              "            console.log([gd, 'removed!']);\n",
              "            Plotly.purge(gd);\n",
              "            observer.disconnect();\n",
              "        }}\n",
              "}});\n",
              "\n",
              "// Listen for the removal of the full notebook cells\n",
              "var notebookContainer = gd.closest('#notebook-container');\n",
              "if (notebookContainer) {{\n",
              "    x.observe(notebookContainer, {childList: true});\n",
              "}}\n",
              "\n",
              "// Listen for the clearing of the current output cell\n",
              "var outputEl = gd.closest('.output');\n",
              "if (outputEl) {{\n",
              "    x.observe(outputEl, {childList: true});\n",
              "}}\n",
              "\n",
              "                        })\n",
              "                };\n",
              "                \n",
              "            </script>\n",
              "        </div>\n",
              "</body>\n",
              "</html>"
            ]
          },
          "metadata": {}
        }
      ]
    },
    {
      "cell_type": "markdown",
      "metadata": {
        "id": "_ZpPqkRXLzAp"
      },
      "source": [
        "# SibSp (train and test)"
      ]
    },
    {
      "cell_type": "markdown",
      "metadata": {
        "id": "42G0yQ9NLzAq"
      },
      "source": [
        "* The column \"SibSp\" shows the number of siblings / spouses aboard the Titanic."
      ]
    },
    {
      "cell_type": "code",
      "metadata": {
        "_kg_hide-input": true,
        "execution": {
          "iopub.status.busy": "2021-10-27T19:15:16.059710Z",
          "iopub.execute_input": "2021-10-27T19:15:16.059966Z",
          "iopub.status.idle": "2021-10-27T19:15:16.106022Z",
          "shell.execute_reply.started": "2021-10-27T19:15:16.059941Z",
          "shell.execute_reply": "2021-10-27T19:15:16.105351Z"
        },
        "trusted": true,
        "colab": {
          "base_uri": "https://localhost:8080/",
          "height": 542
        },
        "id": "PpX_NKHsLzAq",
        "outputId": "171dfc5c-3117-449c-c187-21eb644149b8"
      },
      "source": [
        "fig = px.histogram(train, x=\"SibSp\",\n",
        "                   title=\"Did the passengers board with their siblings or spouse? (train.csv)\",\n",
        "                  labels={\"SibSp\":\"Number of siblings or spouse abroad the Titanic\"})\n",
        "fig.show()"
      ],
      "execution_count": null,
      "outputs": [
        {
          "output_type": "display_data",
          "data": {
            "text/html": [
              "<html>\n",
              "<head><meta charset=\"utf-8\" /></head>\n",
              "<body>\n",
              "    <div>\n",
              "            <script src=\"https://cdnjs.cloudflare.com/ajax/libs/mathjax/2.7.5/MathJax.js?config=TeX-AMS-MML_SVG\"></script><script type=\"text/javascript\">if (window.MathJax) {MathJax.Hub.Config({SVG: {font: \"STIX-Web\"}});}</script>\n",
              "                <script type=\"text/javascript\">window.PlotlyConfig = {MathJaxConfig: 'local'};</script>\n",
              "        <script src=\"https://cdn.plot.ly/plotly-latest.min.js\"></script>    \n",
              "            <div id=\"32c65476-05ef-4e4c-a73e-4aa9ff6a1920\" class=\"plotly-graph-div\" style=\"height:525px; width:100%;\"></div>\n",
              "            <script type=\"text/javascript\">\n",
              "                \n",
              "                    window.PLOTLYENV=window.PLOTLYENV || {};\n",
              "                    \n",
              "                if (document.getElementById(\"32c65476-05ef-4e4c-a73e-4aa9ff6a1920\")) {\n",
              "                    Plotly.newPlot(\n",
              "                        '32c65476-05ef-4e4c-a73e-4aa9ff6a1920',\n",
              "                        [{\"alignmentgroup\": \"True\", \"bingroup\": \"x\", \"hoverlabel\": {\"namelength\": 0}, \"hovertemplate\": \"Number of siblings or spouse abroad the Titanic=%{x}<br>count=%{y}\", \"legendgroup\": \"\", \"marker\": {\"color\": \"#636efa\"}, \"name\": \"\", \"offsetgroup\": \"\", \"orientation\": \"v\", \"showlegend\": false, \"type\": \"histogram\", \"x\": [1, 1, 0, 1, 0, 0, 0, 3, 0, 1, 1, 0, 0, 1, 0, 0, 4, 0, 1, 0, 0, 0, 0, 0, 3, 1, 0, 3, 0, 0, 0, 1, 0, 0, 1, 1, 0, 0, 2, 1, 1, 1, 0, 1, 0, 0, 1, 0, 2, 1, 4, 0, 1, 1, 0, 0, 0, 0, 1, 5, 0, 0, 1, 3, 0, 1, 0, 0, 4, 2, 0, 5, 0, 1, 0, 0, 0, 0, 0, 0, 0, 0, 0, 0, 0, 3, 1, 0, 3, 0, 0, 0, 1, 1, 0, 0, 0, 0, 0, 1, 0, 0, 0, 0, 2, 0, 0, 0, 0, 1, 0, 1, 0, 1, 0, 0, 0, 1, 0, 4, 2, 0, 1, 0, 0, 1, 0, 0, 1, 0, 0, 0, 1, 1, 0, 0, 0, 1, 0, 0, 0, 0, 1, 0, 0, 1, 0, 2, 0, 0, 0, 1, 0, 0, 0, 0, 0, 0, 0, 8, 0, 0, 0, 0, 4, 0, 0, 1, 0, 0, 0, 4, 1, 0, 0, 1, 3, 0, 0, 0, 8, 0, 4, 2, 0, 0, 1, 0, 1, 0, 0, 0, 1, 1, 0, 0, 0, 0, 0, 0, 0, 8, 0, 0, 0, 0, 1, 0, 0, 0, 0, 0, 0, 0, 1, 1, 0, 1, 0, 0, 0, 0, 0, 0, 1, 0, 0, 0, 0, 3, 1, 0, 0, 4, 0, 0, 1, 0, 0, 0, 1, 1, 0, 0, 0, 2, 0, 0, 1, 1, 0, 1, 0, 1, 0, 0, 0, 0, 0, 0, 0, 4, 1, 0, 0, 0, 4, 1, 0, 0, 0, 0, 0, 0, 0, 1, 0, 0, 4, 1, 0, 0, 0, 0, 0, 0, 0, 0, 0, 0, 0, 1, 0, 0, 0, 0, 0, 1, 0, 0, 0, 2, 0, 0, 0, 1, 0, 1, 1, 0, 0, 2, 1, 0, 1, 0, 1, 0, 0, 1, 0, 0, 0, 1, 8, 0, 0, 0, 1, 0, 2, 0, 0, 2, 1, 0, 1, 0, 0, 0, 1, 3, 0, 0, 0, 0, 0, 1, 1, 0, 0, 0, 1, 1, 0, 0, 0, 0, 0, 0, 1, 1, 0, 0, 1, 0, 1, 0, 0, 0, 1, 1, 0, 0, 3, 1, 0, 0, 0, 0, 0, 0, 0, 1, 0, 0, 5, 0, 0, 0, 1, 0, 2, 1, 0, 0, 0, 0, 0, 0, 0, 0, 1, 1, 0, 1, 0, 1, 0, 3, 0, 0, 1, 0, 0, 0, 1, 0, 0, 0, 0, 0, 0, 1, 1, 0, 1, 0, 0, 0, 0, 1, 1, 0, 1, 1, 2, 2, 1, 0, 1, 0, 1, 0, 0, 0, 0, 0, 2, 0, 1, 1, 0, 1, 0, 0, 0, 1, 0, 0, 0, 0, 0, 0, 0, 0, 0, 0, 0, 2, 0, 0, 1, 0, 0, 0, 1, 1, 0, 0, 5, 0, 0, 0, 1, 3, 1, 0, 0, 1, 1, 0, 0, 0, 0, 0, 1, 0, 1, 0, 0, 0, 0, 0, 0, 1, 0, 0, 0, 0, 0, 0, 0, 1, 0, 0, 0, 0, 1, 0, 0, 0, 0, 0, 0, 0, 0, 0, 0, 2, 1, 0, 1, 0, 0, 0, 0, 0, 0, 0, 0, 4, 4, 1, 1, 0, 1, 0, 1, 1, 0, 0, 0, 0, 0, 0, 1, 0, 1, 1, 0, 0, 0, 0, 0, 2, 0, 0, 0, 0, 0, 2, 0, 0, 0, 0, 0, 1, 1, 0, 1, 1, 0, 0, 0, 0, 0, 1, 0, 0, 0, 1, 0, 0, 1, 1, 0, 0, 0, 1, 2, 0, 0, 0, 0, 1, 0, 0, 1, 0, 1, 0, 1, 0, 0, 1, 1, 1, 2, 0, 1, 1, 1, 0, 0, 0, 0, 0, 0, 0, 0, 0, 0, 0, 3, 0, 0, 1, 0, 1, 0, 0, 3, 0, 2, 1, 0, 0, 0, 0, 0, 0, 0, 0, 0, 2, 0, 1, 0, 0, 2, 0, 0, 0, 1, 2, 0, 0, 0, 1, 1, 1, 0, 0, 0, 0, 0, 0, 1, 0, 0, 0, 0, 5, 1, 1, 4, 0, 0, 0, 1, 0, 0, 0, 0, 0, 0, 0, 1, 0, 1, 0, 0, 0, 1, 0, 0, 0, 0, 1, 0, 0, 1, 0, 0, 0, 0, 0, 0, 0, 0, 1, 0, 0, 1, 0, 3, 0, 1, 1, 0, 0, 0, 0, 0, 0, 1, 0, 0, 0, 0, 1, 2, 1, 0, 1, 1, 0, 1, 0, 1, 0, 0, 0, 1, 1, 0, 0, 0, 0, 0, 0, 0, 1, 0, 1, 0, 0, 1, 0, 0, 0, 0, 0, 1, 0, 0, 0, 0, 0, 0, 1, 0, 1, 0, 0, 0, 4, 1, 0, 0, 0, 8, 0, 0, 0, 0, 0, 0, 1, 0, 1, 1, 0, 0, 0, 0, 0, 0, 1, 0, 0, 0, 4, 0, 0, 0, 1, 0, 3, 1, 0, 0, 0, 4, 0, 0, 0, 0, 0, 1, 1, 0, 0, 0, 1, 0, 0, 0, 0, 0, 0, 0, 0, 0, 0, 8, 0, 0, 1, 4, 0, 1, 0, 1, 0, 1, 0, 0, 0, 2, 1, 0, 8, 0, 0, 1, 0, 0, 1, 0, 1, 0, 0, 1, 0, 0, 0, 0, 0, 0, 0, 0, 0, 0, 0, 0, 0, 1, 0, 0], \"xaxis\": \"x\", \"yaxis\": \"y\"}],\n",
              "                        {\"barmode\": \"relative\", \"legend\": {\"tracegroupgap\": 0}, \"template\": {\"data\": {\"bar\": [{\"error_x\": {\"color\": \"#2a3f5f\"}, \"error_y\": {\"color\": \"#2a3f5f\"}, \"marker\": {\"line\": {\"color\": \"#E5ECF6\", \"width\": 0.5}}, \"type\": \"bar\"}], \"barpolar\": [{\"marker\": {\"line\": {\"color\": \"#E5ECF6\", \"width\": 0.5}}, \"type\": \"barpolar\"}], \"carpet\": [{\"aaxis\": {\"endlinecolor\": \"#2a3f5f\", \"gridcolor\": \"white\", \"linecolor\": \"white\", \"minorgridcolor\": \"white\", \"startlinecolor\": \"#2a3f5f\"}, \"baxis\": {\"endlinecolor\": \"#2a3f5f\", \"gridcolor\": \"white\", \"linecolor\": \"white\", \"minorgridcolor\": \"white\", \"startlinecolor\": \"#2a3f5f\"}, \"type\": \"carpet\"}], \"choropleth\": [{\"colorbar\": {\"outlinewidth\": 0, \"ticks\": \"\"}, \"type\": \"choropleth\"}], \"contour\": [{\"colorbar\": {\"outlinewidth\": 0, \"ticks\": \"\"}, \"colorscale\": [[0.0, \"#0d0887\"], [0.1111111111111111, \"#46039f\"], [0.2222222222222222, \"#7201a8\"], [0.3333333333333333, \"#9c179e\"], [0.4444444444444444, \"#bd3786\"], [0.5555555555555556, \"#d8576b\"], [0.6666666666666666, \"#ed7953\"], [0.7777777777777778, \"#fb9f3a\"], [0.8888888888888888, \"#fdca26\"], [1.0, \"#f0f921\"]], \"type\": \"contour\"}], \"contourcarpet\": [{\"colorbar\": {\"outlinewidth\": 0, \"ticks\": \"\"}, \"type\": \"contourcarpet\"}], \"heatmap\": [{\"colorbar\": {\"outlinewidth\": 0, \"ticks\": \"\"}, \"colorscale\": [[0.0, \"#0d0887\"], [0.1111111111111111, \"#46039f\"], [0.2222222222222222, \"#7201a8\"], [0.3333333333333333, \"#9c179e\"], [0.4444444444444444, \"#bd3786\"], [0.5555555555555556, \"#d8576b\"], [0.6666666666666666, \"#ed7953\"], [0.7777777777777778, \"#fb9f3a\"], [0.8888888888888888, \"#fdca26\"], [1.0, \"#f0f921\"]], \"type\": \"heatmap\"}], \"heatmapgl\": [{\"colorbar\": {\"outlinewidth\": 0, \"ticks\": \"\"}, \"colorscale\": [[0.0, \"#0d0887\"], [0.1111111111111111, \"#46039f\"], [0.2222222222222222, \"#7201a8\"], [0.3333333333333333, \"#9c179e\"], [0.4444444444444444, \"#bd3786\"], [0.5555555555555556, \"#d8576b\"], [0.6666666666666666, \"#ed7953\"], [0.7777777777777778, \"#fb9f3a\"], [0.8888888888888888, \"#fdca26\"], [1.0, \"#f0f921\"]], \"type\": \"heatmapgl\"}], \"histogram\": [{\"marker\": {\"colorbar\": {\"outlinewidth\": 0, \"ticks\": \"\"}}, \"type\": \"histogram\"}], \"histogram2d\": [{\"colorbar\": {\"outlinewidth\": 0, \"ticks\": \"\"}, \"colorscale\": [[0.0, \"#0d0887\"], [0.1111111111111111, \"#46039f\"], [0.2222222222222222, \"#7201a8\"], [0.3333333333333333, \"#9c179e\"], [0.4444444444444444, \"#bd3786\"], [0.5555555555555556, \"#d8576b\"], [0.6666666666666666, \"#ed7953\"], [0.7777777777777778, \"#fb9f3a\"], [0.8888888888888888, \"#fdca26\"], [1.0, \"#f0f921\"]], \"type\": \"histogram2d\"}], \"histogram2dcontour\": [{\"colorbar\": {\"outlinewidth\": 0, \"ticks\": \"\"}, \"colorscale\": [[0.0, \"#0d0887\"], [0.1111111111111111, \"#46039f\"], [0.2222222222222222, \"#7201a8\"], [0.3333333333333333, \"#9c179e\"], [0.4444444444444444, \"#bd3786\"], [0.5555555555555556, \"#d8576b\"], [0.6666666666666666, \"#ed7953\"], [0.7777777777777778, \"#fb9f3a\"], [0.8888888888888888, \"#fdca26\"], [1.0, \"#f0f921\"]], \"type\": \"histogram2dcontour\"}], \"mesh3d\": [{\"colorbar\": {\"outlinewidth\": 0, \"ticks\": \"\"}, \"type\": \"mesh3d\"}], \"parcoords\": [{\"line\": {\"colorbar\": {\"outlinewidth\": 0, \"ticks\": \"\"}}, \"type\": \"parcoords\"}], \"pie\": [{\"automargin\": true, \"type\": \"pie\"}], \"scatter\": [{\"marker\": {\"colorbar\": {\"outlinewidth\": 0, \"ticks\": \"\"}}, \"type\": \"scatter\"}], \"scatter3d\": [{\"line\": {\"colorbar\": {\"outlinewidth\": 0, \"ticks\": \"\"}}, \"marker\": {\"colorbar\": {\"outlinewidth\": 0, \"ticks\": \"\"}}, \"type\": \"scatter3d\"}], \"scattercarpet\": [{\"marker\": {\"colorbar\": {\"outlinewidth\": 0, \"ticks\": \"\"}}, \"type\": \"scattercarpet\"}], \"scattergeo\": [{\"marker\": {\"colorbar\": {\"outlinewidth\": 0, \"ticks\": \"\"}}, \"type\": \"scattergeo\"}], \"scattergl\": [{\"marker\": {\"colorbar\": {\"outlinewidth\": 0, \"ticks\": \"\"}}, \"type\": \"scattergl\"}], \"scattermapbox\": [{\"marker\": {\"colorbar\": {\"outlinewidth\": 0, \"ticks\": \"\"}}, \"type\": \"scattermapbox\"}], \"scatterpolar\": [{\"marker\": {\"colorbar\": {\"outlinewidth\": 0, \"ticks\": \"\"}}, \"type\": \"scatterpolar\"}], \"scatterpolargl\": [{\"marker\": {\"colorbar\": {\"outlinewidth\": 0, \"ticks\": \"\"}}, \"type\": \"scatterpolargl\"}], \"scatterternary\": [{\"marker\": {\"colorbar\": {\"outlinewidth\": 0, \"ticks\": \"\"}}, \"type\": \"scatterternary\"}], \"surface\": [{\"colorbar\": {\"outlinewidth\": 0, \"ticks\": \"\"}, \"colorscale\": [[0.0, \"#0d0887\"], [0.1111111111111111, \"#46039f\"], [0.2222222222222222, \"#7201a8\"], [0.3333333333333333, \"#9c179e\"], [0.4444444444444444, \"#bd3786\"], [0.5555555555555556, \"#d8576b\"], [0.6666666666666666, \"#ed7953\"], [0.7777777777777778, \"#fb9f3a\"], [0.8888888888888888, \"#fdca26\"], [1.0, \"#f0f921\"]], \"type\": \"surface\"}], \"table\": [{\"cells\": {\"fill\": {\"color\": \"#EBF0F8\"}, \"line\": {\"color\": \"white\"}}, \"header\": {\"fill\": {\"color\": \"#C8D4E3\"}, \"line\": {\"color\": \"white\"}}, \"type\": \"table\"}]}, \"layout\": {\"annotationdefaults\": {\"arrowcolor\": \"#2a3f5f\", \"arrowhead\": 0, \"arrowwidth\": 1}, \"coloraxis\": {\"colorbar\": {\"outlinewidth\": 0, \"ticks\": \"\"}}, \"colorscale\": {\"diverging\": [[0, \"#8e0152\"], [0.1, \"#c51b7d\"], [0.2, \"#de77ae\"], [0.3, \"#f1b6da\"], [0.4, \"#fde0ef\"], [0.5, \"#f7f7f7\"], [0.6, \"#e6f5d0\"], [0.7, \"#b8e186\"], [0.8, \"#7fbc41\"], [0.9, \"#4d9221\"], [1, \"#276419\"]], \"sequential\": [[0.0, \"#0d0887\"], [0.1111111111111111, \"#46039f\"], [0.2222222222222222, \"#7201a8\"], [0.3333333333333333, \"#9c179e\"], [0.4444444444444444, \"#bd3786\"], [0.5555555555555556, \"#d8576b\"], [0.6666666666666666, \"#ed7953\"], [0.7777777777777778, \"#fb9f3a\"], [0.8888888888888888, \"#fdca26\"], [1.0, \"#f0f921\"]], \"sequentialminus\": [[0.0, \"#0d0887\"], [0.1111111111111111, \"#46039f\"], [0.2222222222222222, \"#7201a8\"], [0.3333333333333333, \"#9c179e\"], [0.4444444444444444, \"#bd3786\"], [0.5555555555555556, \"#d8576b\"], [0.6666666666666666, \"#ed7953\"], [0.7777777777777778, \"#fb9f3a\"], [0.8888888888888888, \"#fdca26\"], [1.0, \"#f0f921\"]]}, \"colorway\": [\"#636efa\", \"#EF553B\", \"#00cc96\", \"#ab63fa\", \"#FFA15A\", \"#19d3f3\", \"#FF6692\", \"#B6E880\", \"#FF97FF\", \"#FECB52\"], \"font\": {\"color\": \"#2a3f5f\"}, \"geo\": {\"bgcolor\": \"white\", \"lakecolor\": \"white\", \"landcolor\": \"#E5ECF6\", \"showlakes\": true, \"showland\": true, \"subunitcolor\": \"white\"}, \"hoverlabel\": {\"align\": \"left\"}, \"hovermode\": \"closest\", \"mapbox\": {\"style\": \"light\"}, \"paper_bgcolor\": \"white\", \"plot_bgcolor\": \"#E5ECF6\", \"polar\": {\"angularaxis\": {\"gridcolor\": \"white\", \"linecolor\": \"white\", \"ticks\": \"\"}, \"bgcolor\": \"#E5ECF6\", \"radialaxis\": {\"gridcolor\": \"white\", \"linecolor\": \"white\", \"ticks\": \"\"}}, \"scene\": {\"xaxis\": {\"backgroundcolor\": \"#E5ECF6\", \"gridcolor\": \"white\", \"gridwidth\": 2, \"linecolor\": \"white\", \"showbackground\": true, \"ticks\": \"\", \"zerolinecolor\": \"white\"}, \"yaxis\": {\"backgroundcolor\": \"#E5ECF6\", \"gridcolor\": \"white\", \"gridwidth\": 2, \"linecolor\": \"white\", \"showbackground\": true, \"ticks\": \"\", \"zerolinecolor\": \"white\"}, \"zaxis\": {\"backgroundcolor\": \"#E5ECF6\", \"gridcolor\": \"white\", \"gridwidth\": 2, \"linecolor\": \"white\", \"showbackground\": true, \"ticks\": \"\", \"zerolinecolor\": \"white\"}}, \"shapedefaults\": {\"line\": {\"color\": \"#2a3f5f\"}}, \"ternary\": {\"aaxis\": {\"gridcolor\": \"white\", \"linecolor\": \"white\", \"ticks\": \"\"}, \"baxis\": {\"gridcolor\": \"white\", \"linecolor\": \"white\", \"ticks\": \"\"}, \"bgcolor\": \"#E5ECF6\", \"caxis\": {\"gridcolor\": \"white\", \"linecolor\": \"white\", \"ticks\": \"\"}}, \"title\": {\"x\": 0.05}, \"xaxis\": {\"automargin\": true, \"gridcolor\": \"white\", \"linecolor\": \"white\", \"ticks\": \"\", \"title\": {\"standoff\": 15}, \"zerolinecolor\": \"white\", \"zerolinewidth\": 2}, \"yaxis\": {\"automargin\": true, \"gridcolor\": \"white\", \"linecolor\": \"white\", \"ticks\": \"\", \"title\": {\"standoff\": 15}, \"zerolinecolor\": \"white\", \"zerolinewidth\": 2}}}, \"title\": {\"text\": \"Did the passengers board with their siblings or spouse? (train.csv)\"}, \"xaxis\": {\"anchor\": \"y\", \"domain\": [0.0, 1.0], \"title\": {\"text\": \"Number of siblings or spouse abroad the Titanic\"}}, \"yaxis\": {\"anchor\": \"x\", \"domain\": [0.0, 1.0], \"title\": {\"text\": \"count\"}}},\n",
              "                        {\"responsive\": true}\n",
              "                    ).then(function(){\n",
              "                            \n",
              "var gd = document.getElementById('32c65476-05ef-4e4c-a73e-4aa9ff6a1920');\n",
              "var x = new MutationObserver(function (mutations, observer) {{\n",
              "        var display = window.getComputedStyle(gd).display;\n",
              "        if (!display || display === 'none') {{\n",
              "            console.log([gd, 'removed!']);\n",
              "            Plotly.purge(gd);\n",
              "            observer.disconnect();\n",
              "        }}\n",
              "}});\n",
              "\n",
              "// Listen for the removal of the full notebook cells\n",
              "var notebookContainer = gd.closest('#notebook-container');\n",
              "if (notebookContainer) {{\n",
              "    x.observe(notebookContainer, {childList: true});\n",
              "}}\n",
              "\n",
              "// Listen for the clearing of the current output cell\n",
              "var outputEl = gd.closest('.output');\n",
              "if (outputEl) {{\n",
              "    x.observe(outputEl, {childList: true});\n",
              "}}\n",
              "\n",
              "                        })\n",
              "                };\n",
              "                \n",
              "            </script>\n",
              "        </div>\n",
              "</body>\n",
              "</html>"
            ]
          },
          "metadata": {}
        }
      ]
    },
    {
      "cell_type": "markdown",
      "metadata": {
        "id": "9SzJSc9ELzAq"
      },
      "source": [
        "# Parch (train and test)"
      ]
    },
    {
      "cell_type": "markdown",
      "metadata": {
        "id": "uA9yfvNGLzAr"
      },
      "source": [
        "* The column Parch shows the number of  parents / children aboard the Titanic."
      ]
    },
    {
      "cell_type": "code",
      "metadata": {
        "_kg_hide-input": true,
        "execution": {
          "iopub.status.busy": "2021-10-27T19:15:16.152302Z",
          "iopub.execute_input": "2021-10-27T19:15:16.152689Z",
          "iopub.status.idle": "2021-10-27T19:15:16.198866Z",
          "shell.execute_reply.started": "2021-10-27T19:15:16.152662Z",
          "shell.execute_reply": "2021-10-27T19:15:16.197885Z"
        },
        "trusted": true,
        "colab": {
          "base_uri": "https://localhost:8080/",
          "height": 542
        },
        "id": "uoDZOE8HLzAr",
        "outputId": "4a3b38b4-478c-45f9-e22f-3f2e5a1ed405"
      },
      "source": [
        "fig = px.histogram(train, x=\"Parch\",\n",
        "                   title=\"Did the passengers board with their parents or chidren? (train.csv)\",\n",
        "                  labels={\"Parch\":\"Number of parents or children abroad the Titanic\"})\n",
        "fig.show()"
      ],
      "execution_count": null,
      "outputs": [
        {
          "output_type": "display_data",
          "data": {
            "text/html": [
              "<html>\n",
              "<head><meta charset=\"utf-8\" /></head>\n",
              "<body>\n",
              "    <div>\n",
              "            <script src=\"https://cdnjs.cloudflare.com/ajax/libs/mathjax/2.7.5/MathJax.js?config=TeX-AMS-MML_SVG\"></script><script type=\"text/javascript\">if (window.MathJax) {MathJax.Hub.Config({SVG: {font: \"STIX-Web\"}});}</script>\n",
              "                <script type=\"text/javascript\">window.PlotlyConfig = {MathJaxConfig: 'local'};</script>\n",
              "        <script src=\"https://cdn.plot.ly/plotly-latest.min.js\"></script>    \n",
              "            <div id=\"1fd3ba76-ebe0-4b62-967e-681a1c7dcaa7\" class=\"plotly-graph-div\" style=\"height:525px; width:100%;\"></div>\n",
              "            <script type=\"text/javascript\">\n",
              "                \n",
              "                    window.PLOTLYENV=window.PLOTLYENV || {};\n",
              "                    \n",
              "                if (document.getElementById(\"1fd3ba76-ebe0-4b62-967e-681a1c7dcaa7\")) {\n",
              "                    Plotly.newPlot(\n",
              "                        '1fd3ba76-ebe0-4b62-967e-681a1c7dcaa7',\n",
              "                        [{\"alignmentgroup\": \"True\", \"bingroup\": \"x\", \"hoverlabel\": {\"namelength\": 0}, \"hovertemplate\": \"Number of parents or children abroad the Titanic=%{x}<br>count=%{y}\", \"legendgroup\": \"\", \"marker\": {\"color\": \"#636efa\"}, \"name\": \"\", \"offsetgroup\": \"\", \"orientation\": \"v\", \"showlegend\": false, \"type\": \"histogram\", \"x\": [0, 0, 0, 0, 0, 0, 0, 1, 2, 0, 1, 0, 0, 5, 0, 0, 1, 0, 0, 0, 0, 0, 0, 0, 1, 5, 0, 2, 0, 0, 0, 0, 0, 0, 0, 0, 0, 0, 0, 0, 0, 0, 0, 2, 0, 0, 0, 0, 0, 0, 1, 0, 0, 0, 1, 0, 0, 0, 2, 2, 0, 0, 0, 2, 0, 1, 0, 0, 2, 0, 0, 2, 0, 0, 0, 0, 0, 0, 2, 0, 0, 0, 0, 0, 0, 0, 3, 0, 2, 0, 0, 0, 0, 2, 0, 0, 0, 1, 1, 0, 0, 0, 1, 0, 0, 0, 0, 0, 0, 0, 0, 0, 0, 0, 0, 0, 0, 0, 1, 2, 0, 0, 0, 0, 1, 0, 0, 0, 1, 0, 0, 0, 0, 0, 0, 0, 2, 0, 0, 0, 2, 0, 0, 0, 0, 1, 0, 2, 2, 0, 0, 0, 0, 2, 0, 1, 0, 0, 0, 2, 1, 0, 0, 0, 1, 2, 1, 4, 0, 0, 0, 1, 1, 0, 0, 1, 1, 0, 0, 0, 2, 0, 2, 1, 2, 0, 0, 0, 1, 0, 0, 0, 0, 1, 0, 0, 0, 1, 0, 0, 0, 2, 0, 0, 0, 1, 0, 0, 0, 0, 0, 0, 0, 0, 0, 0, 0, 0, 0, 0, 0, 0, 0, 0, 0, 0, 0, 0, 0, 1, 0, 0, 0, 2, 0, 0, 0, 2, 0, 0, 0, 0, 0, 0, 0, 0, 0, 2, 1, 0, 0, 1, 0, 0, 2, 2, 0, 0, 0, 1, 0, 2, 1, 0, 0, 0, 1, 0, 1, 0, 0, 0, 1, 1, 0, 0, 0, 0, 1, 1, 0, 0, 0, 0, 0, 0, 0, 0, 0, 0, 0, 0, 0, 0, 0, 0, 0, 2, 0, 1, 0, 0, 0, 0, 0, 2, 0, 0, 0, 0, 0, 2, 1, 0, 1, 0, 0, 0, 2, 1, 0, 0, 0, 1, 2, 0, 0, 0, 1, 1, 0, 0, 1, 0, 0, 0, 0, 0, 0, 0, 1, 2, 0, 0, 0, 0, 0, 0, 1, 0, 0, 0, 1, 0, 0, 0, 1, 0, 0, 0, 4, 0, 1, 0, 0, 0, 0, 0, 0, 0, 0, 0, 0, 0, 1, 0, 0, 2, 0, 0, 0, 2, 0, 0, 0, 0, 2, 0, 0, 0, 2, 0, 0, 0, 2, 0, 0, 0, 0, 0, 0, 0, 0, 0, 0, 0, 0, 1, 0, 1, 0, 0, 0, 0, 0, 0, 1, 2, 0, 2, 0, 0, 0, 1, 1, 0, 0, 0, 0, 0, 0, 0, 0, 0, 0, 2, 2, 3, 4, 0, 1, 0, 0, 0, 0, 2, 1, 0, 1, 0, 2, 0, 0, 0, 0, 0, 0, 0, 0, 0, 0, 0, 0, 0, 0, 0, 0, 0, 0, 1, 0, 0, 2, 0, 0, 0, 0, 0, 0, 1, 2, 0, 0, 0, 0, 1, 0, 0, 0, 1, 0, 0, 0, 0, 0, 0, 0, 0, 2, 0, 0, 0, 0, 0, 0, 0, 2, 0, 0, 0, 0, 0, 0, 0, 0, 0, 0, 0, 0, 0, 0, 0, 0, 1, 0, 0, 0, 0, 0, 1, 1, 0, 1, 2, 0, 2, 0, 0, 0, 2, 2, 2, 2, 0, 0, 0, 0, 0, 1, 1, 2, 0, 0, 0, 0, 0, 0, 0, 1, 0, 0, 0, 0, 0, 0, 0, 0, 4, 0, 0, 0, 0, 0, 0, 0, 0, 0, 0, 0, 0, 1, 1, 0, 0, 0, 2, 0, 1, 0, 0, 0, 0, 0, 2, 0, 1, 0, 0, 0, 0, 1, 0, 0, 0, 0, 0, 0, 0, 2, 0, 5, 0, 0, 0, 0, 2, 1, 0, 1, 0, 0, 0, 1, 0, 0, 0, 0, 0, 0, 0, 0, 0, 0, 0, 2, 0, 0, 1, 5, 0, 0, 0, 2, 0, 1, 0, 0, 0, 0, 0, 0, 1, 0, 0, 0, 0, 0, 1, 0, 2, 0, 0, 0, 0, 0, 0, 0, 0, 0, 0, 1, 0, 0, 0, 0, 0, 0, 0, 6, 1, 0, 0, 0, 2, 1, 2, 1, 0, 0, 1, 0, 1, 0, 0, 0, 0, 0, 0, 1, 0, 0, 0, 1, 0, 0, 0, 0, 0, 0, 1, 0, 0, 0, 0, 0, 0, 0, 0, 0, 0, 1, 0, 0, 0, 0, 0, 0, 0, 0, 0, 0, 0, 0, 0, 0, 0, 3, 0, 0, 0, 0, 0, 2, 0, 0, 1, 1, 0, 0, 0, 1, 1, 0, 0, 2, 1, 0, 0, 0, 0, 0, 0, 0, 2, 0, 0, 0, 0, 0, 0, 0, 0, 0, 0, 3, 0, 0, 0, 0, 1, 0, 0, 0, 2, 0, 0, 0, 1, 2, 0, 0, 0, 2, 0, 0, 0, 0, 0, 0, 1, 0, 1, 2, 1, 0, 0, 0, 0, 0, 0, 0, 0, 0, 2, 0, 0, 0, 1, 0, 2, 1, 0, 0, 1, 1, 0, 0, 2, 0, 0, 0, 1, 0, 0, 0, 1, 0, 0, 0, 0, 0, 0, 0, 0, 0, 0, 2, 0, 1, 0, 2, 0, 1, 1, 0, 1, 1, 0, 3, 0, 0, 0, 0, 2, 0, 0, 0, 0, 0, 1, 0, 1, 0, 0, 0, 0, 0, 0, 0, 1, 1, 0, 0, 0, 0, 5, 0, 0, 2, 0, 0], \"xaxis\": \"x\", \"yaxis\": \"y\"}],\n",
              "                        {\"barmode\": \"relative\", \"legend\": {\"tracegroupgap\": 0}, \"template\": {\"data\": {\"bar\": [{\"error_x\": {\"color\": \"#2a3f5f\"}, \"error_y\": {\"color\": \"#2a3f5f\"}, \"marker\": {\"line\": {\"color\": \"#E5ECF6\", \"width\": 0.5}}, \"type\": \"bar\"}], \"barpolar\": [{\"marker\": {\"line\": {\"color\": \"#E5ECF6\", \"width\": 0.5}}, \"type\": \"barpolar\"}], \"carpet\": [{\"aaxis\": {\"endlinecolor\": \"#2a3f5f\", \"gridcolor\": \"white\", \"linecolor\": \"white\", \"minorgridcolor\": \"white\", \"startlinecolor\": \"#2a3f5f\"}, \"baxis\": {\"endlinecolor\": \"#2a3f5f\", \"gridcolor\": \"white\", \"linecolor\": \"white\", \"minorgridcolor\": \"white\", \"startlinecolor\": \"#2a3f5f\"}, \"type\": \"carpet\"}], \"choropleth\": [{\"colorbar\": {\"outlinewidth\": 0, \"ticks\": \"\"}, \"type\": \"choropleth\"}], \"contour\": [{\"colorbar\": {\"outlinewidth\": 0, \"ticks\": \"\"}, \"colorscale\": [[0.0, \"#0d0887\"], [0.1111111111111111, \"#46039f\"], [0.2222222222222222, \"#7201a8\"], [0.3333333333333333, \"#9c179e\"], [0.4444444444444444, \"#bd3786\"], [0.5555555555555556, \"#d8576b\"], [0.6666666666666666, \"#ed7953\"], [0.7777777777777778, \"#fb9f3a\"], [0.8888888888888888, \"#fdca26\"], [1.0, \"#f0f921\"]], \"type\": \"contour\"}], \"contourcarpet\": [{\"colorbar\": {\"outlinewidth\": 0, \"ticks\": \"\"}, \"type\": \"contourcarpet\"}], \"heatmap\": [{\"colorbar\": {\"outlinewidth\": 0, \"ticks\": \"\"}, \"colorscale\": [[0.0, \"#0d0887\"], [0.1111111111111111, \"#46039f\"], [0.2222222222222222, \"#7201a8\"], [0.3333333333333333, \"#9c179e\"], [0.4444444444444444, \"#bd3786\"], [0.5555555555555556, \"#d8576b\"], [0.6666666666666666, \"#ed7953\"], [0.7777777777777778, \"#fb9f3a\"], [0.8888888888888888, \"#fdca26\"], [1.0, \"#f0f921\"]], \"type\": \"heatmap\"}], \"heatmapgl\": [{\"colorbar\": {\"outlinewidth\": 0, \"ticks\": \"\"}, \"colorscale\": [[0.0, \"#0d0887\"], [0.1111111111111111, \"#46039f\"], [0.2222222222222222, \"#7201a8\"], [0.3333333333333333, \"#9c179e\"], [0.4444444444444444, \"#bd3786\"], [0.5555555555555556, \"#d8576b\"], [0.6666666666666666, \"#ed7953\"], [0.7777777777777778, \"#fb9f3a\"], [0.8888888888888888, \"#fdca26\"], [1.0, \"#f0f921\"]], \"type\": \"heatmapgl\"}], \"histogram\": [{\"marker\": {\"colorbar\": {\"outlinewidth\": 0, \"ticks\": \"\"}}, \"type\": \"histogram\"}], \"histogram2d\": [{\"colorbar\": {\"outlinewidth\": 0, \"ticks\": \"\"}, \"colorscale\": [[0.0, \"#0d0887\"], [0.1111111111111111, \"#46039f\"], [0.2222222222222222, \"#7201a8\"], [0.3333333333333333, \"#9c179e\"], [0.4444444444444444, \"#bd3786\"], [0.5555555555555556, \"#d8576b\"], [0.6666666666666666, \"#ed7953\"], [0.7777777777777778, \"#fb9f3a\"], [0.8888888888888888, \"#fdca26\"], [1.0, \"#f0f921\"]], \"type\": \"histogram2d\"}], \"histogram2dcontour\": [{\"colorbar\": {\"outlinewidth\": 0, \"ticks\": \"\"}, \"colorscale\": [[0.0, \"#0d0887\"], [0.1111111111111111, \"#46039f\"], [0.2222222222222222, \"#7201a8\"], [0.3333333333333333, \"#9c179e\"], [0.4444444444444444, \"#bd3786\"], [0.5555555555555556, \"#d8576b\"], [0.6666666666666666, \"#ed7953\"], [0.7777777777777778, \"#fb9f3a\"], [0.8888888888888888, \"#fdca26\"], [1.0, \"#f0f921\"]], \"type\": \"histogram2dcontour\"}], \"mesh3d\": [{\"colorbar\": {\"outlinewidth\": 0, \"ticks\": \"\"}, \"type\": \"mesh3d\"}], \"parcoords\": [{\"line\": {\"colorbar\": {\"outlinewidth\": 0, \"ticks\": \"\"}}, \"type\": \"parcoords\"}], \"pie\": [{\"automargin\": true, \"type\": \"pie\"}], \"scatter\": [{\"marker\": {\"colorbar\": {\"outlinewidth\": 0, \"ticks\": \"\"}}, \"type\": \"scatter\"}], \"scatter3d\": [{\"line\": {\"colorbar\": {\"outlinewidth\": 0, \"ticks\": \"\"}}, \"marker\": {\"colorbar\": {\"outlinewidth\": 0, \"ticks\": \"\"}}, \"type\": \"scatter3d\"}], \"scattercarpet\": [{\"marker\": {\"colorbar\": {\"outlinewidth\": 0, \"ticks\": \"\"}}, \"type\": \"scattercarpet\"}], \"scattergeo\": [{\"marker\": {\"colorbar\": {\"outlinewidth\": 0, \"ticks\": \"\"}}, \"type\": \"scattergeo\"}], \"scattergl\": [{\"marker\": {\"colorbar\": {\"outlinewidth\": 0, \"ticks\": \"\"}}, \"type\": \"scattergl\"}], \"scattermapbox\": [{\"marker\": {\"colorbar\": {\"outlinewidth\": 0, \"ticks\": \"\"}}, \"type\": \"scattermapbox\"}], \"scatterpolar\": [{\"marker\": {\"colorbar\": {\"outlinewidth\": 0, \"ticks\": \"\"}}, \"type\": \"scatterpolar\"}], \"scatterpolargl\": [{\"marker\": {\"colorbar\": {\"outlinewidth\": 0, \"ticks\": \"\"}}, \"type\": \"scatterpolargl\"}], \"scatterternary\": [{\"marker\": {\"colorbar\": {\"outlinewidth\": 0, \"ticks\": \"\"}}, \"type\": \"scatterternary\"}], \"surface\": [{\"colorbar\": {\"outlinewidth\": 0, \"ticks\": \"\"}, \"colorscale\": [[0.0, \"#0d0887\"], [0.1111111111111111, \"#46039f\"], [0.2222222222222222, \"#7201a8\"], [0.3333333333333333, \"#9c179e\"], [0.4444444444444444, \"#bd3786\"], [0.5555555555555556, \"#d8576b\"], [0.6666666666666666, \"#ed7953\"], [0.7777777777777778, \"#fb9f3a\"], [0.8888888888888888, \"#fdca26\"], [1.0, \"#f0f921\"]], \"type\": \"surface\"}], \"table\": [{\"cells\": {\"fill\": {\"color\": \"#EBF0F8\"}, \"line\": {\"color\": \"white\"}}, \"header\": {\"fill\": {\"color\": \"#C8D4E3\"}, \"line\": {\"color\": \"white\"}}, \"type\": \"table\"}]}, \"layout\": {\"annotationdefaults\": {\"arrowcolor\": \"#2a3f5f\", \"arrowhead\": 0, \"arrowwidth\": 1}, \"coloraxis\": {\"colorbar\": {\"outlinewidth\": 0, \"ticks\": \"\"}}, \"colorscale\": {\"diverging\": [[0, \"#8e0152\"], [0.1, \"#c51b7d\"], [0.2, \"#de77ae\"], [0.3, \"#f1b6da\"], [0.4, \"#fde0ef\"], [0.5, \"#f7f7f7\"], [0.6, \"#e6f5d0\"], [0.7, \"#b8e186\"], [0.8, \"#7fbc41\"], [0.9, \"#4d9221\"], [1, \"#276419\"]], \"sequential\": [[0.0, \"#0d0887\"], [0.1111111111111111, \"#46039f\"], [0.2222222222222222, \"#7201a8\"], [0.3333333333333333, \"#9c179e\"], [0.4444444444444444, \"#bd3786\"], [0.5555555555555556, \"#d8576b\"], [0.6666666666666666, \"#ed7953\"], [0.7777777777777778, \"#fb9f3a\"], [0.8888888888888888, \"#fdca26\"], [1.0, \"#f0f921\"]], \"sequentialminus\": [[0.0, \"#0d0887\"], [0.1111111111111111, \"#46039f\"], [0.2222222222222222, \"#7201a8\"], [0.3333333333333333, \"#9c179e\"], [0.4444444444444444, \"#bd3786\"], [0.5555555555555556, \"#d8576b\"], [0.6666666666666666, \"#ed7953\"], [0.7777777777777778, \"#fb9f3a\"], [0.8888888888888888, \"#fdca26\"], [1.0, \"#f0f921\"]]}, \"colorway\": [\"#636efa\", \"#EF553B\", \"#00cc96\", \"#ab63fa\", \"#FFA15A\", \"#19d3f3\", \"#FF6692\", \"#B6E880\", \"#FF97FF\", \"#FECB52\"], \"font\": {\"color\": \"#2a3f5f\"}, \"geo\": {\"bgcolor\": \"white\", \"lakecolor\": \"white\", \"landcolor\": \"#E5ECF6\", \"showlakes\": true, \"showland\": true, \"subunitcolor\": \"white\"}, \"hoverlabel\": {\"align\": \"left\"}, \"hovermode\": \"closest\", \"mapbox\": {\"style\": \"light\"}, \"paper_bgcolor\": \"white\", \"plot_bgcolor\": \"#E5ECF6\", \"polar\": {\"angularaxis\": {\"gridcolor\": \"white\", \"linecolor\": \"white\", \"ticks\": \"\"}, \"bgcolor\": \"#E5ECF6\", \"radialaxis\": {\"gridcolor\": \"white\", \"linecolor\": \"white\", \"ticks\": \"\"}}, \"scene\": {\"xaxis\": {\"backgroundcolor\": \"#E5ECF6\", \"gridcolor\": \"white\", \"gridwidth\": 2, \"linecolor\": \"white\", \"showbackground\": true, \"ticks\": \"\", \"zerolinecolor\": \"white\"}, \"yaxis\": {\"backgroundcolor\": \"#E5ECF6\", \"gridcolor\": \"white\", \"gridwidth\": 2, \"linecolor\": \"white\", \"showbackground\": true, \"ticks\": \"\", \"zerolinecolor\": \"white\"}, \"zaxis\": {\"backgroundcolor\": \"#E5ECF6\", \"gridcolor\": \"white\", \"gridwidth\": 2, \"linecolor\": \"white\", \"showbackground\": true, \"ticks\": \"\", \"zerolinecolor\": \"white\"}}, \"shapedefaults\": {\"line\": {\"color\": \"#2a3f5f\"}}, \"ternary\": {\"aaxis\": {\"gridcolor\": \"white\", \"linecolor\": \"white\", \"ticks\": \"\"}, \"baxis\": {\"gridcolor\": \"white\", \"linecolor\": \"white\", \"ticks\": \"\"}, \"bgcolor\": \"#E5ECF6\", \"caxis\": {\"gridcolor\": \"white\", \"linecolor\": \"white\", \"ticks\": \"\"}}, \"title\": {\"x\": 0.05}, \"xaxis\": {\"automargin\": true, \"gridcolor\": \"white\", \"linecolor\": \"white\", \"ticks\": \"\", \"title\": {\"standoff\": 15}, \"zerolinecolor\": \"white\", \"zerolinewidth\": 2}, \"yaxis\": {\"automargin\": true, \"gridcolor\": \"white\", \"linecolor\": \"white\", \"ticks\": \"\", \"title\": {\"standoff\": 15}, \"zerolinecolor\": \"white\", \"zerolinewidth\": 2}}}, \"title\": {\"text\": \"Did the passengers board with their parents or chidren? (train.csv)\"}, \"xaxis\": {\"anchor\": \"y\", \"domain\": [0.0, 1.0], \"title\": {\"text\": \"Number of parents or children abroad the Titanic\"}}, \"yaxis\": {\"anchor\": \"x\", \"domain\": [0.0, 1.0], \"title\": {\"text\": \"count\"}}},\n",
              "                        {\"responsive\": true}\n",
              "                    ).then(function(){\n",
              "                            \n",
              "var gd = document.getElementById('1fd3ba76-ebe0-4b62-967e-681a1c7dcaa7');\n",
              "var x = new MutationObserver(function (mutations, observer) {{\n",
              "        var display = window.getComputedStyle(gd).display;\n",
              "        if (!display || display === 'none') {{\n",
              "            console.log([gd, 'removed!']);\n",
              "            Plotly.purge(gd);\n",
              "            observer.disconnect();\n",
              "        }}\n",
              "}});\n",
              "\n",
              "// Listen for the removal of the full notebook cells\n",
              "var notebookContainer = gd.closest('#notebook-container');\n",
              "if (notebookContainer) {{\n",
              "    x.observe(notebookContainer, {childList: true});\n",
              "}}\n",
              "\n",
              "// Listen for the clearing of the current output cell\n",
              "var outputEl = gd.closest('.output');\n",
              "if (outputEl) {{\n",
              "    x.observe(outputEl, {childList: true});\n",
              "}}\n",
              "\n",
              "                        })\n",
              "                };\n",
              "                \n",
              "            </script>\n",
              "        </div>\n",
              "</body>\n",
              "</html>"
            ]
          },
          "metadata": {}
        }
      ]
    },
    {
      "cell_type": "markdown",
      "metadata": {
        "id": "wARK5EmNLzAr"
      },
      "source": [
        "# Fare (train and test)"
      ]
    },
    {
      "cell_type": "code",
      "metadata": {
        "_kg_hide-input": true,
        "execution": {
          "iopub.status.busy": "2021-10-27T19:15:16.246423Z",
          "iopub.execute_input": "2021-10-27T19:15:16.246791Z",
          "iopub.status.idle": "2021-10-27T19:15:16.294173Z",
          "shell.execute_reply.started": "2021-10-27T19:15:16.246764Z",
          "shell.execute_reply": "2021-10-27T19:15:16.293351Z"
        },
        "trusted": true,
        "colab": {
          "base_uri": "https://localhost:8080/",
          "height": 542
        },
        "id": "fNeh7LjYLzAs",
        "outputId": "b339f627-fc6b-41b7-e0e4-72c14b974a6a"
      },
      "source": [
        "fig = px.histogram(train, x=\"Fare\",title=\"How much did the passengers pay to get on the Titanic? (train.csv)\")\n",
        "fig.show()"
      ],
      "execution_count": null,
      "outputs": [
        {
          "output_type": "display_data",
          "data": {
            "text/html": [
              "<html>\n",
              "<head><meta charset=\"utf-8\" /></head>\n",
              "<body>\n",
              "    <div>\n",
              "            <script src=\"https://cdnjs.cloudflare.com/ajax/libs/mathjax/2.7.5/MathJax.js?config=TeX-AMS-MML_SVG\"></script><script type=\"text/javascript\">if (window.MathJax) {MathJax.Hub.Config({SVG: {font: \"STIX-Web\"}});}</script>\n",
              "                <script type=\"text/javascript\">window.PlotlyConfig = {MathJaxConfig: 'local'};</script>\n",
              "        <script src=\"https://cdn.plot.ly/plotly-latest.min.js\"></script>    \n",
              "            <div id=\"b9d0ad0b-ab10-4e1d-89ad-64c3835d9a34\" class=\"plotly-graph-div\" style=\"height:525px; width:100%;\"></div>\n",
              "            <script type=\"text/javascript\">\n",
              "                \n",
              "                    window.PLOTLYENV=window.PLOTLYENV || {};\n",
              "                    \n",
              "                if (document.getElementById(\"b9d0ad0b-ab10-4e1d-89ad-64c3835d9a34\")) {\n",
              "                    Plotly.newPlot(\n",
              "                        'b9d0ad0b-ab10-4e1d-89ad-64c3835d9a34',\n",
              "                        [{\"alignmentgroup\": \"True\", \"bingroup\": \"x\", \"hoverlabel\": {\"namelength\": 0}, \"hovertemplate\": \"Fare=%{x}<br>count=%{y}\", \"legendgroup\": \"\", \"marker\": {\"color\": \"#636efa\"}, \"name\": \"\", \"offsetgroup\": \"\", \"orientation\": \"v\", \"showlegend\": false, \"type\": \"histogram\", \"x\": [7.25, 71.2833, 7.925, 53.1, 8.05, 8.4583, 51.8625, 21.075, 11.1333, 30.0708, 16.7, 26.55, 8.05, 31.275, 7.8542, 16.0, 29.125, 13.0, 18.0, 7.225, 26.0, 13.0, 8.0292, 35.5, 21.075, 31.3875, 7.225, 263.0, 7.8792, 7.8958, 27.7208, 146.5208, 7.75, 10.5, 82.1708, 52.0, 7.2292, 8.05, 18.0, 11.2417, 9.475, 21.0, 7.8958, 41.5792, 7.8792, 8.05, 15.5, 7.75, 21.6792, 17.8, 39.6875, 7.8, 76.7292, 26.0, 61.9792, 35.5, 10.5, 7.2292, 27.75, 46.9, 7.2292, 80.0, 83.475, 27.9, 27.7208, 15.2458, 10.5, 8.1583, 7.925, 8.6625, 10.5, 46.9, 73.5, 14.4542, 56.4958, 7.65, 7.8958, 8.05, 29.0, 12.475, 9.0, 9.5, 7.7875, 47.1, 10.5, 15.85, 34.375, 8.05, 263.0, 8.05, 8.05, 7.8542, 61.175, 20.575, 7.25, 8.05, 34.6542, 63.3583, 23.0, 26.0, 7.8958, 7.8958, 77.2875, 8.6542, 7.925, 7.8958, 7.65, 7.775, 7.8958, 24.15, 52.0, 14.4542, 8.05, 9.825, 14.4583, 7.925, 7.75, 21.0, 247.5208, 31.275, 73.5, 8.05, 30.0708, 13.0, 77.2875, 11.2417, 7.75, 7.1417, 22.3583, 6.975, 7.8958, 7.05, 14.5, 26.0, 13.0, 15.0458, 26.2833, 53.1, 9.2167, 79.2, 15.2458, 7.75, 15.85, 6.75, 11.5, 36.75, 7.7958, 34.375, 26.0, 13.0, 12.525, 66.6, 8.05, 14.5, 7.3125, 61.3792, 7.7333, 8.05, 8.6625, 69.55, 16.1, 15.75, 7.775, 8.6625, 39.6875, 20.525, 55.0, 27.9, 25.925, 56.4958, 33.5, 29.125, 11.1333, 7.925, 30.6958, 7.8542, 25.4667, 28.7125, 13.0, 0.0, 69.55, 15.05, 31.3875, 39.0, 22.025, 50.0, 15.5, 26.55, 15.5, 7.8958, 13.0, 13.0, 7.8542, 26.0, 27.7208, 146.5208, 7.75, 8.4042, 7.75, 13.0, 9.5, 69.55, 6.4958, 7.225, 8.05, 10.4625, 15.85, 18.7875, 7.75, 31.0, 7.05, 21.0, 7.25, 13.0, 7.75, 113.275, 7.925, 27.0, 76.2917, 10.5, 8.05, 13.0, 8.05, 7.8958, 90.0, 9.35, 10.5, 7.25, 13.0, 25.4667, 83.475, 7.775, 13.5, 31.3875, 10.5, 7.55, 26.0, 26.25, 10.5, 12.275, 14.4542, 15.5, 10.5, 7.125, 7.225, 90.0, 7.775, 14.5, 52.5542, 26.0, 7.25, 10.4625, 26.55, 16.1, 20.2125, 15.2458, 79.2, 86.5, 512.3292, 26.0, 7.75, 31.3875, 79.65, 0.0, 7.75, 10.5, 39.6875, 7.775, 153.4625, 135.6333, 31.0, 0.0, 19.5, 29.7, 7.75, 77.9583, 7.75, 0.0, 29.125, 20.25, 7.75, 7.8542, 9.5, 8.05, 26.0, 8.6625, 9.5, 7.8958, 13.0, 7.75, 78.85, 91.0792, 12.875, 8.85, 7.8958, 27.7208, 7.2292, 151.55, 30.5, 247.5208, 7.75, 23.25, 0.0, 12.35, 8.05, 151.55, 110.8833, 108.9, 24.0, 56.9292, 83.1583, 262.375, 26.0, 7.8958, 26.25, 7.8542, 26.0, 14.0, 164.8667, 134.5, 7.25, 7.8958, 12.35, 29.0, 69.55, 135.6333, 6.2375, 13.0, 20.525, 57.9792, 23.25, 28.5, 153.4625, 18.0, 133.65, 7.8958, 66.6, 134.5, 8.05, 35.5, 26.0, 263.0, 13.0, 13.0, 13.0, 13.0, 13.0, 16.1, 15.9, 8.6625, 9.225, 35.0, 7.2292, 17.8, 7.225, 9.5, 55.0, 13.0, 7.8792, 7.8792, 27.9, 27.7208, 14.4542, 7.05, 15.5, 7.25, 75.25, 7.2292, 7.75, 69.3, 55.4417, 6.4958, 8.05, 135.6333, 21.075, 82.1708, 7.25, 211.5, 4.0125, 7.775, 227.525, 15.7417, 7.925, 52.0, 7.8958, 73.5, 46.9, 13.0, 7.7292, 12.0, 120.0, 7.7958, 7.925, 113.275, 16.7, 7.7958, 7.8542, 26.0, 10.5, 12.65, 7.925, 8.05, 9.825, 15.85, 8.6625, 21.0, 7.75, 18.75, 7.775, 25.4667, 7.8958, 6.8583, 90.0, 0.0, 7.925, 8.05, 32.5, 13.0, 13.0, 24.15, 7.8958, 7.7333, 7.875, 14.4, 20.2125, 7.25, 26.0, 26.0, 7.75, 8.05, 26.55, 16.1, 26.0, 7.125, 55.9, 120.0, 34.375, 18.75, 263.0, 10.5, 26.25, 9.5, 7.775, 13.0, 8.1125, 81.8583, 19.5, 26.55, 19.2583, 30.5, 27.75, 19.9667, 27.75, 89.1042, 8.05, 7.8958, 26.55, 51.8625, 10.5, 7.75, 26.55, 8.05, 38.5, 13.0, 8.05, 7.05, 0.0, 26.55, 7.725, 19.2583, 7.25, 8.6625, 27.75, 13.7917, 9.8375, 52.0, 21.0, 7.0458, 7.5208, 12.2875, 46.9, 0.0, 8.05, 9.5875, 91.0792, 25.4667, 90.0, 29.7, 8.05, 15.9, 19.9667, 7.25, 30.5, 49.5042, 8.05, 14.4583, 78.2667, 15.1, 151.55, 7.7958, 8.6625, 7.75, 7.6292, 9.5875, 86.5, 108.9, 26.0, 26.55, 22.525, 56.4958, 7.75, 8.05, 26.2875, 59.4, 7.4958, 34.0208, 10.5, 24.15, 26.0, 7.8958, 93.5, 7.8958, 7.225, 57.9792, 7.2292, 7.75, 10.5, 221.7792, 7.925, 11.5, 26.0, 7.2292, 7.2292, 22.3583, 8.6625, 26.25, 26.55, 106.425, 14.5, 49.5, 71.0, 31.275, 31.275, 26.0, 106.425, 26.0, 26.0, 13.8625, 20.525, 36.75, 110.8833, 26.0, 7.8292, 7.225, 7.775, 26.55, 39.6, 227.525, 79.65, 17.4, 7.75, 7.8958, 13.5, 8.05, 8.05, 24.15, 7.8958, 21.075, 7.2292, 7.8542, 10.5, 51.4792, 26.3875, 7.75, 8.05, 14.5, 13.0, 55.9, 14.4583, 7.925, 30.0, 110.8833, 26.0, 40.125, 8.7125, 79.65, 15.0, 79.2, 8.05, 8.05, 7.125, 78.2667, 7.25, 7.75, 26.0, 24.15, 33.0, 0.0, 7.225, 56.9292, 27.0, 7.8958, 42.4, 8.05, 26.55, 15.55, 7.8958, 30.5, 41.5792, 153.4625, 31.275, 7.05, 15.5, 7.75, 8.05, 65.0, 14.4, 16.1, 39.0, 10.5, 14.4542, 52.5542, 15.7417, 7.8542, 16.1, 32.3208, 12.35, 77.9583, 7.8958, 7.7333, 30.0, 7.0542, 30.5, 0.0, 27.9, 13.0, 7.925, 26.25, 39.6875, 16.1, 7.8542, 69.3, 27.9, 56.4958, 19.2583, 76.7292, 7.8958, 35.5, 7.55, 7.55, 7.8958, 23.0, 8.4333, 7.8292, 6.75, 73.5, 7.8958, 15.5, 13.0, 113.275, 133.65, 7.225, 25.5875, 7.4958, 7.925, 73.5, 13.0, 7.775, 8.05, 52.0, 39.0, 52.0, 10.5, 13.0, 0.0, 7.775, 8.05, 9.8417, 46.9, 512.3292, 8.1375, 76.7292, 9.225, 46.9, 39.0, 41.5792, 39.6875, 10.1708, 7.7958, 211.3375, 57.0, 13.4167, 56.4958, 7.225, 26.55, 13.5, 8.05, 7.7333, 110.8833, 7.65, 227.525, 26.2875, 14.4542, 7.7417, 7.8542, 26.0, 13.5, 26.2875, 151.55, 15.2458, 49.5042, 26.55, 52.0, 9.4833, 13.0, 7.65, 227.525, 10.5, 15.5, 7.775, 33.0, 7.0542, 13.0, 13.0, 53.1, 8.6625, 21.0, 7.7375, 26.0, 7.925, 211.3375, 18.7875, 0.0, 13.0, 13.0, 16.1, 34.375, 512.3292, 7.8958, 7.8958, 30.0, 78.85, 262.375, 16.1, 7.925, 71.0, 20.25, 13.0, 53.1, 7.75, 23.0, 12.475, 9.5, 7.8958, 65.0, 14.5, 7.7958, 11.5, 8.05, 86.5, 14.5, 7.125, 7.2292, 120.0, 7.775, 77.9583, 39.6, 7.75, 24.15, 8.3625, 9.5, 7.8542, 10.5, 7.225, 23.0, 7.75, 7.75, 12.475, 7.7375, 211.3375, 7.2292, 57.0, 30.0, 23.45, 7.05, 7.25, 7.4958, 29.125, 20.575, 79.2, 7.75, 26.0, 69.55, 30.6958, 7.8958, 13.0, 25.9292, 8.6833, 7.2292, 24.15, 13.0, 26.25, 120.0, 8.5167, 6.975, 7.775, 0.0, 7.775, 13.0, 53.1, 7.8875, 24.15, 10.5, 31.275, 8.05, 0.0, 7.925, 37.0042, 6.45, 27.9, 93.5, 8.6625, 0.0, 12.475, 39.6875, 6.95, 56.4958, 37.0042, 7.75, 80.0, 14.4542, 18.75, 7.2292, 7.8542, 8.3, 83.1583, 8.6625, 8.05, 56.4958, 29.7, 7.925, 10.5, 31.0, 6.4375, 8.6625, 7.55, 69.55, 7.8958, 33.0, 89.1042, 31.275, 7.775, 15.2458, 39.4, 26.0, 9.35, 164.8667, 26.55, 19.2583, 7.2292, 14.1083, 11.5, 25.9292, 69.55, 13.0, 13.0, 13.8583, 50.4958, 9.5, 11.1333, 7.8958, 52.5542, 5.0, 9.0, 24.0, 7.225, 9.8458, 7.8958, 7.8958, 83.1583, 26.0, 7.8958, 10.5167, 10.5, 7.05, 29.125, 13.0, 30.0, 23.45, 30.0, 7.75], \"xaxis\": \"x\", \"yaxis\": \"y\"}],\n",
              "                        {\"barmode\": \"relative\", \"legend\": {\"tracegroupgap\": 0}, \"template\": {\"data\": {\"bar\": [{\"error_x\": {\"color\": \"#2a3f5f\"}, \"error_y\": {\"color\": \"#2a3f5f\"}, \"marker\": {\"line\": {\"color\": \"#E5ECF6\", \"width\": 0.5}}, \"type\": \"bar\"}], \"barpolar\": [{\"marker\": {\"line\": {\"color\": \"#E5ECF6\", \"width\": 0.5}}, \"type\": \"barpolar\"}], \"carpet\": [{\"aaxis\": {\"endlinecolor\": \"#2a3f5f\", \"gridcolor\": \"white\", \"linecolor\": \"white\", \"minorgridcolor\": \"white\", \"startlinecolor\": \"#2a3f5f\"}, \"baxis\": {\"endlinecolor\": \"#2a3f5f\", \"gridcolor\": \"white\", \"linecolor\": \"white\", \"minorgridcolor\": \"white\", \"startlinecolor\": \"#2a3f5f\"}, \"type\": \"carpet\"}], \"choropleth\": [{\"colorbar\": {\"outlinewidth\": 0, \"ticks\": \"\"}, \"type\": \"choropleth\"}], \"contour\": [{\"colorbar\": {\"outlinewidth\": 0, \"ticks\": \"\"}, \"colorscale\": [[0.0, \"#0d0887\"], [0.1111111111111111, \"#46039f\"], [0.2222222222222222, \"#7201a8\"], [0.3333333333333333, \"#9c179e\"], [0.4444444444444444, \"#bd3786\"], [0.5555555555555556, \"#d8576b\"], [0.6666666666666666, \"#ed7953\"], [0.7777777777777778, \"#fb9f3a\"], [0.8888888888888888, \"#fdca26\"], [1.0, \"#f0f921\"]], \"type\": \"contour\"}], \"contourcarpet\": [{\"colorbar\": {\"outlinewidth\": 0, \"ticks\": \"\"}, \"type\": \"contourcarpet\"}], \"heatmap\": [{\"colorbar\": {\"outlinewidth\": 0, \"ticks\": \"\"}, \"colorscale\": [[0.0, \"#0d0887\"], [0.1111111111111111, \"#46039f\"], [0.2222222222222222, \"#7201a8\"], [0.3333333333333333, \"#9c179e\"], [0.4444444444444444, \"#bd3786\"], [0.5555555555555556, \"#d8576b\"], [0.6666666666666666, \"#ed7953\"], [0.7777777777777778, \"#fb9f3a\"], [0.8888888888888888, \"#fdca26\"], [1.0, \"#f0f921\"]], \"type\": \"heatmap\"}], \"heatmapgl\": [{\"colorbar\": {\"outlinewidth\": 0, \"ticks\": \"\"}, \"colorscale\": [[0.0, \"#0d0887\"], [0.1111111111111111, \"#46039f\"], [0.2222222222222222, \"#7201a8\"], [0.3333333333333333, \"#9c179e\"], [0.4444444444444444, \"#bd3786\"], [0.5555555555555556, \"#d8576b\"], [0.6666666666666666, \"#ed7953\"], [0.7777777777777778, \"#fb9f3a\"], [0.8888888888888888, \"#fdca26\"], [1.0, \"#f0f921\"]], \"type\": \"heatmapgl\"}], \"histogram\": [{\"marker\": {\"colorbar\": {\"outlinewidth\": 0, \"ticks\": \"\"}}, \"type\": \"histogram\"}], \"histogram2d\": [{\"colorbar\": {\"outlinewidth\": 0, \"ticks\": \"\"}, \"colorscale\": [[0.0, \"#0d0887\"], [0.1111111111111111, \"#46039f\"], [0.2222222222222222, \"#7201a8\"], [0.3333333333333333, \"#9c179e\"], [0.4444444444444444, \"#bd3786\"], [0.5555555555555556, \"#d8576b\"], [0.6666666666666666, \"#ed7953\"], [0.7777777777777778, \"#fb9f3a\"], [0.8888888888888888, \"#fdca26\"], [1.0, \"#f0f921\"]], \"type\": \"histogram2d\"}], \"histogram2dcontour\": [{\"colorbar\": {\"outlinewidth\": 0, \"ticks\": \"\"}, \"colorscale\": [[0.0, \"#0d0887\"], [0.1111111111111111, \"#46039f\"], [0.2222222222222222, \"#7201a8\"], [0.3333333333333333, \"#9c179e\"], [0.4444444444444444, \"#bd3786\"], [0.5555555555555556, \"#d8576b\"], [0.6666666666666666, \"#ed7953\"], [0.7777777777777778, \"#fb9f3a\"], [0.8888888888888888, \"#fdca26\"], [1.0, \"#f0f921\"]], \"type\": \"histogram2dcontour\"}], \"mesh3d\": [{\"colorbar\": {\"outlinewidth\": 0, \"ticks\": \"\"}, \"type\": \"mesh3d\"}], \"parcoords\": [{\"line\": {\"colorbar\": {\"outlinewidth\": 0, \"ticks\": \"\"}}, \"type\": \"parcoords\"}], \"pie\": [{\"automargin\": true, \"type\": \"pie\"}], \"scatter\": [{\"marker\": {\"colorbar\": {\"outlinewidth\": 0, \"ticks\": \"\"}}, \"type\": \"scatter\"}], \"scatter3d\": [{\"line\": {\"colorbar\": {\"outlinewidth\": 0, \"ticks\": \"\"}}, \"marker\": {\"colorbar\": {\"outlinewidth\": 0, \"ticks\": \"\"}}, \"type\": \"scatter3d\"}], \"scattercarpet\": [{\"marker\": {\"colorbar\": {\"outlinewidth\": 0, \"ticks\": \"\"}}, \"type\": \"scattercarpet\"}], \"scattergeo\": [{\"marker\": {\"colorbar\": {\"outlinewidth\": 0, \"ticks\": \"\"}}, \"type\": \"scattergeo\"}], \"scattergl\": [{\"marker\": {\"colorbar\": {\"outlinewidth\": 0, \"ticks\": \"\"}}, \"type\": \"scattergl\"}], \"scattermapbox\": [{\"marker\": {\"colorbar\": {\"outlinewidth\": 0, \"ticks\": \"\"}}, \"type\": \"scattermapbox\"}], \"scatterpolar\": [{\"marker\": {\"colorbar\": {\"outlinewidth\": 0, \"ticks\": \"\"}}, \"type\": \"scatterpolar\"}], \"scatterpolargl\": [{\"marker\": {\"colorbar\": {\"outlinewidth\": 0, \"ticks\": \"\"}}, \"type\": \"scatterpolargl\"}], \"scatterternary\": [{\"marker\": {\"colorbar\": {\"outlinewidth\": 0, \"ticks\": \"\"}}, \"type\": \"scatterternary\"}], \"surface\": [{\"colorbar\": {\"outlinewidth\": 0, \"ticks\": \"\"}, \"colorscale\": [[0.0, \"#0d0887\"], [0.1111111111111111, \"#46039f\"], [0.2222222222222222, \"#7201a8\"], [0.3333333333333333, \"#9c179e\"], [0.4444444444444444, \"#bd3786\"], [0.5555555555555556, \"#d8576b\"], [0.6666666666666666, \"#ed7953\"], [0.7777777777777778, \"#fb9f3a\"], [0.8888888888888888, \"#fdca26\"], [1.0, \"#f0f921\"]], \"type\": \"surface\"}], \"table\": [{\"cells\": {\"fill\": {\"color\": \"#EBF0F8\"}, \"line\": {\"color\": \"white\"}}, \"header\": {\"fill\": {\"color\": \"#C8D4E3\"}, \"line\": {\"color\": \"white\"}}, \"type\": \"table\"}]}, \"layout\": {\"annotationdefaults\": {\"arrowcolor\": \"#2a3f5f\", \"arrowhead\": 0, \"arrowwidth\": 1}, \"coloraxis\": {\"colorbar\": {\"outlinewidth\": 0, \"ticks\": \"\"}}, \"colorscale\": {\"diverging\": [[0, \"#8e0152\"], [0.1, \"#c51b7d\"], [0.2, \"#de77ae\"], [0.3, \"#f1b6da\"], [0.4, \"#fde0ef\"], [0.5, \"#f7f7f7\"], [0.6, \"#e6f5d0\"], [0.7, \"#b8e186\"], [0.8, \"#7fbc41\"], [0.9, \"#4d9221\"], [1, \"#276419\"]], \"sequential\": [[0.0, \"#0d0887\"], [0.1111111111111111, \"#46039f\"], [0.2222222222222222, \"#7201a8\"], [0.3333333333333333, \"#9c179e\"], [0.4444444444444444, \"#bd3786\"], [0.5555555555555556, \"#d8576b\"], [0.6666666666666666, \"#ed7953\"], [0.7777777777777778, \"#fb9f3a\"], [0.8888888888888888, \"#fdca26\"], [1.0, \"#f0f921\"]], \"sequentialminus\": [[0.0, \"#0d0887\"], [0.1111111111111111, \"#46039f\"], [0.2222222222222222, \"#7201a8\"], [0.3333333333333333, \"#9c179e\"], [0.4444444444444444, \"#bd3786\"], [0.5555555555555556, \"#d8576b\"], [0.6666666666666666, \"#ed7953\"], [0.7777777777777778, \"#fb9f3a\"], [0.8888888888888888, \"#fdca26\"], [1.0, \"#f0f921\"]]}, \"colorway\": [\"#636efa\", \"#EF553B\", \"#00cc96\", \"#ab63fa\", \"#FFA15A\", \"#19d3f3\", \"#FF6692\", \"#B6E880\", \"#FF97FF\", \"#FECB52\"], \"font\": {\"color\": \"#2a3f5f\"}, \"geo\": {\"bgcolor\": \"white\", \"lakecolor\": \"white\", \"landcolor\": \"#E5ECF6\", \"showlakes\": true, \"showland\": true, \"subunitcolor\": \"white\"}, \"hoverlabel\": {\"align\": \"left\"}, \"hovermode\": \"closest\", \"mapbox\": {\"style\": \"light\"}, \"paper_bgcolor\": \"white\", \"plot_bgcolor\": \"#E5ECF6\", \"polar\": {\"angularaxis\": {\"gridcolor\": \"white\", \"linecolor\": \"white\", \"ticks\": \"\"}, \"bgcolor\": \"#E5ECF6\", \"radialaxis\": {\"gridcolor\": \"white\", \"linecolor\": \"white\", \"ticks\": \"\"}}, \"scene\": {\"xaxis\": {\"backgroundcolor\": \"#E5ECF6\", \"gridcolor\": \"white\", \"gridwidth\": 2, \"linecolor\": \"white\", \"showbackground\": true, \"ticks\": \"\", \"zerolinecolor\": \"white\"}, \"yaxis\": {\"backgroundcolor\": \"#E5ECF6\", \"gridcolor\": \"white\", \"gridwidth\": 2, \"linecolor\": \"white\", \"showbackground\": true, \"ticks\": \"\", \"zerolinecolor\": \"white\"}, \"zaxis\": {\"backgroundcolor\": \"#E5ECF6\", \"gridcolor\": \"white\", \"gridwidth\": 2, \"linecolor\": \"white\", \"showbackground\": true, \"ticks\": \"\", \"zerolinecolor\": \"white\"}}, \"shapedefaults\": {\"line\": {\"color\": \"#2a3f5f\"}}, \"ternary\": {\"aaxis\": {\"gridcolor\": \"white\", \"linecolor\": \"white\", \"ticks\": \"\"}, \"baxis\": {\"gridcolor\": \"white\", \"linecolor\": \"white\", \"ticks\": \"\"}, \"bgcolor\": \"#E5ECF6\", \"caxis\": {\"gridcolor\": \"white\", \"linecolor\": \"white\", \"ticks\": \"\"}}, \"title\": {\"x\": 0.05}, \"xaxis\": {\"automargin\": true, \"gridcolor\": \"white\", \"linecolor\": \"white\", \"ticks\": \"\", \"title\": {\"standoff\": 15}, \"zerolinecolor\": \"white\", \"zerolinewidth\": 2}, \"yaxis\": {\"automargin\": true, \"gridcolor\": \"white\", \"linecolor\": \"white\", \"ticks\": \"\", \"title\": {\"standoff\": 15}, \"zerolinecolor\": \"white\", \"zerolinewidth\": 2}}}, \"title\": {\"text\": \"How much did the passengers pay to get on the Titanic? (train.csv)\"}, \"xaxis\": {\"anchor\": \"y\", \"domain\": [0.0, 1.0], \"title\": {\"text\": \"Fare\"}}, \"yaxis\": {\"anchor\": \"x\", \"domain\": [0.0, 1.0], \"title\": {\"text\": \"count\"}}},\n",
              "                        {\"responsive\": true}\n",
              "                    ).then(function(){\n",
              "                            \n",
              "var gd = document.getElementById('b9d0ad0b-ab10-4e1d-89ad-64c3835d9a34');\n",
              "var x = new MutationObserver(function (mutations, observer) {{\n",
              "        var display = window.getComputedStyle(gd).display;\n",
              "        if (!display || display === 'none') {{\n",
              "            console.log([gd, 'removed!']);\n",
              "            Plotly.purge(gd);\n",
              "            observer.disconnect();\n",
              "        }}\n",
              "}});\n",
              "\n",
              "// Listen for the removal of the full notebook cells\n",
              "var notebookContainer = gd.closest('#notebook-container');\n",
              "if (notebookContainer) {{\n",
              "    x.observe(notebookContainer, {childList: true});\n",
              "}}\n",
              "\n",
              "// Listen for the clearing of the current output cell\n",
              "var outputEl = gd.closest('.output');\n",
              "if (outputEl) {{\n",
              "    x.observe(outputEl, {childList: true});\n",
              "}}\n",
              "\n",
              "                        })\n",
              "                };\n",
              "                \n",
              "            </script>\n",
              "        </div>\n",
              "</body>\n",
              "</html>"
            ]
          },
          "metadata": {}
        }
      ]
    },
    {
      "cell_type": "markdown",
      "metadata": {
        "id": "d8Uqqd11LzAs"
      },
      "source": [
        "# Embarked(train and test)"
      ]
    },
    {
      "cell_type": "markdown",
      "metadata": {
        "id": "SlP8gMQHLzAs"
      },
      "source": [
        "* The column \"Embarked\" shows the name of port where passengers went on board."
      ]
    },
    {
      "cell_type": "code",
      "metadata": {
        "_kg_hide-input": true,
        "execution": {
          "iopub.status.busy": "2021-10-27T19:15:16.341672Z",
          "iopub.execute_input": "2021-10-27T19:15:16.341942Z",
          "iopub.status.idle": "2021-10-27T19:15:16.347283Z",
          "shell.execute_reply.started": "2021-10-27T19:15:16.341915Z",
          "shell.execute_reply": "2021-10-27T19:15:16.346519Z"
        },
        "trusted": true,
        "id": "AHQp5jrKLzAs"
      },
      "source": [
        "def Embarked_changes(df):\n",
        "    #df[\"Embarked\"] = df[\"Embarked\"].dropna()\n",
        "    df[\"Embarked\"] = [\"Cherbourg\" if i == \"C\" else i for i in df[\"Embarked\"] ]\n",
        "    df[\"Embarked\"] = [\"Queenstown\" if i == \"Q\" else i for i in df[\"Embarked\"]]\n",
        "    df[\"Embarked\"] = [\"Southampton\" if i == \"S\" else i for i in df[\"Embarked\"]]\n",
        "    \n",
        "    return df"
      ],
      "execution_count": null,
      "outputs": []
    },
    {
      "cell_type": "code",
      "metadata": {
        "_kg_hide-input": true,
        "execution": {
          "iopub.status.busy": "2021-10-27T19:15:16.348628Z",
          "iopub.execute_input": "2021-10-27T19:15:16.349133Z",
          "iopub.status.idle": "2021-10-27T19:15:16.360516Z",
          "shell.execute_reply.started": "2021-10-27T19:15:16.349103Z",
          "shell.execute_reply": "2021-10-27T19:15:16.359717Z"
        },
        "trusted": true,
        "id": "ebD7oYUSLzAt"
      },
      "source": [
        "train = Embarked_changes(train)\n"
      ],
      "execution_count": null,
      "outputs": []
    },
    {
      "cell_type": "code",
      "metadata": {
        "_kg_hide-input": true,
        "execution": {
          "iopub.status.busy": "2021-10-27T19:15:16.361763Z",
          "iopub.execute_input": "2021-10-27T19:15:16.362211Z",
          "iopub.status.idle": "2021-10-27T19:15:16.412172Z",
          "shell.execute_reply.started": "2021-10-27T19:15:16.362179Z",
          "shell.execute_reply": "2021-10-27T19:15:16.411479Z"
        },
        "trusted": true,
        "colab": {
          "base_uri": "https://localhost:8080/",
          "height": 542
        },
        "id": "dfsQmfHoLzAt",
        "outputId": "47158415-dba0-4e30-c458-b9b527b34f52"
      },
      "source": [
        "fig = px.histogram(train, x=\"Embarked\",\n",
        "                   title=\"Which port did the passengers embark? (train.csv)\",\n",
        "                   labels={\"Embarked\":\"Port of Embarkation\"})\n",
        "fig.show()"
      ],
      "execution_count": null,
      "outputs": [
        {
          "output_type": "display_data",
          "data": {
            "text/html": [
              "<html>\n",
              "<head><meta charset=\"utf-8\" /></head>\n",
              "<body>\n",
              "    <div>\n",
              "            <script src=\"https://cdnjs.cloudflare.com/ajax/libs/mathjax/2.7.5/MathJax.js?config=TeX-AMS-MML_SVG\"></script><script type=\"text/javascript\">if (window.MathJax) {MathJax.Hub.Config({SVG: {font: \"STIX-Web\"}});}</script>\n",
              "                <script type=\"text/javascript\">window.PlotlyConfig = {MathJaxConfig: 'local'};</script>\n",
              "        <script src=\"https://cdn.plot.ly/plotly-latest.min.js\"></script>    \n",
              "            <div id=\"2b4e0bea-d5dd-4fe9-9c77-72779aeee520\" class=\"plotly-graph-div\" style=\"height:525px; width:100%;\"></div>\n",
              "            <script type=\"text/javascript\">\n",
              "                \n",
              "                    window.PLOTLYENV=window.PLOTLYENV || {};\n",
              "                    \n",
              "                if (document.getElementById(\"2b4e0bea-d5dd-4fe9-9c77-72779aeee520\")) {\n",
              "                    Plotly.newPlot(\n",
              "                        '2b4e0bea-d5dd-4fe9-9c77-72779aeee520',\n",
              "                        [{\"alignmentgroup\": \"True\", \"bingroup\": \"x\", \"hoverlabel\": {\"namelength\": 0}, \"hovertemplate\": \"Port of Embarkation=%{x}<br>count=%{y}\", \"legendgroup\": \"\", \"marker\": {\"color\": \"#636efa\"}, \"name\": \"\", \"offsetgroup\": \"\", \"orientation\": \"v\", \"showlegend\": false, \"type\": \"histogram\", \"x\": [\"Southampton\", \"Cherbourg\", \"Southampton\", \"Southampton\", \"Southampton\", \"Queenstown\", \"Southampton\", \"Southampton\", \"Southampton\", \"Cherbourg\", \"Southampton\", \"Southampton\", \"Southampton\", \"Southampton\", \"Southampton\", \"Southampton\", \"Queenstown\", \"Southampton\", \"Southampton\", \"Cherbourg\", \"Southampton\", \"Southampton\", \"Queenstown\", \"Southampton\", \"Southampton\", \"Southampton\", \"Cherbourg\", \"Southampton\", \"Queenstown\", \"Southampton\", \"Cherbourg\", \"Cherbourg\", \"Queenstown\", \"Southampton\", \"Cherbourg\", \"Southampton\", \"Cherbourg\", \"Southampton\", \"Southampton\", \"Cherbourg\", \"Southampton\", \"Southampton\", \"Cherbourg\", \"Cherbourg\", \"Queenstown\", \"Southampton\", \"Queenstown\", \"Queenstown\", \"Cherbourg\", \"Southampton\", \"Southampton\", \"Southampton\", \"Cherbourg\", \"Southampton\", \"Cherbourg\", \"Southampton\", \"Southampton\", \"Cherbourg\", \"Southampton\", \"Southampton\", \"Cherbourg\", null, \"Southampton\", \"Southampton\", \"Cherbourg\", \"Cherbourg\", \"Southampton\", \"Southampton\", \"Southampton\", \"Southampton\", \"Southampton\", \"Southampton\", \"Southampton\", \"Cherbourg\", \"Southampton\", \"Southampton\", \"Southampton\", \"Southampton\", \"Southampton\", \"Southampton\", \"Southampton\", \"Southampton\", \"Queenstown\", \"Southampton\", \"Southampton\", \"Southampton\", \"Southampton\", \"Southampton\", \"Southampton\", \"Southampton\", \"Southampton\", \"Southampton\", \"Southampton\", \"Southampton\", \"Southampton\", \"Southampton\", \"Cherbourg\", \"Cherbourg\", \"Southampton\", \"Southampton\", \"Southampton\", \"Southampton\", \"Southampton\", \"Southampton\", \"Southampton\", \"Southampton\", \"Southampton\", \"Southampton\", \"Southampton\", \"Queenstown\", \"Southampton\", \"Cherbourg\", \"Southampton\", \"Southampton\", \"Cherbourg\", \"Southampton\", \"Queenstown\", \"Southampton\", \"Cherbourg\", \"Southampton\", \"Southampton\", \"Southampton\", \"Cherbourg\", \"Southampton\", \"Southampton\", \"Cherbourg\", \"Queenstown\", \"Southampton\", \"Cherbourg\", \"Southampton\", \"Cherbourg\", \"Southampton\", \"Southampton\", \"Southampton\", \"Southampton\", \"Cherbourg\", \"Southampton\", \"Southampton\", \"Southampton\", \"Cherbourg\", \"Cherbourg\", \"Southampton\", \"Southampton\", \"Queenstown\", \"Southampton\", \"Southampton\", \"Southampton\", \"Southampton\", \"Southampton\", \"Southampton\", \"Southampton\", \"Southampton\", \"Southampton\", \"Southampton\", \"Southampton\", \"Cherbourg\", \"Queenstown\", \"Southampton\", \"Southampton\", \"Southampton\", \"Southampton\", \"Southampton\", \"Southampton\", \"Southampton\", \"Southampton\", \"Southampton\", \"Southampton\", \"Southampton\", \"Southampton\", \"Southampton\", \"Southampton\", \"Queenstown\", \"Southampton\", \"Southampton\", \"Cherbourg\", \"Southampton\", \"Southampton\", \"Cherbourg\", \"Southampton\", \"Southampton\", \"Southampton\", \"Cherbourg\", \"Southampton\", \"Southampton\", \"Southampton\", \"Southampton\", \"Queenstown\", \"Southampton\", \"Queenstown\", \"Southampton\", \"Southampton\", \"Southampton\", \"Southampton\", \"Southampton\", \"Cherbourg\", \"Cherbourg\", \"Queenstown\", \"Southampton\", \"Queenstown\", \"Southampton\", \"Southampton\", \"Southampton\", \"Southampton\", \"Cherbourg\", \"Southampton\", \"Southampton\", \"Southampton\", \"Cherbourg\", \"Queenstown\", \"Cherbourg\", \"Southampton\", \"Southampton\", \"Southampton\", \"Southampton\", \"Queenstown\", \"Cherbourg\", \"Southampton\", \"Southampton\", \"Cherbourg\", \"Southampton\", \"Southampton\", \"Southampton\", \"Southampton\", \"Southampton\", \"Southampton\", \"Southampton\", \"Southampton\", \"Southampton\", \"Southampton\", \"Southampton\", \"Southampton\", \"Southampton\", \"Southampton\", \"Southampton\", \"Southampton\", \"Southampton\", \"Southampton\", \"Southampton\", \"Southampton\", \"Southampton\", \"Cherbourg\", \"Queenstown\", \"Southampton\", \"Southampton\", \"Cherbourg\", \"Queenstown\", \"Southampton\", \"Southampton\", \"Southampton\", \"Southampton\", \"Southampton\", \"Southampton\", \"Southampton\", \"Southampton\", \"Southampton\", \"Cherbourg\", \"Cherbourg\", \"Southampton\", \"Cherbourg\", \"Southampton\", \"Queenstown\", \"Southampton\", \"Southampton\", \"Southampton\", \"Queenstown\", \"Southampton\", \"Southampton\", \"Southampton\", \"Southampton\", \"Southampton\", \"Southampton\", \"Southampton\", \"Southampton\", \"Cherbourg\", \"Queenstown\", \"Southampton\", \"Southampton\", \"Southampton\", \"Queenstown\", \"Southampton\", \"Queenstown\", \"Southampton\", \"Southampton\", \"Southampton\", \"Southampton\", \"Cherbourg\", \"Southampton\", \"Southampton\", \"Southampton\", \"Queenstown\", \"Southampton\", \"Cherbourg\", \"Cherbourg\", \"Southampton\", \"Southampton\", \"Cherbourg\", \"Cherbourg\", \"Southampton\", \"Southampton\", \"Cherbourg\", \"Queenstown\", \"Queenstown\", \"Southampton\", \"Queenstown\", \"Southampton\", \"Southampton\", \"Cherbourg\", \"Cherbourg\", \"Cherbourg\", \"Cherbourg\", \"Cherbourg\", \"Cherbourg\", \"Southampton\", \"Southampton\", \"Southampton\", \"Southampton\", \"Southampton\", \"Southampton\", \"Southampton\", \"Cherbourg\", \"Southampton\", \"Southampton\", \"Queenstown\", \"Southampton\", \"Southampton\", \"Cherbourg\", \"Southampton\", \"Southampton\", \"Southampton\", \"Cherbourg\", \"Queenstown\", \"Southampton\", \"Southampton\", \"Southampton\", \"Southampton\", \"Southampton\", \"Southampton\", \"Cherbourg\", \"Southampton\", \"Southampton\", \"Southampton\", \"Southampton\", \"Southampton\", \"Southampton\", \"Southampton\", \"Southampton\", \"Southampton\", \"Southampton\", \"Southampton\", \"Southampton\", \"Southampton\", \"Southampton\", \"Cherbourg\", \"Southampton\", \"Cherbourg\", \"Southampton\", \"Southampton\", \"Southampton\", \"Queenstown\", \"Queenstown\", \"Southampton\", \"Cherbourg\", \"Cherbourg\", \"Southampton\", \"Queenstown\", \"Southampton\", \"Cherbourg\", \"Cherbourg\", \"Queenstown\", \"Cherbourg\", \"Cherbourg\", \"Southampton\", \"Southampton\", \"Cherbourg\", \"Southampton\", \"Cherbourg\", \"Southampton\", \"Cherbourg\", \"Cherbourg\", \"Southampton\", \"Cherbourg\", \"Cherbourg\", \"Southampton\", \"Southampton\", \"Southampton\", \"Southampton\", \"Southampton\", \"Southampton\", \"Queenstown\", \"Cherbourg\", \"Southampton\", \"Southampton\", \"Southampton\", \"Cherbourg\", \"Southampton\", \"Southampton\", \"Southampton\", \"Southampton\", \"Southampton\", \"Southampton\", \"Southampton\", \"Southampton\", \"Southampton\", \"Southampton\", \"Southampton\", \"Southampton\", \"Southampton\", \"Southampton\", \"Southampton\", \"Southampton\", \"Southampton\", \"Queenstown\", \"Queenstown\", \"Southampton\", \"Southampton\", \"Southampton\", \"Southampton\", \"Southampton\", \"Southampton\", \"Southampton\", \"Cherbourg\", \"Queenstown\", \"Southampton\", \"Southampton\", \"Southampton\", \"Southampton\", \"Southampton\", \"Southampton\", \"Queenstown\", \"Southampton\", \"Southampton\", \"Southampton\", \"Southampton\", \"Southampton\", \"Southampton\", \"Southampton\", \"Southampton\", \"Southampton\", \"Southampton\", \"Southampton\", \"Southampton\", \"Southampton\", \"Southampton\", \"Southampton\", \"Southampton\", \"Southampton\", \"Southampton\", \"Southampton\", \"Cherbourg\", \"Southampton\", \"Southampton\", \"Southampton\", \"Cherbourg\", \"Cherbourg\", \"Southampton\", \"Cherbourg\", \"Southampton\", \"Southampton\", \"Southampton\", \"Queenstown\", \"Southampton\", \"Southampton\", \"Southampton\", \"Southampton\", \"Southampton\", \"Southampton\", \"Southampton\", \"Southampton\", \"Queenstown\", \"Cherbourg\", \"Southampton\", \"Southampton\", \"Southampton\", \"Cherbourg\", \"Southampton\", \"Southampton\", \"Southampton\", \"Southampton\", \"Southampton\", \"Southampton\", \"Southampton\", \"Southampton\", \"Southampton\", \"Southampton\", \"Cherbourg\", \"Southampton\", \"Southampton\", \"Cherbourg\", \"Southampton\", \"Southampton\", \"Southampton\", \"Southampton\", \"Southampton\", \"Cherbourg\", \"Southampton\", \"Cherbourg\", \"Cherbourg\", \"Southampton\", \"Southampton\", \"Southampton\", \"Southampton\", \"Queenstown\", \"Queenstown\", \"Southampton\", \"Southampton\", \"Cherbourg\", \"Southampton\", \"Southampton\", \"Southampton\", \"Southampton\", \"Queenstown\", \"Southampton\", \"Southampton\", \"Cherbourg\", \"Southampton\", \"Southampton\", \"Southampton\", \"Queenstown\", \"Southampton\", \"Southampton\", \"Southampton\", \"Southampton\", \"Cherbourg\", \"Cherbourg\", \"Cherbourg\", \"Queenstown\", \"Southampton\", \"Southampton\", \"Southampton\", \"Southampton\", \"Southampton\", \"Cherbourg\", \"Cherbourg\", \"Cherbourg\", \"Southampton\", \"Southampton\", \"Southampton\", \"Cherbourg\", \"Southampton\", \"Cherbourg\", \"Southampton\", \"Southampton\", \"Southampton\", \"Southampton\", \"Cherbourg\", \"Southampton\", \"Southampton\", \"Cherbourg\", \"Southampton\", \"Southampton\", \"Cherbourg\", \"Southampton\", \"Queenstown\", \"Cherbourg\", \"Southampton\", \"Southampton\", \"Cherbourg\", \"Cherbourg\", \"Southampton\", \"Southampton\", \"Queenstown\", \"Southampton\", \"Southampton\", \"Southampton\", \"Southampton\", \"Southampton\", \"Southampton\", \"Southampton\", \"Cherbourg\", \"Southampton\", \"Southampton\", \"Southampton\", \"Southampton\", \"Queenstown\", \"Southampton\", \"Southampton\", \"Southampton\", \"Southampton\", \"Cherbourg\", \"Southampton\", \"Southampton\", \"Cherbourg\", \"Southampton\", \"Cherbourg\", \"Cherbourg\", \"Southampton\", \"Southampton\", \"Cherbourg\", \"Southampton\", \"Southampton\", \"Southampton\", \"Cherbourg\", \"Southampton\", \"Queenstown\", \"Southampton\", \"Southampton\", \"Southampton\", \"Southampton\", \"Cherbourg\", \"Cherbourg\", \"Southampton\", \"Southampton\", \"Southampton\", \"Southampton\", \"Cherbourg\", \"Southampton\", \"Southampton\", \"Southampton\", \"Cherbourg\", \"Southampton\", \"Southampton\", \"Southampton\", \"Queenstown\", \"Queenstown\", \"Southampton\", \"Southampton\", \"Southampton\", \"Southampton\", \"Southampton\", \"Southampton\", \"Cherbourg\", \"Southampton\", \"Cherbourg\", \"Southampton\", \"Southampton\", \"Southampton\", \"Queenstown\", \"Southampton\", \"Southampton\", \"Queenstown\", \"Southampton\", \"Southampton\", \"Cherbourg\", \"Southampton\", \"Southampton\", \"Southampton\", \"Southampton\", \"Southampton\", \"Southampton\", \"Southampton\", \"Southampton\", \"Cherbourg\", \"Southampton\", \"Southampton\", \"Cherbourg\", \"Cherbourg\", \"Southampton\", \"Cherbourg\", \"Southampton\", \"Southampton\", \"Southampton\", \"Southampton\", \"Southampton\", \"Queenstown\", \"Queenstown\", \"Southampton\", \"Southampton\", \"Queenstown\", \"Southampton\", \"Cherbourg\", \"Southampton\", \"Cherbourg\", \"Southampton\", \"Southampton\", \"Southampton\", \"Southampton\", \"Southampton\", \"Southampton\", \"Southampton\", \"Southampton\", \"Southampton\", \"Southampton\", \"Southampton\", \"Southampton\", \"Southampton\", \"Southampton\", \"Southampton\", \"Southampton\", \"Southampton\", \"Cherbourg\", \"Queenstown\", \"Cherbourg\", \"Southampton\", \"Southampton\", \"Southampton\", \"Cherbourg\", \"Southampton\", \"Southampton\", \"Southampton\", \"Southampton\", \"Southampton\", \"Cherbourg\", \"Southampton\", \"Cherbourg\", \"Southampton\", \"Southampton\", \"Southampton\", \"Queenstown\", \"Cherbourg\", \"Southampton\", \"Cherbourg\", \"Southampton\", \"Cherbourg\", \"Queenstown\", \"Southampton\", \"Southampton\", \"Southampton\", \"Southampton\", \"Southampton\", \"Cherbourg\", \"Cherbourg\", \"Southampton\", \"Southampton\", \"Southampton\", \"Southampton\", \"Southampton\", \"Cherbourg\", \"Southampton\", \"Queenstown\", \"Southampton\", \"Southampton\", \"Southampton\", \"Southampton\", \"Southampton\", \"Southampton\", \"Southampton\", \"Southampton\", \"Queenstown\", \"Southampton\", \"Southampton\", \"Southampton\", \"Cherbourg\", \"Southampton\", \"Southampton\", \"Southampton\", \"Southampton\", \"Southampton\", \"Cherbourg\", \"Southampton\", \"Southampton\", \"Southampton\", \"Southampton\", \"Cherbourg\", \"Southampton\", \"Southampton\", \"Southampton\", \"Southampton\", \"Southampton\", \"Southampton\", \"Queenstown\", \"Southampton\", \"Southampton\", \"Southampton\", \"Southampton\", \"Southampton\", \"Southampton\", \"Southampton\", \"Southampton\", \"Southampton\", \"Southampton\", \"Southampton\", \"Southampton\", \"Cherbourg\", \"Southampton\", \"Southampton\", \"Southampton\", \"Cherbourg\", \"Queenstown\", \"Queenstown\", \"Southampton\", \"Southampton\", \"Southampton\", \"Southampton\", \"Cherbourg\", \"Southampton\", \"Southampton\", \"Queenstown\", \"Southampton\", \"Queenstown\", \"Southampton\", \"Cherbourg\", \"Southampton\", \"Southampton\", \"Southampton\", \"Southampton\", \"Southampton\", \"Southampton\", \"Queenstown\", \"Southampton\", \"Cherbourg\", \"Queenstown\", \"Southampton\", \"Southampton\", \"Cherbourg\", \"Southampton\", \"Southampton\", \"Southampton\", \"Southampton\", \"Cherbourg\", \"Southampton\", \"Southampton\", \"Southampton\", \"Southampton\", \"Cherbourg\", \"Southampton\", \"Southampton\", \"Southampton\", \"Southampton\", \"Southampton\", \"Southampton\", \"Southampton\", \"Southampton\", \"Southampton\", \"Southampton\", \"Southampton\", \"Southampton\", \"Southampton\", \"Cherbourg\", \"Southampton\", \"Southampton\", \"Southampton\", \"Southampton\", \"Southampton\", \"Southampton\", \"Southampton\", \"Queenstown\", \"Southampton\", \"Cherbourg\", \"Queenstown\", null, \"Cherbourg\", \"Southampton\", \"Cherbourg\", \"Southampton\", \"Southampton\", \"Cherbourg\", \"Southampton\", \"Southampton\", \"Southampton\", \"Cherbourg\", \"Southampton\", \"Southampton\", \"Cherbourg\", \"Cherbourg\", \"Southampton\", \"Southampton\", \"Southampton\", \"Cherbourg\", \"Southampton\", \"Cherbourg\", \"Southampton\", \"Southampton\", \"Cherbourg\", \"Southampton\", \"Southampton\", \"Southampton\", \"Southampton\", \"Southampton\", \"Cherbourg\", \"Cherbourg\", \"Southampton\", \"Southampton\", \"Southampton\", \"Southampton\", \"Southampton\", \"Southampton\", \"Cherbourg\", \"Southampton\", \"Southampton\", \"Southampton\", \"Southampton\", \"Southampton\", \"Southampton\", \"Southampton\", \"Cherbourg\", \"Cherbourg\", \"Southampton\", \"Southampton\", \"Southampton\", \"Cherbourg\", \"Southampton\", \"Southampton\", \"Southampton\", \"Southampton\", \"Southampton\", \"Queenstown\", \"Southampton\", \"Southampton\", \"Southampton\", \"Cherbourg\", \"Queenstown\"], \"xaxis\": \"x\", \"yaxis\": \"y\"}],\n",
              "                        {\"barmode\": \"relative\", \"legend\": {\"tracegroupgap\": 0}, \"template\": {\"data\": {\"bar\": [{\"error_x\": {\"color\": \"#2a3f5f\"}, \"error_y\": {\"color\": \"#2a3f5f\"}, \"marker\": {\"line\": {\"color\": \"#E5ECF6\", \"width\": 0.5}}, \"type\": \"bar\"}], \"barpolar\": [{\"marker\": {\"line\": {\"color\": \"#E5ECF6\", \"width\": 0.5}}, \"type\": \"barpolar\"}], \"carpet\": [{\"aaxis\": {\"endlinecolor\": \"#2a3f5f\", \"gridcolor\": \"white\", \"linecolor\": \"white\", \"minorgridcolor\": \"white\", \"startlinecolor\": \"#2a3f5f\"}, \"baxis\": {\"endlinecolor\": \"#2a3f5f\", \"gridcolor\": \"white\", \"linecolor\": \"white\", \"minorgridcolor\": \"white\", \"startlinecolor\": \"#2a3f5f\"}, \"type\": \"carpet\"}], \"choropleth\": [{\"colorbar\": {\"outlinewidth\": 0, \"ticks\": \"\"}, \"type\": \"choropleth\"}], \"contour\": [{\"colorbar\": {\"outlinewidth\": 0, \"ticks\": \"\"}, \"colorscale\": [[0.0, \"#0d0887\"], [0.1111111111111111, \"#46039f\"], [0.2222222222222222, \"#7201a8\"], [0.3333333333333333, \"#9c179e\"], [0.4444444444444444, \"#bd3786\"], [0.5555555555555556, \"#d8576b\"], [0.6666666666666666, \"#ed7953\"], [0.7777777777777778, \"#fb9f3a\"], [0.8888888888888888, \"#fdca26\"], [1.0, \"#f0f921\"]], \"type\": \"contour\"}], \"contourcarpet\": [{\"colorbar\": {\"outlinewidth\": 0, \"ticks\": \"\"}, \"type\": \"contourcarpet\"}], \"heatmap\": [{\"colorbar\": {\"outlinewidth\": 0, \"ticks\": \"\"}, \"colorscale\": [[0.0, \"#0d0887\"], [0.1111111111111111, \"#46039f\"], [0.2222222222222222, \"#7201a8\"], [0.3333333333333333, \"#9c179e\"], [0.4444444444444444, \"#bd3786\"], [0.5555555555555556, \"#d8576b\"], [0.6666666666666666, \"#ed7953\"], [0.7777777777777778, \"#fb9f3a\"], [0.8888888888888888, \"#fdca26\"], [1.0, \"#f0f921\"]], \"type\": \"heatmap\"}], \"heatmapgl\": [{\"colorbar\": {\"outlinewidth\": 0, \"ticks\": \"\"}, \"colorscale\": [[0.0, \"#0d0887\"], [0.1111111111111111, \"#46039f\"], [0.2222222222222222, \"#7201a8\"], [0.3333333333333333, \"#9c179e\"], [0.4444444444444444, \"#bd3786\"], [0.5555555555555556, \"#d8576b\"], [0.6666666666666666, \"#ed7953\"], [0.7777777777777778, \"#fb9f3a\"], [0.8888888888888888, \"#fdca26\"], [1.0, \"#f0f921\"]], \"type\": \"heatmapgl\"}], \"histogram\": [{\"marker\": {\"colorbar\": {\"outlinewidth\": 0, \"ticks\": \"\"}}, \"type\": \"histogram\"}], \"histogram2d\": [{\"colorbar\": {\"outlinewidth\": 0, \"ticks\": \"\"}, \"colorscale\": [[0.0, \"#0d0887\"], [0.1111111111111111, \"#46039f\"], [0.2222222222222222, \"#7201a8\"], [0.3333333333333333, \"#9c179e\"], [0.4444444444444444, \"#bd3786\"], [0.5555555555555556, \"#d8576b\"], [0.6666666666666666, \"#ed7953\"], [0.7777777777777778, \"#fb9f3a\"], [0.8888888888888888, \"#fdca26\"], [1.0, \"#f0f921\"]], \"type\": \"histogram2d\"}], \"histogram2dcontour\": [{\"colorbar\": {\"outlinewidth\": 0, \"ticks\": \"\"}, \"colorscale\": [[0.0, \"#0d0887\"], [0.1111111111111111, \"#46039f\"], [0.2222222222222222, \"#7201a8\"], [0.3333333333333333, \"#9c179e\"], [0.4444444444444444, \"#bd3786\"], [0.5555555555555556, \"#d8576b\"], [0.6666666666666666, \"#ed7953\"], [0.7777777777777778, \"#fb9f3a\"], [0.8888888888888888, \"#fdca26\"], [1.0, \"#f0f921\"]], \"type\": \"histogram2dcontour\"}], \"mesh3d\": [{\"colorbar\": {\"outlinewidth\": 0, \"ticks\": \"\"}, \"type\": \"mesh3d\"}], \"parcoords\": [{\"line\": {\"colorbar\": {\"outlinewidth\": 0, \"ticks\": \"\"}}, \"type\": \"parcoords\"}], \"pie\": [{\"automargin\": true, \"type\": \"pie\"}], \"scatter\": [{\"marker\": {\"colorbar\": {\"outlinewidth\": 0, \"ticks\": \"\"}}, \"type\": \"scatter\"}], \"scatter3d\": [{\"line\": {\"colorbar\": {\"outlinewidth\": 0, \"ticks\": \"\"}}, \"marker\": {\"colorbar\": {\"outlinewidth\": 0, \"ticks\": \"\"}}, \"type\": \"scatter3d\"}], \"scattercarpet\": [{\"marker\": {\"colorbar\": {\"outlinewidth\": 0, \"ticks\": \"\"}}, \"type\": \"scattercarpet\"}], \"scattergeo\": [{\"marker\": {\"colorbar\": {\"outlinewidth\": 0, \"ticks\": \"\"}}, \"type\": \"scattergeo\"}], \"scattergl\": [{\"marker\": {\"colorbar\": {\"outlinewidth\": 0, \"ticks\": \"\"}}, \"type\": \"scattergl\"}], \"scattermapbox\": [{\"marker\": {\"colorbar\": {\"outlinewidth\": 0, \"ticks\": \"\"}}, \"type\": \"scattermapbox\"}], \"scatterpolar\": [{\"marker\": {\"colorbar\": {\"outlinewidth\": 0, \"ticks\": \"\"}}, \"type\": \"scatterpolar\"}], \"scatterpolargl\": [{\"marker\": {\"colorbar\": {\"outlinewidth\": 0, \"ticks\": \"\"}}, \"type\": \"scatterpolargl\"}], \"scatterternary\": [{\"marker\": {\"colorbar\": {\"outlinewidth\": 0, \"ticks\": \"\"}}, \"type\": \"scatterternary\"}], \"surface\": [{\"colorbar\": {\"outlinewidth\": 0, \"ticks\": \"\"}, \"colorscale\": [[0.0, \"#0d0887\"], [0.1111111111111111, \"#46039f\"], [0.2222222222222222, \"#7201a8\"], [0.3333333333333333, \"#9c179e\"], [0.4444444444444444, \"#bd3786\"], [0.5555555555555556, \"#d8576b\"], [0.6666666666666666, \"#ed7953\"], [0.7777777777777778, \"#fb9f3a\"], [0.8888888888888888, \"#fdca26\"], [1.0, \"#f0f921\"]], \"type\": \"surface\"}], \"table\": [{\"cells\": {\"fill\": {\"color\": \"#EBF0F8\"}, \"line\": {\"color\": \"white\"}}, \"header\": {\"fill\": {\"color\": \"#C8D4E3\"}, \"line\": {\"color\": \"white\"}}, \"type\": \"table\"}]}, \"layout\": {\"annotationdefaults\": {\"arrowcolor\": \"#2a3f5f\", \"arrowhead\": 0, \"arrowwidth\": 1}, \"coloraxis\": {\"colorbar\": {\"outlinewidth\": 0, \"ticks\": \"\"}}, \"colorscale\": {\"diverging\": [[0, \"#8e0152\"], [0.1, \"#c51b7d\"], [0.2, \"#de77ae\"], [0.3, \"#f1b6da\"], [0.4, \"#fde0ef\"], [0.5, \"#f7f7f7\"], [0.6, \"#e6f5d0\"], [0.7, \"#b8e186\"], [0.8, \"#7fbc41\"], [0.9, \"#4d9221\"], [1, \"#276419\"]], \"sequential\": [[0.0, \"#0d0887\"], [0.1111111111111111, \"#46039f\"], [0.2222222222222222, \"#7201a8\"], [0.3333333333333333, \"#9c179e\"], [0.4444444444444444, \"#bd3786\"], [0.5555555555555556, \"#d8576b\"], [0.6666666666666666, \"#ed7953\"], [0.7777777777777778, \"#fb9f3a\"], [0.8888888888888888, \"#fdca26\"], [1.0, \"#f0f921\"]], \"sequentialminus\": [[0.0, \"#0d0887\"], [0.1111111111111111, \"#46039f\"], [0.2222222222222222, \"#7201a8\"], [0.3333333333333333, \"#9c179e\"], [0.4444444444444444, \"#bd3786\"], [0.5555555555555556, \"#d8576b\"], [0.6666666666666666, \"#ed7953\"], [0.7777777777777778, \"#fb9f3a\"], [0.8888888888888888, \"#fdca26\"], [1.0, \"#f0f921\"]]}, \"colorway\": [\"#636efa\", \"#EF553B\", \"#00cc96\", \"#ab63fa\", \"#FFA15A\", \"#19d3f3\", \"#FF6692\", \"#B6E880\", \"#FF97FF\", \"#FECB52\"], \"font\": {\"color\": \"#2a3f5f\"}, \"geo\": {\"bgcolor\": \"white\", \"lakecolor\": \"white\", \"landcolor\": \"#E5ECF6\", \"showlakes\": true, \"showland\": true, \"subunitcolor\": \"white\"}, \"hoverlabel\": {\"align\": \"left\"}, \"hovermode\": \"closest\", \"mapbox\": {\"style\": \"light\"}, \"paper_bgcolor\": \"white\", \"plot_bgcolor\": \"#E5ECF6\", \"polar\": {\"angularaxis\": {\"gridcolor\": \"white\", \"linecolor\": \"white\", \"ticks\": \"\"}, \"bgcolor\": \"#E5ECF6\", \"radialaxis\": {\"gridcolor\": \"white\", \"linecolor\": \"white\", \"ticks\": \"\"}}, \"scene\": {\"xaxis\": {\"backgroundcolor\": \"#E5ECF6\", \"gridcolor\": \"white\", \"gridwidth\": 2, \"linecolor\": \"white\", \"showbackground\": true, \"ticks\": \"\", \"zerolinecolor\": \"white\"}, \"yaxis\": {\"backgroundcolor\": \"#E5ECF6\", \"gridcolor\": \"white\", \"gridwidth\": 2, \"linecolor\": \"white\", \"showbackground\": true, \"ticks\": \"\", \"zerolinecolor\": \"white\"}, \"zaxis\": {\"backgroundcolor\": \"#E5ECF6\", \"gridcolor\": \"white\", \"gridwidth\": 2, \"linecolor\": \"white\", \"showbackground\": true, \"ticks\": \"\", \"zerolinecolor\": \"white\"}}, \"shapedefaults\": {\"line\": {\"color\": \"#2a3f5f\"}}, \"ternary\": {\"aaxis\": {\"gridcolor\": \"white\", \"linecolor\": \"white\", \"ticks\": \"\"}, \"baxis\": {\"gridcolor\": \"white\", \"linecolor\": \"white\", \"ticks\": \"\"}, \"bgcolor\": \"#E5ECF6\", \"caxis\": {\"gridcolor\": \"white\", \"linecolor\": \"white\", \"ticks\": \"\"}}, \"title\": {\"x\": 0.05}, \"xaxis\": {\"automargin\": true, \"gridcolor\": \"white\", \"linecolor\": \"white\", \"ticks\": \"\", \"title\": {\"standoff\": 15}, \"zerolinecolor\": \"white\", \"zerolinewidth\": 2}, \"yaxis\": {\"automargin\": true, \"gridcolor\": \"white\", \"linecolor\": \"white\", \"ticks\": \"\", \"title\": {\"standoff\": 15}, \"zerolinecolor\": \"white\", \"zerolinewidth\": 2}}}, \"title\": {\"text\": \"Which port did the passengers embark? (train.csv)\"}, \"xaxis\": {\"anchor\": \"y\", \"domain\": [0.0, 1.0], \"title\": {\"text\": \"Port of Embarkation\"}}, \"yaxis\": {\"anchor\": \"x\", \"domain\": [0.0, 1.0], \"title\": {\"text\": \"count\"}}},\n",
              "                        {\"responsive\": true}\n",
              "                    ).then(function(){\n",
              "                            \n",
              "var gd = document.getElementById('2b4e0bea-d5dd-4fe9-9c77-72779aeee520');\n",
              "var x = new MutationObserver(function (mutations, observer) {{\n",
              "        var display = window.getComputedStyle(gd).display;\n",
              "        if (!display || display === 'none') {{\n",
              "            console.log([gd, 'removed!']);\n",
              "            Plotly.purge(gd);\n",
              "            observer.disconnect();\n",
              "        }}\n",
              "}});\n",
              "\n",
              "// Listen for the removal of the full notebook cells\n",
              "var notebookContainer = gd.closest('#notebook-container');\n",
              "if (notebookContainer) {{\n",
              "    x.observe(notebookContainer, {childList: true});\n",
              "}}\n",
              "\n",
              "// Listen for the clearing of the current output cell\n",
              "var outputEl = gd.closest('.output');\n",
              "if (outputEl) {{\n",
              "    x.observe(outputEl, {childList: true});\n",
              "}}\n",
              "\n",
              "                        })\n",
              "                };\n",
              "                \n",
              "            </script>\n",
              "        </div>\n",
              "</body>\n",
              "</html>"
            ]
          },
          "metadata": {}
        }
      ]
    },
    {
      "cell_type": "markdown",
      "metadata": {
        "id": "i9pr8Vl3LzAt"
      },
      "source": [
        "<h2 style='background:#FFFFFF; border:0; color:black'><center>Data Analytics with Graph<center><h2>"
      ]
    },
    {
      "cell_type": "markdown",
      "metadata": {
        "id": "qaTedfyULzAt"
      },
      "source": [
        "# The correlation between \"Survived\" and \"Sex\""
      ]
    },
    {
      "cell_type": "code",
      "metadata": {
        "_kg_hide-output": false,
        "_kg_hide-input": true,
        "execution": {
          "iopub.status.busy": "2021-10-27T19:15:16.463445Z",
          "iopub.execute_input": "2021-10-27T19:15:16.463984Z",
          "iopub.status.idle": "2021-10-27T19:15:16.477053Z",
          "shell.execute_reply.started": "2021-10-27T19:15:16.463942Z",
          "shell.execute_reply": "2021-10-27T19:15:16.476169Z"
        },
        "trusted": true,
        "id": "jNJ-rnlELzAu"
      },
      "source": [
        "survived_or_not_male = [0,0]\n",
        "survived_or_not_female = [0,0]\n",
        "\n",
        "for i in train[train[\"Survived\"] != \"Survived\"][\"Sex\"]:\n",
        "    if i == \"male\":\n",
        "        survived_or_not_male[0] += 1\n",
        "    elif i == \"female\":\n",
        "        survived_or_not_female[0] += 1\n",
        "\n",
        "for i in train[train[\"Survived\"] == \"Survived\"][\"Sex\"]:\n",
        "    if i == \"male\":\n",
        "        survived_or_not_male[1] += 1\n",
        "    elif i == \"female\":\n",
        "        survived_or_not_female[1] += 1"
      ],
      "execution_count": null,
      "outputs": []
    },
    {
      "cell_type": "code",
      "metadata": {
        "_kg_hide-input": true,
        "execution": {
          "iopub.status.busy": "2021-10-27T19:15:16.478488Z",
          "iopub.execute_input": "2021-10-27T19:15:16.479047Z",
          "iopub.status.idle": "2021-10-27T19:15:16.489362Z",
          "shell.execute_reply.started": "2021-10-27T19:15:16.479004Z",
          "shell.execute_reply": "2021-10-27T19:15:16.488324Z"
        },
        "trusted": true,
        "id": "JHmoZ-u8LzAu"
      },
      "source": [
        "survived_sex = pd.DataFrame(data=[[survived_or_not_male[0],survived_or_not_female[0]],[survived_or_not_male[1],survived_or_not_female[1]]],\n",
        "                           columns=['male','female'],index=['Not Survived','Survived'])"
      ],
      "execution_count": null,
      "outputs": []
    },
    {
      "cell_type": "code",
      "metadata": {
        "_kg_hide-input": true,
        "execution": {
          "iopub.status.busy": "2021-10-27T19:15:16.490857Z",
          "iopub.execute_input": "2021-10-27T19:15:16.491369Z",
          "iopub.status.idle": "2021-10-27T19:15:16.512489Z",
          "shell.execute_reply.started": "2021-10-27T19:15:16.491321Z",
          "shell.execute_reply": "2021-10-27T19:15:16.511431Z"
        },
        "trusted": true,
        "colab": {
          "base_uri": "https://localhost:8080/",
          "height": 111
        },
        "id": "M8UIbdkJLzAu",
        "outputId": "cf503614-11f1-4838-bf71-df3ffb851595"
      },
      "source": [
        "survived_sex"
      ],
      "execution_count": null,
      "outputs": [
        {
          "output_type": "execute_result",
          "data": {
            "text/html": [
              "<div>\n",
              "<style scoped>\n",
              "    .dataframe tbody tr th:only-of-type {\n",
              "        vertical-align: middle;\n",
              "    }\n",
              "\n",
              "    .dataframe tbody tr th {\n",
              "        vertical-align: top;\n",
              "    }\n",
              "\n",
              "    .dataframe thead th {\n",
              "        text-align: right;\n",
              "    }\n",
              "</style>\n",
              "<table border=\"1\" class=\"dataframe\">\n",
              "  <thead>\n",
              "    <tr style=\"text-align: right;\">\n",
              "      <th></th>\n",
              "      <th>male</th>\n",
              "      <th>female</th>\n",
              "    </tr>\n",
              "  </thead>\n",
              "  <tbody>\n",
              "    <tr>\n",
              "      <th>Not Survived</th>\n",
              "      <td>468</td>\n",
              "      <td>81</td>\n",
              "    </tr>\n",
              "    <tr>\n",
              "      <th>Survived</th>\n",
              "      <td>109</td>\n",
              "      <td>233</td>\n",
              "    </tr>\n",
              "  </tbody>\n",
              "</table>\n",
              "</div>"
            ],
            "text/plain": [
              "              male  female\n",
              "Not Survived   468      81\n",
              "Survived       109     233"
            ]
          },
          "metadata": {},
          "execution_count": 23
        }
      ]
    },
    {
      "cell_type": "code",
      "metadata": {
        "_kg_hide-input": true,
        "execution": {
          "iopub.status.busy": "2021-10-27T19:15:16.514237Z",
          "iopub.execute_input": "2021-10-27T19:15:16.514771Z",
          "iopub.status.idle": "2021-10-27T19:15:16.572669Z",
          "shell.execute_reply.started": "2021-10-27T19:15:16.514728Z",
          "shell.execute_reply": "2021-10-27T19:15:16.571698Z"
        },
        "trusted": true,
        "colab": {
          "base_uri": "https://localhost:8080/",
          "height": 295
        },
        "id": "OWSQKOE0LzAu",
        "outputId": "c79e7cd4-f7d9-4e0b-e654-42e215819502"
      },
      "source": [
        "plt.bar(survived_or_not_male[0],survived_or_not_female[0])\n",
        "\n",
        "plt.xlabel(\"Courses offered\")\n",
        "plt.ylabel(\"No. of students enrolled\")\n",
        "plt.title(\"Students enrolled in different courses\")\n",
        "plt.show()"
      ],
      "execution_count": null,
      "outputs": [
        {
          "output_type": "display_data",
          "data": {
            "image/png": "[encoded data removed]",
            "text/plain": [
              "<Figure size 432x288 with 1 Axes>"
            ]
          },
          "metadata": {
            "needs_background": "light"
          }
        }
      ]
    },
    {
      "cell_type": "code",
      "metadata": {
        "_kg_hide-input": true,
        "execution": {
          "iopub.status.busy": "2021-10-27T19:15:16.574180Z",
          "iopub.execute_input": "2021-10-27T19:15:16.574837Z",
          "iopub.status.idle": "2021-10-27T19:15:16.621776Z",
          "shell.execute_reply.started": "2021-10-27T19:15:16.574796Z",
          "shell.execute_reply": "2021-10-27T19:15:16.620781Z"
        },
        "trusted": true,
        "colab": {
          "base_uri": "https://localhost:8080/",
          "height": 180
        },
        "id": "6FxaWmQXLzAu",
        "outputId": "a6b3721f-1d1d-494f-f927-c0e5566450f2"
      },
      "source": [
        "fig = plt.bar(survived_sex,x=\"female\",title=\"Survived or Not (Female)\")\n",
        "fig.show()"
      ],
      "execution_count": null,
      "outputs": [
        {
          "output_type": "error",
          "ename": "NameError",
          "evalue": "ignored",
          "traceback": [
            "\u001b[0;31m---------------------------------------------------------------------------\u001b[0m",
            "\u001b[0;31mNameError\u001b[0m                                 Traceback (most recent call last)",
            "\u001b[0;32m<ipython-input-26-8ba2ecce10bd>\u001b[0m in \u001b[0;36m<module>\u001b[0;34m()\u001b[0m\n\u001b[0;32m----> 1\u001b[0;31m \u001b[0mfig\u001b[0m \u001b[0;34m=\u001b[0m \u001b[0mplt\u001b[0m\u001b[0;34m.\u001b[0m\u001b[0mbar\u001b[0m\u001b[0;34m(\u001b[0m\u001b[0msurvived_sex\u001b[0m\u001b[0;34m,\u001b[0m\u001b[0mx\u001b[0m\u001b[0;34m=\u001b[0m\u001b[0;34m\"female\"\u001b[0m\u001b[0;34m,\u001b[0m\u001b[0mtitle\u001b[0m\u001b[0;34m=\u001b[0m\u001b[0;34m\"Survived or Not (Female)\"\u001b[0m\u001b[0;34m)\u001b[0m\u001b[0;34m\u001b[0m\u001b[0;34m\u001b[0m\u001b[0m\n\u001b[0m\u001b[1;32m      2\u001b[0m \u001b[0mfig\u001b[0m\u001b[0;34m.\u001b[0m\u001b[0mshow\u001b[0m\u001b[0;34m(\u001b[0m\u001b[0;34m)\u001b[0m\u001b[0;34m\u001b[0m\u001b[0;34m\u001b[0m\u001b[0m\n",
            "\u001b[0;31mNameError\u001b[0m: name 'plt' is not defined"
          ]
        }
      ]
    },
    {
      "cell_type": "markdown",
      "metadata": {
        "id": "N8tV7IrJLzAv"
      },
      "source": [
        "# Survival Rate by gender\n",
        "* Male: <span style=\"color: blue; \">18.89%</span> (109/577)\n",
        "* Female: <span style=\"color: red; \">74.20%</span> (233/314)\n",
        "\n",
        "* In this notebook,especially <span style=\"color: red; \">high</span>/<span style=\"color: blue; \">low</span> rates are written in <span style=\"color: red; \">red</span>/<span style=\"color: blue; \">blue</span>."
      ]
    },
    {
      "cell_type": "markdown",
      "metadata": {
        "id": "teCG2ftGLzAv"
      },
      "source": [
        "* These graphs imply that more women survived than men."
      ]
    },
    {
      "cell_type": "markdown",
      "metadata": {
        "id": "JWXOAbUrLzAv"
      },
      "source": [
        "# The correlation between \"Survived\" and \"Age\""
      ]
    },
    {
      "cell_type": "code",
      "metadata": {
        "_kg_hide-input": true,
        "execution": {
          "iopub.status.busy": "2021-10-27T19:15:16.623377Z",
          "iopub.execute_input": "2021-10-27T19:15:16.624007Z",
          "iopub.status.idle": "2021-10-27T19:15:16.635720Z",
          "shell.execute_reply.started": "2021-10-27T19:15:16.623967Z",
          "shell.execute_reply": "2021-10-27T19:15:16.634577Z"
        },
        "trusted": true,
        "id": "txsvkDkLLzAv"
      },
      "source": [
        "survived_age = [0,0,0,0]\n",
        "survived_not_age = [0,0,0,0]\n",
        "for i in train[train[\"Survived\"] != \"Survived\"][\"Age\"]:\n",
        "    if i < 20.0:\n",
        "        survived_not_age[0] += 1\n",
        "    elif i < 40.0:\n",
        "        survived_not_age[1] += 1\n",
        "    elif i < 60.0:\n",
        "        survived_not_age[2] += 1\n",
        "    else:\n",
        "        survived_not_age[3] += 1\n",
        "        \n",
        "for i in train[train[\"Survived\"] == \"Survived\"][\"Age\"]:\n",
        "    if i < 20.0:\n",
        "        survived_age[0] += 1\n",
        "    elif i < 40.0:\n",
        "        survived_age[1] += 1\n",
        "    elif i < 60.0:\n",
        "        survived_age[2] += 1\n",
        "    else:\n",
        "        survived_age[3] += 1"
      ],
      "execution_count": null,
      "outputs": []
    },
    {
      "cell_type": "code",
      "metadata": {
        "_kg_hide-input": true,
        "execution": {
          "iopub.status.busy": "2021-10-27T19:15:16.636988Z",
          "iopub.execute_input": "2021-10-27T19:15:16.637399Z",
          "iopub.status.idle": "2021-10-27T19:15:16.648791Z",
          "shell.execute_reply.started": "2021-10-27T19:15:16.637364Z",
          "shell.execute_reply": "2021-10-27T19:15:16.647682Z"
        },
        "trusted": true,
        "id": "PDxNDvVGLzAv"
      },
      "source": [
        "survived_or_not_age = pd.DataFrame(data=[[survived_age[0],survived_age[1],survived_age[2],survived_age[3]],[survived_not_age[0],survived_not_age[1],survived_not_age[2],survived_not_age[3]]],\n",
        "                           columns=['0~20','20~40','40~60','60~'],index=['Survived','Not Survived'])"
      ],
      "execution_count": null,
      "outputs": []
    },
    {
      "cell_type": "code",
      "metadata": {
        "_kg_hide-input": true,
        "execution": {
          "iopub.status.busy": "2021-10-27T19:15:16.655714Z",
          "iopub.execute_input": "2021-10-27T19:15:16.656283Z",
          "iopub.status.idle": "2021-10-27T19:15:16.665202Z",
          "shell.execute_reply.started": "2021-10-27T19:15:16.656224Z",
          "shell.execute_reply": "2021-10-27T19:15:16.664452Z"
        },
        "trusted": true,
        "colab": {
          "base_uri": "https://localhost:8080/",
          "height": 111
        },
        "id": "TrubEEeALzAw",
        "outputId": "6bb9d6d2-b791-4954-ee1b-e3fbca1f8a1c"
      },
      "source": [
        "survived_or_not_age"
      ],
      "execution_count": null,
      "outputs": [
        {
          "output_type": "execute_result",
          "data": {
            "text/html": [
              "<div>\n",
              "<style scoped>\n",
              "    .dataframe tbody tr th:only-of-type {\n",
              "        vertical-align: middle;\n",
              "    }\n",
              "\n",
              "    .dataframe tbody tr th {\n",
              "        vertical-align: top;\n",
              "    }\n",
              "\n",
              "    .dataframe thead th {\n",
              "        text-align: right;\n",
              "    }\n",
              "</style>\n",
              "<table border=\"1\" class=\"dataframe\">\n",
              "  <thead>\n",
              "    <tr style=\"text-align: right;\">\n",
              "      <th></th>\n",
              "      <th>0~20</th>\n",
              "      <th>20~40</th>\n",
              "      <th>40~60</th>\n",
              "      <th>60~</th>\n",
              "    </tr>\n",
              "  </thead>\n",
              "  <tbody>\n",
              "    <tr>\n",
              "      <th>Survived</th>\n",
              "      <td>79</td>\n",
              "      <td>150</td>\n",
              "      <td>54</td>\n",
              "      <td>59</td>\n",
              "    </tr>\n",
              "    <tr>\n",
              "      <th>Not Survived</th>\n",
              "      <td>85</td>\n",
              "      <td>237</td>\n",
              "      <td>83</td>\n",
              "      <td>144</td>\n",
              "    </tr>\n",
              "  </tbody>\n",
              "</table>\n",
              "</div>"
            ],
            "text/plain": [
              "              0~20  20~40  40~60  60~\n",
              "Survived        79    150     54   59\n",
              "Not Survived    85    237     83  144"
            ]
          },
          "metadata": {},
          "execution_count": 40
        }
      ]
    },
    {
      "cell_type": "code",
      "metadata": {
        "_kg_hide-input": true,
        "execution": {
          "iopub.status.busy": "2021-10-27T19:15:16.666751Z",
          "iopub.execute_input": "2021-10-27T19:15:16.667315Z",
          "iopub.status.idle": "2021-10-27T19:15:16.716669Z",
          "shell.execute_reply.started": "2021-10-27T19:15:16.667273Z",
          "shell.execute_reply": "2021-10-27T19:15:16.715649Z"
        },
        "trusted": true,
        "colab": {
          "base_uri": "https://localhost:8080/",
          "height": 340
        },
        "id": "msn4BA1BLzAw",
        "outputId": "6e469082-8cd8-4798-ecd8-93161630ad0e"
      },
      "source": [
        "sns.catplot(x =\"Survived\", hue =\"Survived\",\n",
        "kind =\"count\", data =survived_or_not_age)"
      ],
      "execution_count": null,
      "outputs": [
        {
          "output_type": "error",
          "ename": "ValueError",
          "evalue": "ignored",
          "traceback": [
            "\u001b[0;31m---------------------------------------------------------------------------\u001b[0m",
            "\u001b[0;31mValueError\u001b[0m                                Traceback (most recent call last)",
            "\u001b[0;32m<ipython-input-47-c4990387e35a>\u001b[0m in \u001b[0;36m<module>\u001b[0;34m()\u001b[0m\n\u001b[1;32m      1\u001b[0m sns.catplot(x =\"Survived\", hue =\"Survived\",\n\u001b[0;32m----> 2\u001b[0;31m kind =\"count\", data =survived_or_not_age)\n\u001b[0m",
            "\u001b[0;32m/usr/local/lib/python3.7/dist-packages/seaborn/_decorators.py\u001b[0m in \u001b[0;36minner_f\u001b[0;34m(*args, **kwargs)\u001b[0m\n\u001b[1;32m     44\u001b[0m             )\n\u001b[1;32m     45\u001b[0m         \u001b[0mkwargs\u001b[0m\u001b[0;34m.\u001b[0m\u001b[0mupdate\u001b[0m\u001b[0;34m(\u001b[0m\u001b[0;34m{\u001b[0m\u001b[0mk\u001b[0m\u001b[0;34m:\u001b[0m \u001b[0marg\u001b[0m \u001b[0;32mfor\u001b[0m \u001b[0mk\u001b[0m\u001b[0;34m,\u001b[0m \u001b[0marg\u001b[0m \u001b[0;32min\u001b[0m \u001b[0mzip\u001b[0m\u001b[0;34m(\u001b[0m\u001b[0msig\u001b[0m\u001b[0;34m.\u001b[0m\u001b[0mparameters\u001b[0m\u001b[0;34m,\u001b[0m \u001b[0margs\u001b[0m\u001b[0;34m)\u001b[0m\u001b[0;34m}\u001b[0m\u001b[0;34m)\u001b[0m\u001b[0;34m\u001b[0m\u001b[0;34m\u001b[0m\u001b[0m\n\u001b[0;32m---> 46\u001b[0;31m         \u001b[0;32mreturn\u001b[0m \u001b[0mf\u001b[0m\u001b[0;34m(\u001b[0m\u001b[0;34m**\u001b[0m\u001b[0mkwargs\u001b[0m\u001b[0;34m)\u001b[0m\u001b[0;34m\u001b[0m\u001b[0;34m\u001b[0m\u001b[0m\n\u001b[0m\u001b[1;32m     47\u001b[0m     \u001b[0;32mreturn\u001b[0m \u001b[0minner_f\u001b[0m\u001b[0;34m\u001b[0m\u001b[0;34m\u001b[0m\u001b[0m\n\u001b[1;32m     48\u001b[0m \u001b[0;34m\u001b[0m\u001b[0m\n",
            "\u001b[0;32m/usr/local/lib/python3.7/dist-packages/seaborn/categorical.py\u001b[0m in \u001b[0;36mcatplot\u001b[0;34m(x, y, hue, data, row, col, col_wrap, estimator, ci, n_boot, units, seed, order, hue_order, row_order, col_order, kind, height, aspect, orient, color, palette, legend, legend_out, sharex, sharey, margin_titles, facet_kws, **kwargs)\u001b[0m\n\u001b[1;32m   3790\u001b[0m     \u001b[0mp\u001b[0m \u001b[0;34m=\u001b[0m \u001b[0m_CategoricalPlotter\u001b[0m\u001b[0;34m(\u001b[0m\u001b[0;34m)\u001b[0m\u001b[0;34m\u001b[0m\u001b[0;34m\u001b[0m\u001b[0m\n\u001b[1;32m   3791\u001b[0m     \u001b[0mp\u001b[0m\u001b[0;34m.\u001b[0m\u001b[0mrequire_numeric\u001b[0m \u001b[0;34m=\u001b[0m \u001b[0mplotter_class\u001b[0m\u001b[0;34m.\u001b[0m\u001b[0mrequire_numeric\u001b[0m\u001b[0;34m\u001b[0m\u001b[0;34m\u001b[0m\u001b[0m\n\u001b[0;32m-> 3792\u001b[0;31m     \u001b[0mp\u001b[0m\u001b[0;34m.\u001b[0m\u001b[0mestablish_variables\u001b[0m\u001b[0;34m(\u001b[0m\u001b[0mx_\u001b[0m\u001b[0;34m,\u001b[0m \u001b[0my_\u001b[0m\u001b[0;34m,\u001b[0m \u001b[0mhue\u001b[0m\u001b[0;34m,\u001b[0m \u001b[0mdata\u001b[0m\u001b[0;34m,\u001b[0m \u001b[0morient\u001b[0m\u001b[0;34m,\u001b[0m \u001b[0morder\u001b[0m\u001b[0;34m,\u001b[0m \u001b[0mhue_order\u001b[0m\u001b[0;34m)\u001b[0m\u001b[0;34m\u001b[0m\u001b[0;34m\u001b[0m\u001b[0m\n\u001b[0m\u001b[1;32m   3793\u001b[0m     if (\n\u001b[1;32m   3794\u001b[0m         \u001b[0morder\u001b[0m \u001b[0;32mis\u001b[0m \u001b[0;32mnot\u001b[0m \u001b[0;32mNone\u001b[0m\u001b[0;34m\u001b[0m\u001b[0;34m\u001b[0m\u001b[0m\n",
            "\u001b[0;32m/usr/local/lib/python3.7/dist-packages/seaborn/categorical.py\u001b[0m in \u001b[0;36mestablish_variables\u001b[0;34m(self, x, y, hue, data, orient, order, hue_order, units)\u001b[0m\n\u001b[1;32m    151\u001b[0m                 \u001b[0;32mif\u001b[0m \u001b[0misinstance\u001b[0m\u001b[0;34m(\u001b[0m\u001b[0mvar\u001b[0m\u001b[0;34m,\u001b[0m \u001b[0mstr\u001b[0m\u001b[0;34m)\u001b[0m\u001b[0;34m:\u001b[0m\u001b[0;34m\u001b[0m\u001b[0;34m\u001b[0m\u001b[0m\n\u001b[1;32m    152\u001b[0m                     \u001b[0merr\u001b[0m \u001b[0;34m=\u001b[0m \u001b[0;34m\"Could not interpret input '{}'\"\u001b[0m\u001b[0;34m.\u001b[0m\u001b[0mformat\u001b[0m\u001b[0;34m(\u001b[0m\u001b[0mvar\u001b[0m\u001b[0;34m)\u001b[0m\u001b[0;34m\u001b[0m\u001b[0;34m\u001b[0m\u001b[0m\n\u001b[0;32m--> 153\u001b[0;31m                     \u001b[0;32mraise\u001b[0m \u001b[0mValueError\u001b[0m\u001b[0;34m(\u001b[0m\u001b[0merr\u001b[0m\u001b[0;34m)\u001b[0m\u001b[0;34m\u001b[0m\u001b[0;34m\u001b[0m\u001b[0m\n\u001b[0m\u001b[1;32m    154\u001b[0m \u001b[0;34m\u001b[0m\u001b[0m\n\u001b[1;32m    155\u001b[0m             \u001b[0;31m# Figure out the plotting orientation\u001b[0m\u001b[0;34m\u001b[0m\u001b[0;34m\u001b[0m\u001b[0;34m\u001b[0m\u001b[0m\n",
            "\u001b[0;31mValueError\u001b[0m: Could not interpret input 'Survived'"
          ]
        }
      ]
    },
    {
      "cell_type": "code",
      "metadata": {
        "_kg_hide-input": true,
        "execution": {
          "iopub.status.busy": "2021-10-27T19:15:16.718134Z",
          "iopub.execute_input": "2021-10-27T19:15:16.718711Z",
          "iopub.status.idle": "2021-10-27T19:15:16.769822Z",
          "shell.execute_reply.started": "2021-10-27T19:15:16.718667Z",
          "shell.execute_reply": "2021-10-27T19:15:16.768777Z"
        },
        "trusted": true,
        "id": "1aHtbQCtLzAw"
      },
      "source": [
        "fig = px.bar(survived_or_not_age,x=\"20~40\",title=\"Survived or Not (20 <= Age < 40)\")\n",
        "fig.update_xaxes(title_text='The number of Passengers')\n",
        "fig.update_yaxes(title_text='')\n",
        "fig.show()"
      ],
      "execution_count": null,
      "outputs": []
    },
    {
      "cell_type": "code",
      "metadata": {
        "_kg_hide-input": true,
        "execution": {
          "iopub.status.busy": "2021-10-27T19:15:16.771217Z",
          "iopub.execute_input": "2021-10-27T19:15:16.771799Z",
          "iopub.status.idle": "2021-10-27T19:15:16.821805Z",
          "shell.execute_reply.started": "2021-10-27T19:15:16.771747Z",
          "shell.execute_reply": "2021-10-27T19:15:16.820760Z"
        },
        "trusted": true,
        "id": "khnV9m8XLzAw"
      },
      "source": [
        "fig = px.bar(survived_or_not_age,x=\"40~60\",title=\"Survived or Not (40 <= Age < 60)\")\n",
        "fig.update_xaxes(title_text='The number of Passengers')\n",
        "fig.update_yaxes(title_text='')\n",
        "fig.show()"
      ],
      "execution_count": null,
      "outputs": []
    },
    {
      "cell_type": "code",
      "metadata": {
        "_kg_hide-input": true,
        "execution": {
          "iopub.status.busy": "2021-10-27T19:15:16.823416Z",
          "iopub.execute_input": "2021-10-27T19:15:16.823813Z",
          "iopub.status.idle": "2021-10-27T19:15:16.873432Z",
          "shell.execute_reply.started": "2021-10-27T19:15:16.823772Z",
          "shell.execute_reply": "2021-10-27T19:15:16.872300Z"
        },
        "trusted": true,
        "id": "WMbgiy1PLzAw"
      },
      "source": [
        "fig = px.bar(survived_or_not_age,x=\"60~\",title=\"Survived or Not (60 <= Age)\")\n",
        "fig.update_xaxes(title_text='The number of Passengers')\n",
        "fig.update_yaxes(title_text='')\n",
        "fig.show()"
      ],
      "execution_count": null,
      "outputs": []
    },
    {
      "cell_type": "markdown",
      "metadata": {
        "id": "xbXwSB8aLzAx"
      },
      "source": [
        "# Survival Rate by age\n",
        "* 0~20: <span style=\"color: red; \">48.17%</span> (79/164)\n",
        "* 20~40: 38.75% (150/387)\n",
        "* 40~60: 39.41% (54/137)\n",
        "* 60~ :  <span style=\"color: blue; \">29.06%</span> (59/203)"
      ]
    },
    {
      "cell_type": "markdown",
      "metadata": {
        "id": "Bys3IXxxLzAx"
      },
      "source": [
        "* These graphs imply that passengers under 20 survived more than other passengers."
      ]
    },
    {
      "cell_type": "markdown",
      "metadata": {
        "id": "5VeLpJzqLzAx"
      },
      "source": [
        "# The correlation between \"Survived\" and \"Pclass\""
      ]
    },
    {
      "cell_type": "code",
      "metadata": {
        "_kg_hide-input": true,
        "execution": {
          "iopub.status.busy": "2021-10-27T19:15:16.874986Z",
          "iopub.execute_input": "2021-10-27T19:15:16.875398Z",
          "iopub.status.idle": "2021-10-27T19:15:16.885172Z",
          "shell.execute_reply.started": "2021-10-27T19:15:16.875354Z",
          "shell.execute_reply": "2021-10-27T19:15:16.884349Z"
        },
        "trusted": true,
        "id": "eoSEhSulLzAx"
      },
      "source": [
        "survive_pclass = [0,0,0]\n",
        "survive_not_pclass = [0,0,0]\n",
        "for i in train[train[\"Survived\"] != \"Survived\"][\"Pclass\"]:\n",
        "    if i == \"1st\":\n",
        "        survive_not_pclass[0] += 1\n",
        "    elif i == \"2nd\":\n",
        "        survive_not_pclass[1] += 1\n",
        "    else:\n",
        "        survive_not_pclass[2] += 1\n",
        "for i in train[train[\"Survived\"] == \"Survived\"][\"Pclass\"]:\n",
        "    if i == \"1st\":\n",
        "        survive_pclass[0] += 1\n",
        "    elif i == \"2nd\":\n",
        "        survive_pclass[1] += 1\n",
        "    else:\n",
        "        survive_pclass[2] += 1"
      ],
      "execution_count": null,
      "outputs": []
    },
    {
      "cell_type": "code",
      "metadata": {
        "_kg_hide-input": true,
        "execution": {
          "iopub.status.busy": "2021-10-27T19:15:16.886472Z",
          "iopub.execute_input": "2021-10-27T19:15:16.886918Z",
          "iopub.status.idle": "2021-10-27T19:15:16.898233Z",
          "shell.execute_reply.started": "2021-10-27T19:15:16.886874Z",
          "shell.execute_reply": "2021-10-27T19:15:16.897434Z"
        },
        "trusted": true,
        "id": "B0ruOxhKLzAx"
      },
      "source": [
        "survived_pclass = pd.DataFrame(data=[[survive_not_pclass[0],survive_not_pclass[1],survive_not_pclass[2]],[survive_pclass[0],survive_pclass[1],survive_pclass[2]]],\n",
        "                           columns=['1st','2nd','3rd'],index=['Not Survived','Survived'])"
      ],
      "execution_count": null,
      "outputs": []
    },
    {
      "cell_type": "code",
      "metadata": {
        "_kg_hide-input": true,
        "execution": {
          "iopub.status.busy": "2021-10-27T19:15:16.899680Z",
          "iopub.execute_input": "2021-10-27T19:15:16.900221Z",
          "iopub.status.idle": "2021-10-27T19:15:16.915865Z",
          "shell.execute_reply.started": "2021-10-27T19:15:16.900187Z",
          "shell.execute_reply": "2021-10-27T19:15:16.914747Z"
        },
        "trusted": true,
        "id": "TdgwnXSgLzAx"
      },
      "source": [
        "survived_pclass"
      ],
      "execution_count": null,
      "outputs": []
    },
    {
      "cell_type": "code",
      "metadata": {
        "_kg_hide-input": true,
        "execution": {
          "iopub.status.busy": "2021-10-27T19:15:16.917161Z",
          "iopub.execute_input": "2021-10-27T19:15:16.917798Z",
          "iopub.status.idle": "2021-10-27T19:15:16.968683Z",
          "shell.execute_reply.started": "2021-10-27T19:15:16.917761Z",
          "shell.execute_reply": "2021-10-27T19:15:16.967850Z"
        },
        "trusted": true,
        "id": "LrZq6mKCLzAy"
      },
      "source": [
        "fig = px.bar(survived_pclass,x=\"1st\",title=\"Survived or Not (1st Class)\")\n",
        "fig.update_xaxes(title_text='The number of Passengers')\n",
        "fig.update_yaxes(title_text='')\n",
        "fig.show()"
      ],
      "execution_count": null,
      "outputs": []
    },
    {
      "cell_type": "code",
      "metadata": {
        "_kg_hide-input": true,
        "execution": {
          "iopub.status.busy": "2021-10-27T19:15:16.969930Z",
          "iopub.execute_input": "2021-10-27T19:15:16.970204Z",
          "iopub.status.idle": "2021-10-27T19:15:17.017968Z",
          "shell.execute_reply.started": "2021-10-27T19:15:16.970176Z",
          "shell.execute_reply": "2021-10-27T19:15:17.017128Z"
        },
        "trusted": true,
        "id": "creiDgE6LzAy"
      },
      "source": [
        "fig = px.bar(survived_pclass,x=\"2nd\",title=\"Survived or Not (2nd Class)\")\n",
        "fig.update_xaxes(title_text='The number of Passengers')\n",
        "fig.update_yaxes(title_text='')\n",
        "fig.show()"
      ],
      "execution_count": null,
      "outputs": []
    },
    {
      "cell_type": "code",
      "metadata": {
        "_kg_hide-input": true,
        "execution": {
          "iopub.status.busy": "2021-10-27T19:15:17.019352Z",
          "iopub.execute_input": "2021-10-27T19:15:17.019620Z",
          "iopub.status.idle": "2021-10-27T19:15:17.068036Z",
          "shell.execute_reply.started": "2021-10-27T19:15:17.019594Z",
          "shell.execute_reply": "2021-10-27T19:15:17.067180Z"
        },
        "trusted": true,
        "id": "eaFFvSJPLzAy"
      },
      "source": [
        "fig = px.bar(survived_pclass,x=\"3rd\",title=\"Survived or Not (3rd Class)\")\n",
        "fig.update_xaxes(title_text='The number of Passengers')\n",
        "fig.update_yaxes(title_text='')\n",
        "fig.show()"
      ],
      "execution_count": null,
      "outputs": []
    },
    {
      "cell_type": "markdown",
      "metadata": {
        "id": "k--8rEn8LzAy"
      },
      "source": [
        "# Survival Rate by class\n",
        "* 1st Class: <span style=\"color: red; \">62.96%</span> (136/216)\n",
        "* 2nd Class: 47.28% (87/184)\n",
        "* 3rd Class: <span style=\"color: blue; \">24.23%</span> (119/491)"
      ]
    },
    {
      "cell_type": "markdown",
      "metadata": {
        "id": "P6Qkjg3eLzAy"
      },
      "source": [
        "* These graphs imply that 1st class passengers survived more than other and most of 3rd passengers could not survive."
      ]
    },
    {
      "cell_type": "markdown",
      "metadata": {
        "id": "2efDzz9hLzAy"
      },
      "source": [
        "# The correlation between \"Survived\" and \"Embarked\""
      ]
    },
    {
      "cell_type": "code",
      "metadata": {
        "_kg_hide-input": true,
        "execution": {
          "iopub.status.busy": "2021-10-27T19:15:17.069369Z",
          "iopub.execute_input": "2021-10-27T19:15:17.069645Z",
          "iopub.status.idle": "2021-10-27T19:15:17.080465Z",
          "shell.execute_reply.started": "2021-10-27T19:15:17.069618Z",
          "shell.execute_reply": "2021-10-27T19:15:17.079528Z"
        },
        "trusted": true,
        "id": "UDWhGCPTLzAz"
      },
      "source": [
        "survived_port = [0,0,0]\n",
        "survived_not_port = [0,0,0]\n",
        "for i in train[train[\"Survived\"] != \"Survived\"][\"Embarked\"]:\n",
        "    if i == \"Cherbourg\":\n",
        "        survived_not_port[0] += 1\n",
        "    elif i == \"Queenstown\":\n",
        "        survived_not_port[1] += 1\n",
        "    elif i == \"Southampton\":\n",
        "        survived_not_port[2] += 1\n",
        "for i in train[train[\"Survived\"] == \"Survived\"][\"Embarked\"]:\n",
        "    if i == \"Cherbourg\":\n",
        "        survived_port[0] += 1\n",
        "    elif i == \"Queenstown\":\n",
        "        survived_port[1] += 1\n",
        "    elif i == \"Southampton\":\n",
        "        survived_port[2] += 1\n",
        "        "
      ],
      "execution_count": null,
      "outputs": []
    },
    {
      "cell_type": "code",
      "metadata": {
        "_kg_hide-input": true,
        "execution": {
          "iopub.status.busy": "2021-10-27T19:15:17.081776Z",
          "iopub.execute_input": "2021-10-27T19:15:17.082083Z",
          "iopub.status.idle": "2021-10-27T19:15:17.091674Z",
          "shell.execute_reply.started": "2021-10-27T19:15:17.082048Z",
          "shell.execute_reply": "2021-10-27T19:15:17.090776Z"
        },
        "trusted": true,
        "id": "K7tAHjAULzAz"
      },
      "source": [
        "survived_or_not_port = pd.DataFrame(data=[[survived_not_port[0],survived_not_port[1],survived_not_port[2]],[survived_port[0],survived_port[1],survived_port[2]]],\n",
        "                           columns=['Cherbourg','Queenstown','Southampton'],index=['Not Survived','Survived'])"
      ],
      "execution_count": null,
      "outputs": []
    },
    {
      "cell_type": "code",
      "metadata": {
        "_kg_hide-input": true,
        "execution": {
          "iopub.status.busy": "2021-10-27T19:15:17.092644Z",
          "iopub.execute_input": "2021-10-27T19:15:17.092932Z",
          "iopub.status.idle": "2021-10-27T19:15:17.108888Z",
          "shell.execute_reply.started": "2021-10-27T19:15:17.092900Z",
          "shell.execute_reply": "2021-10-27T19:15:17.107979Z"
        },
        "trusted": true,
        "id": "cgtIEHc9LzAz"
      },
      "source": [
        "survived_or_not_port"
      ],
      "execution_count": null,
      "outputs": []
    },
    {
      "cell_type": "code",
      "metadata": {
        "_kg_hide-input": true,
        "execution": {
          "iopub.status.busy": "2021-10-27T19:15:17.110085Z",
          "iopub.execute_input": "2021-10-27T19:15:17.110423Z",
          "iopub.status.idle": "2021-10-27T19:15:17.160449Z",
          "shell.execute_reply.started": "2021-10-27T19:15:17.110395Z",
          "shell.execute_reply": "2021-10-27T19:15:17.159629Z"
        },
        "trusted": true,
        "id": "te5DTR4jLzA0"
      },
      "source": [
        "fig = px.bar(survived_or_not_port,x=\"Cherbourg\",title=\"Survived or Not (Port:Cherbourg)\")\n",
        "fig.update_xaxes(title_text='The number of Passengers')\n",
        "fig.update_yaxes(title_text='')\n",
        "fig.show()"
      ],
      "execution_count": null,
      "outputs": []
    },
    {
      "cell_type": "code",
      "metadata": {
        "_kg_hide-input": true,
        "execution": {
          "iopub.status.busy": "2021-10-27T19:15:17.161752Z",
          "iopub.execute_input": "2021-10-27T19:15:17.162019Z",
          "iopub.status.idle": "2021-10-27T19:15:17.215874Z",
          "shell.execute_reply.started": "2021-10-27T19:15:17.161993Z",
          "shell.execute_reply": "2021-10-27T19:15:17.214688Z"
        },
        "trusted": true,
        "id": "9qXTkUspLzA0"
      },
      "source": [
        "fig = px.bar(survived_or_not_port,x=\"Queenstown\",title=\"Survived or Not (Port:Queenstown)\")\n",
        "fig.update_xaxes(title_text='The number of Passengers')\n",
        "fig.update_yaxes(title_text='')\n",
        "fig.show()"
      ],
      "execution_count": null,
      "outputs": []
    },
    {
      "cell_type": "code",
      "metadata": {
        "_kg_hide-input": true,
        "execution": {
          "iopub.status.busy": "2021-10-27T19:15:17.217379Z",
          "iopub.execute_input": "2021-10-27T19:15:17.217684Z",
          "iopub.status.idle": "2021-10-27T19:15:17.266567Z",
          "shell.execute_reply.started": "2021-10-27T19:15:17.217647Z",
          "shell.execute_reply": "2021-10-27T19:15:17.265364Z"
        },
        "trusted": true,
        "id": "287elpu6LzA0"
      },
      "source": [
        "fig = px.bar(survived_or_not_port,x=\"Southampton\",title=\"Survived or Not (Port:Southampton)\")\n",
        "fig.update_xaxes(title_text='The number of Passengers')\n",
        "fig.update_yaxes(title_text='')\n",
        "fig.show()"
      ],
      "execution_count": null,
      "outputs": []
    },
    {
      "cell_type": "markdown",
      "metadata": {
        "id": "7fgaQaS5LzA0"
      },
      "source": [
        "# Survival Rate by port\n",
        "* Cherbourg: <span style=\"color: red; \">55.35%</span> (93/168)\n",
        "* Queenstown: 38.96% (30/77)\n",
        "* Southampton: 33.69% (217/644)"
      ]
    },
    {
      "cell_type": "markdown",
      "metadata": {
        "_kg_hide-input": false,
        "id": "-Npa1f75LzA1"
      },
      "source": [
        "* These graphs imply that passengers embarked at Cherbourg survived more than other passengers."
      ]
    },
    {
      "cell_type": "markdown",
      "metadata": {
        "id": "pO7OeUHjLzA1"
      },
      "source": [
        "# The correlation between Survived and \"Cabin\""
      ]
    },
    {
      "cell_type": "code",
      "metadata": {
        "execution": {
          "iopub.status.busy": "2021-10-27T19:15:17.268334Z",
          "iopub.execute_input": "2021-10-27T19:15:17.268738Z",
          "iopub.status.idle": "2021-10-27T19:15:17.276331Z",
          "shell.execute_reply.started": "2021-10-27T19:15:17.268694Z",
          "shell.execute_reply": "2021-10-27T19:15:17.275570Z"
        },
        "trusted": true,
        "id": "UqG2wLkYLzA1"
      },
      "source": [
        "train[\"Cabin\"].unique()"
      ],
      "execution_count": null,
      "outputs": []
    },
    {
      "cell_type": "markdown",
      "metadata": {
        "id": "1ezkDxLcLzA2"
      },
      "source": [
        "* We'll classify passengers by Cabin initials(A,B,C,D,E,F)\n",
        "* Cabin \"T\" and \"G6\" and missing values will be excluded."
      ]
    },
    {
      "cell_type": "code",
      "metadata": {
        "_kg_hide-input": true,
        "execution": {
          "iopub.status.busy": "2021-10-27T19:15:17.277346Z",
          "iopub.execute_input": "2021-10-27T19:15:17.277734Z",
          "iopub.status.idle": "2021-10-27T19:15:17.296588Z",
          "shell.execute_reply.started": "2021-10-27T19:15:17.277706Z",
          "shell.execute_reply": "2021-10-27T19:15:17.295652Z"
        },
        "trusted": true,
        "id": "EhWILc-NLzA2"
      },
      "source": [
        "cabin_initial = [0,0,0,0,0,0]\n",
        "cabin_initial_not = [0,0,0,0,0,0]\n",
        "for i in train[train[\"Survived\"] == \"Survived\"][\"Cabin\"]:\n",
        "    if list(str(i))[0] == \"A\":\n",
        "        cabin_initial[0] += 1\n",
        "    elif list(str(i))[0] == \"B\":\n",
        "        cabin_initial[1] += 1\n",
        "    elif list(str(i))[0] == \"C\":\n",
        "        cabin_initial[2] += 1\n",
        "    elif list(str(i))[0] == \"D\":\n",
        "        cabin_initial[3] += 1\n",
        "    elif list(str(i))[0] == \"E\":\n",
        "        cabin_initial[4] += 1\n",
        "    elif list(str(i))[0] == \"F\":\n",
        "        cabin_initial[5] += 1\n",
        "for i in train[train[\"Survived\"] != \"Survived\"][\"Cabin\"]:\n",
        "    if list(str(i))[0] == \"A\":\n",
        "        cabin_initial_not[0] += 1\n",
        "    elif list(str(i))[0] == \"B\":\n",
        "        cabin_initial_not[1] += 1\n",
        "    elif list(str(i))[0] == \"C\":\n",
        "        cabin_initial_not[2] += 1\n",
        "    elif list(str(i))[0] == \"D\":\n",
        "        cabin_initial_not[3] += 1\n",
        "    elif list(str(i))[0] == \"E\":\n",
        "        cabin_initial_not[4] += 1\n",
        "    elif list(str(i))[0] == \"F\":\n",
        "        cabin_initial_not[5] += 1\n",
        "    \n",
        "        "
      ],
      "execution_count": null,
      "outputs": []
    },
    {
      "cell_type": "code",
      "metadata": {
        "_kg_hide-input": true,
        "execution": {
          "iopub.status.busy": "2021-10-27T19:15:17.297576Z",
          "iopub.execute_input": "2021-10-27T19:15:17.297957Z",
          "iopub.status.idle": "2021-10-27T19:15:17.311508Z",
          "shell.execute_reply.started": "2021-10-27T19:15:17.297930Z",
          "shell.execute_reply": "2021-10-27T19:15:17.310509Z"
        },
        "trusted": true,
        "id": "AOb9JMxtLzA2"
      },
      "source": [
        "survived_cabin = pd.DataFrame(data=[[cabin_initial[0],cabin_initial[1],cabin_initial[2],cabin_initial[3],cabin_initial[4],cabin_initial[5]],\n",
        "                                     [cabin_initial_not[0],cabin_initial_not[1],cabin_initial_not[2],cabin_initial_not[3],cabin_initial_not[4],cabin_initial_not[5]]],\n",
        "                                    columns=[\"Cabin Initials A\",\"Cabin Initials B\",\"Cabin Initials C\",\"Cabin Initials D\",\"Cabin Initials E\",\"Cabin Initials F\"],index = [\"Survived\",\"Not Survived\"])"
      ],
      "execution_count": null,
      "outputs": []
    },
    {
      "cell_type": "code",
      "metadata": {
        "_kg_hide-input": true,
        "execution": {
          "iopub.status.busy": "2021-10-27T19:15:17.312963Z",
          "iopub.execute_input": "2021-10-27T19:15:17.313294Z",
          "iopub.status.idle": "2021-10-27T19:15:17.334028Z",
          "shell.execute_reply.started": "2021-10-27T19:15:17.313239Z",
          "shell.execute_reply": "2021-10-27T19:15:17.332764Z"
        },
        "trusted": true,
        "id": "K7DL-udkLzA2"
      },
      "source": [
        "survived_cabin"
      ],
      "execution_count": null,
      "outputs": []
    },
    {
      "cell_type": "code",
      "metadata": {
        "_kg_hide-input": true,
        "execution": {
          "iopub.status.busy": "2021-10-27T19:15:17.335761Z",
          "iopub.execute_input": "2021-10-27T19:15:17.336314Z",
          "iopub.status.idle": "2021-10-27T19:15:17.385643Z",
          "shell.execute_reply.started": "2021-10-27T19:15:17.336247Z",
          "shell.execute_reply": "2021-10-27T19:15:17.384599Z"
        },
        "trusted": true,
        "id": "C2ojZvn0LzA2"
      },
      "source": [
        "fig = px.bar(survived_cabin,x=\"Cabin Initials A\",title=\"Survived or Not (Cabin: initials A)\")\n",
        "fig.update_xaxes(title_text='The number of Passengers')\n",
        "fig.update_yaxes(title_text='')\n",
        "fig.show()"
      ],
      "execution_count": null,
      "outputs": []
    },
    {
      "cell_type": "code",
      "metadata": {
        "_kg_hide-input": true,
        "execution": {
          "iopub.status.busy": "2021-10-27T19:15:17.387273Z",
          "iopub.execute_input": "2021-10-27T19:15:17.387682Z",
          "iopub.status.idle": "2021-10-27T19:15:17.437661Z",
          "shell.execute_reply.started": "2021-10-27T19:15:17.387629Z",
          "shell.execute_reply": "2021-10-27T19:15:17.436651Z"
        },
        "trusted": true,
        "id": "eqQ422HNLzA3"
      },
      "source": [
        "fig = px.bar(survived_cabin,x=\"Cabin Initials B\",title=\"Survived or Not (Cabin: initials B)\")\n",
        "fig.update_xaxes(title_text='The number of Passengers')\n",
        "fig.update_yaxes(title_text='')\n",
        "fig.show()"
      ],
      "execution_count": null,
      "outputs": []
    },
    {
      "cell_type": "code",
      "metadata": {
        "_kg_hide-input": true,
        "execution": {
          "iopub.status.busy": "2021-10-27T19:15:17.439190Z",
          "iopub.execute_input": "2021-10-27T19:15:17.439731Z",
          "iopub.status.idle": "2021-10-27T19:15:17.489709Z",
          "shell.execute_reply.started": "2021-10-27T19:15:17.439702Z",
          "shell.execute_reply": "2021-10-27T19:15:17.489016Z"
        },
        "trusted": true,
        "id": "E_tDCu0jLzA3"
      },
      "source": [
        "fig = px.bar(survived_cabin,x=\"Cabin Initials C\",title=\"Survived or Not (Cabin: initials C)\")\n",
        "fig.update_xaxes(title_text='The number of Passengers')\n",
        "fig.update_yaxes(title_text='')\n",
        "fig.show()"
      ],
      "execution_count": null,
      "outputs": []
    },
    {
      "cell_type": "code",
      "metadata": {
        "_kg_hide-input": true,
        "execution": {
          "iopub.status.busy": "2021-10-27T19:15:17.490598Z",
          "iopub.execute_input": "2021-10-27T19:15:17.490945Z",
          "iopub.status.idle": "2021-10-27T19:15:17.540333Z",
          "shell.execute_reply.started": "2021-10-27T19:15:17.490919Z",
          "shell.execute_reply": "2021-10-27T19:15:17.539337Z"
        },
        "trusted": true,
        "id": "gzvIy_KYLzA4"
      },
      "source": [
        "fig = px.bar(survived_cabin,x=\"Cabin Initials D\",title=\"Survived or Not (Cabin: initials D)\")\n",
        "fig.update_xaxes(title_text='The number of Passengers')\n",
        "fig.update_yaxes(title_text='')\n",
        "fig.show()"
      ],
      "execution_count": null,
      "outputs": []
    },
    {
      "cell_type": "code",
      "metadata": {
        "_kg_hide-input": true,
        "execution": {
          "iopub.status.busy": "2021-10-27T19:15:17.541690Z",
          "iopub.execute_input": "2021-10-27T19:15:17.542235Z",
          "iopub.status.idle": "2021-10-27T19:15:17.593162Z",
          "shell.execute_reply.started": "2021-10-27T19:15:17.542193Z",
          "shell.execute_reply": "2021-10-27T19:15:17.592199Z"
        },
        "trusted": true,
        "id": "zvljNCmVLzA4"
      },
      "source": [
        "fig = px.bar(survived_cabin,x=\"Cabin Initials E\",title=\"Survived or Not (Cabin: initials E)\")\n",
        "fig.update_xaxes(title_text='The number of Passengers')\n",
        "fig.update_yaxes(title_text='')\n",
        "fig.show()"
      ],
      "execution_count": null,
      "outputs": []
    },
    {
      "cell_type": "code",
      "metadata": {
        "_kg_hide-input": true,
        "execution": {
          "iopub.status.busy": "2021-10-27T19:15:17.594511Z",
          "iopub.execute_input": "2021-10-27T19:15:17.595058Z",
          "iopub.status.idle": "2021-10-27T19:15:17.645776Z",
          "shell.execute_reply.started": "2021-10-27T19:15:17.595017Z",
          "shell.execute_reply": "2021-10-27T19:15:17.644790Z"
        },
        "trusted": true,
        "id": "5ZFQvbAcLzA5"
      },
      "source": [
        "fig = px.bar(survived_cabin,x=\"Cabin Initials F\",title=\"Survived or Not (Cabin: initials F)\")\n",
        "fig.update_xaxes(title_text='The number of Passengers')\n",
        "fig.update_yaxes(title_text='')\n",
        "fig.show()"
      ],
      "execution_count": null,
      "outputs": []
    },
    {
      "cell_type": "markdown",
      "metadata": {
        "id": "_8DyhGnqLzA5"
      },
      "source": [
        "# Survival Rate by room number initials\n",
        "* A: <span style=\"color: blue; \">46.66%</span> (7/15)\n",
        "* B: 74.46% (35/47)\n",
        "* C: 71.42% (35/49)\n",
        "* D: 75.75% (25/33)\n",
        "* E: 75.00% (24/32)\n",
        "* F: 61.53% (8/13)"
      ]
    },
    {
      "cell_type": "markdown",
      "metadata": {
        "id": "TRNzaJEmLzA6"
      },
      "source": [
        "* These graphs imply that there is a correlation between Survived and Cabin.\n",
        "* Survival rate of passengers whose cabin(room number) starts with \"A\" was less than 50%.\n"
      ]
    },
    {
      "cell_type": "markdown",
      "metadata": {
        "id": "vW2dUACwLzA6"
      },
      "source": [
        "<h2 style='background:#FFFFFF; border:0; color:black'><center>The number of missing values(NaN)<center><h2>"
      ]
    },
    {
      "cell_type": "markdown",
      "metadata": {
        "id": "1VKbhCaLLzA7"
      },
      "source": [
        "# Columns contain missing values"
      ]
    },
    {
      "cell_type": "code",
      "metadata": {
        "_kg_hide-input": true,
        "execution": {
          "iopub.status.busy": "2021-10-27T19:15:17.647087Z",
          "iopub.execute_input": "2021-10-27T19:15:17.647637Z",
          "iopub.status.idle": "2021-10-27T19:15:17.656945Z",
          "shell.execute_reply.started": "2021-10-27T19:15:17.647597Z",
          "shell.execute_reply": "2021-10-27T19:15:17.656166Z"
        },
        "trusted": true,
        "id": "qrYpo2_ULzA7"
      },
      "source": [
        "train.isnull().sum()"
      ],
      "execution_count": null,
      "outputs": []
    },
    {
      "cell_type": "code",
      "metadata": {
        "_kg_hide-input": true,
        "execution": {
          "iopub.status.busy": "2021-10-27T19:15:17.657965Z",
          "iopub.execute_input": "2021-10-27T19:15:17.658378Z",
          "iopub.status.idle": "2021-10-27T19:15:17.666559Z",
          "shell.execute_reply.started": "2021-10-27T19:15:17.658349Z",
          "shell.execute_reply": "2021-10-27T19:15:17.665633Z"
        },
        "trusted": true,
        "id": "4o3VSWZWLzA8"
      },
      "source": [
        "test.isnull().sum()"
      ],
      "execution_count": null,
      "outputs": []
    },
    {
      "cell_type": "code",
      "metadata": {
        "_kg_hide-input": true,
        "execution": {
          "iopub.status.busy": "2021-10-27T19:15:17.668097Z",
          "iopub.execute_input": "2021-10-27T19:15:17.668652Z",
          "iopub.status.idle": "2021-10-27T19:15:17.676343Z",
          "shell.execute_reply.started": "2021-10-27T19:15:17.668613Z",
          "shell.execute_reply": "2021-10-27T19:15:17.675368Z"
        },
        "trusted": true,
        "id": "df7gn3O7LzA9"
      },
      "source": [
        "missing_train = train.isnull().sum()\n",
        "missing_test = test.isnull().sum()"
      ],
      "execution_count": null,
      "outputs": []
    },
    {
      "cell_type": "code",
      "metadata": {
        "_kg_hide-input": true,
        "execution": {
          "iopub.status.busy": "2021-10-27T19:15:17.677806Z",
          "iopub.execute_input": "2021-10-27T19:15:17.678395Z",
          "iopub.status.idle": "2021-10-27T19:15:17.687027Z",
          "shell.execute_reply.started": "2021-10-27T19:15:17.678352Z",
          "shell.execute_reply": "2021-10-27T19:15:17.685844Z"
        },
        "trusted": true,
        "id": "bcHSql7gLzA9"
      },
      "source": [
        "missing_values = pd.DataFrame(data=[missing_train,missing_test],index=['train','test'])"
      ],
      "execution_count": null,
      "outputs": []
    },
    {
      "cell_type": "code",
      "metadata": {
        "_kg_hide-input": true,
        "execution": {
          "iopub.status.busy": "2021-10-27T19:15:17.688531Z",
          "iopub.execute_input": "2021-10-27T19:15:17.689042Z",
          "iopub.status.idle": "2021-10-27T19:15:17.696698Z",
          "shell.execute_reply.started": "2021-10-27T19:15:17.689009Z",
          "shell.execute_reply": "2021-10-27T19:15:17.695786Z"
        },
        "trusted": true,
        "id": "Jvb-Zr_VLzBC"
      },
      "source": [
        "missing_values = missing_values.T"
      ],
      "execution_count": null,
      "outputs": []
    },
    {
      "cell_type": "code",
      "metadata": {
        "_kg_hide-input": true,
        "execution": {
          "iopub.status.busy": "2021-10-27T19:15:17.697872Z",
          "iopub.execute_input": "2021-10-27T19:15:17.698304Z",
          "iopub.status.idle": "2021-10-27T19:15:17.714890Z",
          "shell.execute_reply.started": "2021-10-27T19:15:17.698241Z",
          "shell.execute_reply": "2021-10-27T19:15:17.713987Z"
        },
        "trusted": true,
        "id": "vnE8wWHVLzBC"
      },
      "source": [
        "missing_values"
      ],
      "execution_count": null,
      "outputs": []
    },
    {
      "cell_type": "markdown",
      "metadata": {
        "id": "aVTzh-XPLzBD"
      },
      "source": [
        "* \"Survived\" in the test column is NaN because test.csv doesn't have \"Survived\" column."
      ]
    },
    {
      "cell_type": "code",
      "metadata": {
        "_kg_hide-input": true,
        "execution": {
          "iopub.status.busy": "2021-10-27T19:15:17.716077Z",
          "iopub.execute_input": "2021-10-27T19:15:17.716509Z",
          "iopub.status.idle": "2021-10-27T19:15:17.768696Z",
          "shell.execute_reply.started": "2021-10-27T19:15:17.716474Z",
          "shell.execute_reply": "2021-10-27T19:15:17.767851Z"
        },
        "trusted": true,
        "id": "PcM9n2Z2LzBD"
      },
      "source": [
        "fig = px.bar(missing_values,x=\"train\",title=\"Missing Values(train.csv)\")\n",
        "fig.update_xaxes(title_text='The number of missing values')\n",
        "fig.update_yaxes(title_text='Columns')\n",
        "fig.show()"
      ],
      "execution_count": null,
      "outputs": []
    },
    {
      "cell_type": "code",
      "metadata": {
        "_kg_hide-input": true,
        "execution": {
          "iopub.status.busy": "2021-10-27T19:15:17.769868Z",
          "iopub.execute_input": "2021-10-27T19:15:17.770135Z",
          "iopub.status.idle": "2021-10-27T19:15:17.819404Z",
          "shell.execute_reply.started": "2021-10-27T19:15:17.770108Z",
          "shell.execute_reply": "2021-10-27T19:15:17.818344Z"
        },
        "trusted": true,
        "id": "xQrkws9qLzBD"
      },
      "source": [
        "fig = px.bar(missing_values,x=\"test\",title=\"Missing Values(test.csv)\")\n",
        "fig.update_xaxes(title_text='The number of missing values')\n",
        "fig.update_yaxes(title_text='Columns')\n",
        "fig.show()"
      ],
      "execution_count": null,
      "outputs": []
    },
    {
      "cell_type": "markdown",
      "metadata": {
        "id": "3W9wq8W9LzBE"
      },
      "source": [
        "# Thank you for reading!  \n",
        "# If you like, feel free to upvote!"
      ]
    }
  ]
}